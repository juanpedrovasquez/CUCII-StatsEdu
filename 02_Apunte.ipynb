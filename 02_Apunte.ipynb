{
 "cells": [
  {
   "cell_type": "markdown",
   "metadata": {},
   "source": [
    "<img src=\"http://universidadcucii.mx/img/demos/law-firm/logo.png\" width=\"150\">\n",
    "\n",
    "# Universidad CUCII \n",
    "## Estadística para la Educación\n",
    "\n",
    "### Sesión 03/05 (Sábado 2018-06-16)"
   ]
  },
  {
   "cell_type": "markdown",
   "metadata": {},
   "source": [
    "#### 0. Repaso: leer datos de un CSV y graficar un barplot con colores y leyenda"
   ]
  },
  {
   "cell_type": "markdown",
   "metadata": {},
   "source": [
    "Bajar los archivos de la sesión 03/05 y colocar el archivo **5toBimLimpio.csv** en la ruta determinada por la orden *getwd()* de R"
   ]
  },
  {
   "cell_type": "code",
   "execution_count": 1,
   "metadata": {},
   "outputs": [
    {
     "data": {
      "text/html": [
       "'/home/ani/Dropbox/sonora/CUCII-StatsEdu'"
      ],
      "text/latex": [
       "'/home/ani/Dropbox/sonora/CUCII-StatsEdu'"
      ],
      "text/markdown": [
       "'/home/ani/Dropbox/sonora/CUCII-StatsEdu'"
      ],
      "text/plain": [
       "[1] \"/home/ani/Dropbox/sonora/CUCII-StatsEdu\""
      ]
     },
     "metadata": {},
     "output_type": "display_data"
    }
   ],
   "source": [
    "getwd()"
   ]
  },
  {
   "cell_type": "code",
   "execution_count": 3,
   "metadata": {},
   "outputs": [
    {
     "data": {
      "text/html": [
       "<table>\n",
       "<thead><tr><th scope=col>mat</th><th scope=col>nombrecompleto</th><th scope=col>bim.ptos</th><th scope=col>bim.calif</th><th scope=col>bim.faltas</th><th scope=col>bim.demers</th><th scope=col>bim.ptos.1</th><th scope=col>bim.calif.1</th><th scope=col>bim.faltas.1</th><th scope=col>bim.demers.1</th><th scope=col>bim.ptos.2</th><th scope=col>bim.calif.2</th><th scope=col>bim.faltas.2</th><th scope=col>bim.demers.2</th></tr></thead>\n",
       "<tbody>\n",
       "\t<tr><td>9737                                </td><td>ALVAREZ SÁNCHEZ KEVIN ALEXIS        </td><td>110                                 </td><td> 9.0                                </td><td>1                                   </td><td>0                                   </td><td>113                                 </td><td> 9.3                                </td><td>1                                   </td><td>0                                   </td><td>112                                 </td><td> 9.2                                </td><td>2                                   </td><td>0                                   </td></tr>\n",
       "\t<tr><td>9628                                </td><td>ARROYO RUBIO IÑAKI IAN              </td><td>110                                 </td><td> 9.0                                </td><td>0                                   </td><td>0                                   </td><td>110                                 </td><td> 9.0                                </td><td>0                                   </td><td>0                                   </td><td>110                                 </td><td> 9.0                                </td><td>0                                   </td><td>0                                   </td></tr>\n",
       "\t<tr><td>7801                                </td><td>GUZMÁN ESPINOZA IVAN                </td><td> 95                                 </td><td> 7.5                                </td><td>0                                   </td><td>0                                   </td><td> 95                                 </td><td> 7.5                                </td><td>0                                   </td><td>0                                   </td><td> 95                                 </td><td> 7.5                                </td><td>0                                   </td><td>0                                   </td></tr>\n",
       "\t<tr><td>7529                                </td><td>HERNÁNDEZ GRANADOS YESENIA ESMERALDA</td><td>120                                 </td><td>10.0                                </td><td>1                                   </td><td>0                                   </td><td>120                                 </td><td>10.0                                </td><td>1                                   </td><td>0                                   </td><td>120                                 </td><td>10.0                                </td><td>2                                   </td><td>0                                   </td></tr>\n",
       "\t<tr><td>6137                                </td><td>LUNA BECERRA LILIANA                </td><td>115                                 </td><td> 9.5                                </td><td>0                                   </td><td>0                                   </td><td>118                                 </td><td> 9.8                                </td><td>0                                   </td><td>0                                   </td><td>117                                 </td><td> 9.7                                </td><td>0                                   </td><td>0                                   </td></tr>\n",
       "\t<tr><td>6079                                </td><td>MARTÍNEZ CASTELLANOS HAZEL          </td><td>120                                 </td><td>10.0                                </td><td>0                                   </td><td>0                                   </td><td>120                                 </td><td>10.0                                </td><td>0                                   </td><td>0                                   </td><td>120                                 </td><td>10.0                                </td><td>0                                   </td><td>0                                   </td></tr>\n",
       "</tbody>\n",
       "</table>\n"
      ],
      "text/latex": [
       "\\begin{tabular}{r|llllllllllllll}\n",
       " mat & nombrecompleto & bim.ptos & bim.calif & bim.faltas & bim.demers & bim.ptos.1 & bim.calif.1 & bim.faltas.1 & bim.demers.1 & bim.ptos.2 & bim.calif.2 & bim.faltas.2 & bim.demers.2\\\\\n",
       "\\hline\n",
       "\t 9737                                 & ALVAREZ SÁNCHEZ KEVIN ALEXIS         & 110                                  &  9.0                                 & 1                                    & 0                                    & 113                                  &  9.3                                 & 1                                    & 0                                    & 112                                  &  9.2                                 & 2                                    & 0                                   \\\\\n",
       "\t 9628                                 & ARROYO RUBIO IÑAKI IAN               & 110                                  &  9.0                                 & 0                                    & 0                                    & 110                                  &  9.0                                 & 0                                    & 0                                    & 110                                  &  9.0                                 & 0                                    & 0                                   \\\\\n",
       "\t 7801                                 & GUZMÁN ESPINOZA IVAN                 &  95                                  &  7.5                                 & 0                                    & 0                                    &  95                                  &  7.5                                 & 0                                    & 0                                    &  95                                  &  7.5                                 & 0                                    & 0                                   \\\\\n",
       "\t 7529                                 & HERNÁNDEZ GRANADOS YESENIA ESMERALDA & 120                                  & 10.0                                 & 1                                    & 0                                    & 120                                  & 10.0                                 & 1                                    & 0                                    & 120                                  & 10.0                                 & 2                                    & 0                                   \\\\\n",
       "\t 6137                                 & LUNA BECERRA LILIANA                 & 115                                  &  9.5                                 & 0                                    & 0                                    & 118                                  &  9.8                                 & 0                                    & 0                                    & 117                                  &  9.7                                 & 0                                    & 0                                   \\\\\n",
       "\t 6079                                 & MARTÍNEZ CASTELLANOS HAZEL           & 120                                  & 10.0                                 & 0                                    & 0                                    & 120                                  & 10.0                                 & 0                                    & 0                                    & 120                                  & 10.0                                 & 0                                    & 0                                   \\\\\n",
       "\\end{tabular}\n"
      ],
      "text/markdown": [
       "\n",
       "mat | nombrecompleto | bim.ptos | bim.calif | bim.faltas | bim.demers | bim.ptos.1 | bim.calif.1 | bim.faltas.1 | bim.demers.1 | bim.ptos.2 | bim.calif.2 | bim.faltas.2 | bim.demers.2 | \n",
       "|---|---|---|---|---|---|\n",
       "| 9737                                 | ALVAREZ SÁNCHEZ KEVIN ALEXIS         | 110                                  |  9.0                                 | 1                                    | 0                                    | 113                                  |  9.3                                 | 1                                    | 0                                    | 112                                  |  9.2                                 | 2                                    | 0                                    | \n",
       "| 9628                                 | ARROYO RUBIO IÑAKI IAN               | 110                                  |  9.0                                 | 0                                    | 0                                    | 110                                  |  9.0                                 | 0                                    | 0                                    | 110                                  |  9.0                                 | 0                                    | 0                                    | \n",
       "| 7801                                 | GUZMÁN ESPINOZA IVAN                 |  95                                  |  7.5                                 | 0                                    | 0                                    |  95                                  |  7.5                                 | 0                                    | 0                                    |  95                                  |  7.5                                 | 0                                    | 0                                    | \n",
       "| 7529                                 | HERNÁNDEZ GRANADOS YESENIA ESMERALDA | 120                                  | 10.0                                 | 1                                    | 0                                    | 120                                  | 10.0                                 | 1                                    | 0                                    | 120                                  | 10.0                                 | 2                                    | 0                                    | \n",
       "| 6137                                 | LUNA BECERRA LILIANA                 | 115                                  |  9.5                                 | 0                                    | 0                                    | 118                                  |  9.8                                 | 0                                    | 0                                    | 117                                  |  9.7                                 | 0                                    | 0                                    | \n",
       "| 6079                                 | MARTÍNEZ CASTELLANOS HAZEL           | 120                                  | 10.0                                 | 0                                    | 0                                    | 120                                  | 10.0                                 | 0                                    | 0                                    | 120                                  | 10.0                                 | 0                                    | 0                                    | \n",
       "\n",
       "\n"
      ],
      "text/plain": [
       "  mat  nombrecompleto                       bim.ptos bim.calif bim.faltas\n",
       "1 9737 ALVAREZ SÁNCHEZ KEVIN ALEXIS         110       9.0      1         \n",
       "2 9628 ARROYO RUBIO IÑAKI IAN               110       9.0      0         \n",
       "3 7801 GUZMÁN ESPINOZA IVAN                  95       7.5      0         \n",
       "4 7529 HERNÁNDEZ GRANADOS YESENIA ESMERALDA 120      10.0      1         \n",
       "5 6137 LUNA BECERRA LILIANA                 115       9.5      0         \n",
       "6 6079 MARTÍNEZ CASTELLANOS HAZEL           120      10.0      0         \n",
       "  bim.demers bim.ptos.1 bim.calif.1 bim.faltas.1 bim.demers.1 bim.ptos.2\n",
       "1 0          113         9.3        1            0            112       \n",
       "2 0          110         9.0        0            0            110       \n",
       "3 0           95         7.5        0            0             95       \n",
       "4 0          120        10.0        1            0            120       \n",
       "5 0          118         9.8        0            0            117       \n",
       "6 0          120        10.0        0            0            120       \n",
       "  bim.calif.2 bim.faltas.2 bim.demers.2\n",
       "1  9.2        2            0           \n",
       "2  9.0        0            0           \n",
       "3  7.5        0            0           \n",
       "4 10.0        2            0           \n",
       "5  9.7        0            0           \n",
       "6 10.0        0            0           "
      ]
     },
     "metadata": {},
     "output_type": "display_data"
    }
   ],
   "source": [
    "datos <- read.csv(\"5tobimLimpio.csv\")\n",
    "head(datos) #esta orden sirve para ver el inicio de los datos, la cabecita"
   ]
  },
  {
   "cell_type": "code",
   "execution_count": 4,
   "metadata": {},
   "outputs": [
    {
     "data": {
      "image/png": "[encoded data removed]",
      "text/plain": [
       "plot without title"
      ]
     },
     "metadata": {},
     "output_type": "display_data"
    }
   ],
   "source": [
    "#gráfica de barras del bimestre\n",
    "barplot(datos$bim.calif.2)"
   ]
  },
  {
   "cell_type": "code",
   "execution_count": 5,
   "metadata": {},
   "outputs": [
    {
     "data": {
      "image/png": "[encoded data removed]",
      "text/plain": [
       "plot without title"
      ]
     },
     "metadata": {},
     "output_type": "display_data"
    }
   ],
   "source": [
    "#pongamos colores\n",
    "barplot(datos$bim.calif.2,col=\"pink\")"
   ]
  },
  {
   "cell_type": "code",
   "execution_count": 6,
   "metadata": {},
   "outputs": [
    {
     "data": {
      "image/png": "[encoded data removed]",
      "text/plain": [
       "plot without title"
      ]
     },
     "metadata": {},
     "output_type": "display_data"
    }
   ],
   "source": [
    "#ahora con etiquetas en el eje x\n",
    "barplot(datos$bim.calif.2, col=\"red\",names.arg = datos$mat)"
   ]
  },
  {
   "cell_type": "code",
   "execution_count": 9,
   "metadata": {},
   "outputs": [
    {
     "data": {
      "image/png": "[encoded data removed]",
      "text/plain": [
       "plot without title"
      ]
     },
     "metadata": {},
     "output_type": "display_data"
    }
   ],
   "source": [
    "#ahora con nombres largos en vertical (las) y letras de menor tamaño (cex.names)\n",
    "barplot(datos$bim.calif.2, col=\"lightgreen\",names.arg = datos$nombrecompleto,\n",
    "        las=2, cex.names = 0.5)"
   ]
  },
  {
   "cell_type": "markdown",
   "metadata": {},
   "source": [
    "#### 1. Población y muestra"
   ]
  },
  {
   "cell_type": "code",
   "execution_count": 10,
   "metadata": {},
   "outputs": [
    {
     "data": {
      "text/html": [
       "<ol class=list-inline>\n",
       "\t<li>6.75366484107342</li>\n",
       "\t<li>8.5380340954131</li>\n",
       "\t<li>10.7197356409462</li>\n",
       "\t<li>9.37765460867954</li>\n",
       "\t<li>9.06397282939043</li>\n",
       "\t<li>9.29526622114621</li>\n",
       "</ol>\n"
      ],
      "text/latex": [
       "\\begin{enumerate*}\n",
       "\\item 6.75366484107342\n",
       "\\item 8.5380340954131\n",
       "\\item 10.7197356409462\n",
       "\\item 9.37765460867954\n",
       "\\item 9.06397282939043\n",
       "\\item 9.29526622114621\n",
       "\\end{enumerate*}\n"
      ],
      "text/markdown": [
       "1. 6.75366484107342\n",
       "2. 8.5380340954131\n",
       "3. 10.7197356409462\n",
       "4. 9.37765460867954\n",
       "5. 9.06397282939043\n",
       "6. 9.29526622114621\n",
       "\n",
       "\n"
      ],
      "text/plain": [
       "[1]  6.753665  8.538034 10.719736  9.377655  9.063973  9.295266"
      ]
     },
     "metadata": {},
     "output_type": "display_data"
    }
   ],
   "source": [
    "#poblacion de 6 millones de elementos, \n",
    "poblacion <- rnorm(n = 3e6, mean = 7.5, sd = 1.5)\n",
    "head(poblacion)"
   ]
  },
  {
   "cell_type": "code",
   "execution_count": 11,
   "metadata": {},
   "outputs": [
    {
     "data": {
      "text/html": [
       "<ol class=list-inline>\n",
       "\t<li>6.1</li>\n",
       "\t<li>6.48</li>\n",
       "\t<li>4.34</li>\n",
       "\t<li>8.28</li>\n",
       "\t<li>10.18</li>\n",
       "\t<li>5.35</li>\n",
       "</ol>\n"
      ],
      "text/latex": [
       "\\begin{enumerate*}\n",
       "\\item 6.1\n",
       "\\item 6.48\n",
       "\\item 4.34\n",
       "\\item 8.28\n",
       "\\item 10.18\n",
       "\\item 5.35\n",
       "\\end{enumerate*}\n"
      ],
      "text/markdown": [
       "1. 6.1\n",
       "2. 6.48\n",
       "3. 4.34\n",
       "4. 8.28\n",
       "5. 10.18\n",
       "6. 5.35\n",
       "\n",
       "\n"
      ],
      "text/plain": [
       "[1]  6.10  6.48  4.34  8.28 10.18  5.35"
      ]
     },
     "metadata": {},
     "output_type": "display_data"
    }
   ],
   "source": [
    "#redondeamos a 2 cifras para que parezcan calificaciones \"reales\"\n",
    "poblacion <- round(x = rnorm(n = 3e6, mean = 7.5, sd = 1.5),digits = 2)\n",
    "head(poblacion)"
   ]
  },
  {
   "cell_type": "code",
   "execution_count": 12,
   "metadata": {},
   "outputs": [
    {
     "data": {
      "text/plain": [
       "   Min. 1st Qu.  Median    Mean 3rd Qu.    Max. \n",
       "  0.020   6.490   7.500   7.499   8.510  15.040 "
      ]
     },
     "metadata": {},
     "output_type": "display_data"
    }
   ],
   "source": [
    "#resumen de datos de la población\n",
    "summary(poblacion)"
   ]
  },
  {
   "cell_type": "code",
   "execution_count": 13,
   "metadata": {},
   "outputs": [
    {
     "data": {
      "image/png": "[encoded data removed]",
      "text/plain": [
       "Plot with title “Histogram of poblacion”"
      ]
     },
     "metadata": {},
     "output_type": "display_data"
    }
   ],
   "source": [
    "#histograma de la población\n",
    "hist(poblacion)"
   ]
  },
  {
   "cell_type": "code",
   "execution_count": 14,
   "metadata": {},
   "outputs": [
    {
     "data": {
      "text/plain": [
       "   Min. 1st Qu.  Median    Mean 3rd Qu.    Max. \n",
       "  2.380   6.305   7.350   7.349   8.373  12.090 "
      ]
     },
     "metadata": {},
     "output_type": "display_data"
    }
   ],
   "source": [
    "#hagamos una muestra pequeña de apenas 400 elementos\n",
    "muestra <- sample(x = poblacion, size = 400)\n",
    "summary(muestra)"
   ]
  },
  {
   "cell_type": "code",
   "execution_count": 15,
   "metadata": {},
   "outputs": [
    {
     "data": {
      "text/plain": [
       "   Min. 1st Qu.  Median    Mean 3rd Qu.    Max. \n",
       "  0.020   6.490   7.500   7.499   8.510  15.040 "
      ]
     },
     "metadata": {},
     "output_type": "display_data"
    }
   ],
   "source": [
    "summary(poblacion)"
   ]
  },
  {
   "cell_type": "markdown",
   "metadata": {},
   "source": [
    "¡Se parecen muchoooo! Sobre todo la mediana y la media, los cuartiles... para eso es la estadística: para inferir desde la muestra las características de la población"
   ]
  },
  {
   "cell_type": "code",
   "execution_count": 16,
   "metadata": {},
   "outputs": [
    {
     "data": {
      "image/png": "[encoded data removed]",
      "text/plain": [
       "plot without title"
      ]
     },
     "metadata": {},
     "output_type": "display_data"
    }
   ],
   "source": [
    "boxplot(poblacion,muestra)"
   ]
  },
  {
   "cell_type": "markdown",
   "metadata": {},
   "source": [
    "#### 2. Instalación de paquetes *(packages)* para funcionalidad extendida\n",
    "Instalemos el paquete **\"docxtractr\"** para extraer datos archivos MS Word 2013  y versiones superiores, es decir, documentos con extensión *.docx*, que como su estructura está basada en XML, a R le es sencillo acceder a los datos contenidos en tablas."
   ]
  },
  {
   "cell_type": "code",
   "execution_count": 3,
   "metadata": {},
   "outputs": [
    {
     "name": "stderr",
     "output_type": "stream",
     "text": [
      "Installing package into ‘/home/ani/R/x86_64-pc-linux-gnu-library/3.4’\n",
      "(as ‘lib’ is unspecified)\n"
     ]
    }
   ],
   "source": [
    "install.packages(\"docxtractr\")"
   ]
  },
  {
   "cell_type": "code",
   "execution_count": 2,
   "metadata": {},
   "outputs": [],
   "source": [
    "library(docxtractr)"
   ]
  },
  {
   "cell_type": "markdown",
   "metadata": {},
   "source": [
    "Visitemos [Resultados del ENARM](http://www.cifrhs.salud.gob.mx/site1/enarm/reportes_academicos.html) y bajemos el archivo de resultados del Examen Nacional para Aspirantes a Residencias Médicas, correspondiente al **año 2001**. Transformemos el archivo de extensión 'doc' a 'docx'. **Y borremos los encabezados innecesarios.**\n",
    "\n",
    "Intentemos responder las siguientes preguntas:\n",
    "1. ¿Qué probabilidad de éxito tuvo ese examen en ese año?\n",
    "1. ¿Qué eficiencia (Seleccionados/Sustentantes) tiene cada universidad?\n",
    "1. ¿Cuál universidad tiene la máxima eficiencia?\n",
    "1. ¿Cuál universidad tiene la peor eficiencia?\n",
    "1. ¿Qué universidades tienen una eficiencia en el 3er cuartil?"
   ]
  },
  {
   "cell_type": "code",
   "execution_count": 5,
   "metadata": {},
   "outputs": [
    {
     "name": "stderr",
     "output_type": "stream",
     "text": [
      "No comments in document\n"
     ]
    },
    {
     "data": {
      "text/plain": [
       "Word document [E25_enarm_ra_2001.docx]\n",
       "\n",
       "Table 1\n",
       "  total cells: 716\n",
       "  row count  : 104\n",
       "  uniform    : unlikely => found differing cell counts (7, 1) across some rows\n",
       "  has header : unlikely\n"
      ]
     },
     "metadata": {},
     "output_type": "display_data"
    }
   ],
   "source": [
    "#el archivo 2001 también está disponible en la página del curso\n",
    "archi <- read_docx(\"E25_enarm_ra_2001.docx\")\n",
    "archi"
   ]
  },
  {
   "cell_type": "code",
   "execution_count": 6,
   "metadata": {},
   "outputs": [
    {
     "data": {
      "text/html": [
       "<table>\n",
       "<thead><tr><th scope=col>Instituciones Educativas</th><th scope=col>Médicos Inscritos</th><th scope=col>Médicos Sustentantes</th><th scope=col>Médicos Seleccionados</th><th scope=col>Resultados Secciones en Español</th><th scope=col>Resultados Sección en Inglés</th><th scope=col>Total</th></tr></thead>\n",
       "<tbody>\n",
       "\t<tr><td>AGUASCALIENTES                                       </td><td>                                                     </td><td>                                                     </td><td>                                                     </td><td>                                                     </td><td>                                                     </td><td>                                                     </td></tr>\n",
       "\t<tr><td>Universidad Autónoma de  Aguascalientes              </td><td>119                                                  </td><td>115                                                  </td><td>35                                                   </td><td>41.50                                                </td><td>5.84                                                 </td><td>47.34                                                </td></tr>\n",
       "\t<tr><td>BAJA CALIFORNIA                                      </td><td>                                                     </td><td>                                                     </td><td>                                                     </td><td>                                                     </td><td>                                                     </td><td>                                                     </td></tr>\n",
       "\t<tr><td>Universidad Autónoma de Baja California-Mexicali     </td><td>155                                                  </td><td>147                                                  </td><td>73                                                   </td><td>45.38                                                </td><td>6.30                                                 </td><td>51.68                                                </td></tr>\n",
       "\t<tr><td>Universidad Autónoma de Baja California-Tijuana      </td><td>106                                                  </td><td>98                                                   </td><td>33                                                   </td><td>43.07                                                </td><td>6.71                                                 </td><td>49.78                                                </td></tr>\n",
       "\t<tr><td>Centro de Estudios Universitarios Xochicalco-Ensenada</td><td>27                                                   </td><td>24                                                   </td><td>7                                                    </td><td>38.96                                                </td><td>5.77                                                 </td><td>44.72                                                </td></tr>\n",
       "</tbody>\n",
       "</table>\n"
      ],
      "text/latex": [
       "\\begin{tabular}{r|lllllll}\n",
       " Instituciones Educativas & Médicos Inscritos & Médicos Sustentantes & Médicos Seleccionados & Resultados Secciones en Español & Resultados Sección en Inglés & Total\\\\\n",
       "\\hline\n",
       "\t AGUASCALIENTES                                        &                                                       &                                                       &                                                       &                                                       &                                                       &                                                      \\\\\n",
       "\t Universidad Autónoma de  Aguascalientes               & 119                                                   & 115                                                   & 35                                                    & 41.50                                                 & 5.84                                                  & 47.34                                                \\\\\n",
       "\t BAJA CALIFORNIA                                       &                                                       &                                                       &                                                       &                                                       &                                                       &                                                      \\\\\n",
       "\t Universidad Autónoma de Baja California-Mexicali      & 155                                                   & 147                                                   & 73                                                    & 45.38                                                 & 6.30                                                  & 51.68                                                \\\\\n",
       "\t Universidad Autónoma de Baja California-Tijuana       & 106                                                   & 98                                                    & 33                                                    & 43.07                                                 & 6.71                                                  & 49.78                                                \\\\\n",
       "\t Centro de Estudios Universitarios Xochicalco-Ensenada & 27                                                    & 24                                                    & 7                                                     & 38.96                                                 & 5.77                                                  & 44.72                                                \\\\\n",
       "\\end{tabular}\n"
      ],
      "text/markdown": [
       "\n",
       "Instituciones Educativas | Médicos Inscritos | Médicos Sustentantes | Médicos Seleccionados | Resultados Secciones en Español | Resultados Sección en Inglés | Total | \n",
       "|---|---|---|---|---|---|\n",
       "| AGUASCALIENTES                                        |                                                       |                                                       |                                                       |                                                       |                                                       |                                                       | \n",
       "| Universidad Autónoma de  Aguascalientes               | 119                                                   | 115                                                   | 35                                                    | 41.50                                                 | 5.84                                                  | 47.34                                                 | \n",
       "| BAJA CALIFORNIA                                       |                                                       |                                                       |                                                       |                                                       |                                                       |                                                       | \n",
       "| Universidad Autónoma de Baja California-Mexicali      | 155                                                   | 147                                                   | 73                                                    | 45.38                                                 | 6.30                                                  | 51.68                                                 | \n",
       "| Universidad Autónoma de Baja California-Tijuana       | 106                                                   | 98                                                    | 33                                                    | 43.07                                                 | 6.71                                                  | 49.78                                                 | \n",
       "| Centro de Estudios Universitarios Xochicalco-Ensenada | 27                                                    | 24                                                    | 7                                                     | 38.96                                                 | 5.77                                                  | 44.72                                                 | \n",
       "\n",
       "\n"
      ],
      "text/plain": [
       "  Instituciones Educativas                              Médicos Inscritos\n",
       "1 AGUASCALIENTES                                                         \n",
       "2 Universidad Autónoma de  Aguascalientes               119              \n",
       "3 BAJA CALIFORNIA                                                        \n",
       "4 Universidad Autónoma de Baja California-Mexicali      155              \n",
       "5 Universidad Autónoma de Baja California-Tijuana       106              \n",
       "6 Centro de Estudios Universitarios Xochicalco-Ensenada 27               \n",
       "  Médicos Sustentantes Médicos Seleccionados Resultados Secciones en Español\n",
       "1                                                                           \n",
       "2 115                  35                    41.50                          \n",
       "3                                                                           \n",
       "4 147                  73                    45.38                          \n",
       "5 98                   33                    43.07                          \n",
       "6 24                   7                     38.96                          \n",
       "  Resultados Sección en Inglés Total\n",
       "1                                   \n",
       "2 5.84                         47.34\n",
       "3                                   \n",
       "4 6.30                         51.68\n",
       "5 6.71                         49.78\n",
       "6 5.77                         44.72"
      ]
     },
     "metadata": {},
     "output_type": "display_data"
    }
   ],
   "source": [
    "#extraigamos los datos de la tabla contenida en el documento word\n",
    "datosArchi <- docx_extract_tbl(archi)\n",
    "head(datosArchi)"
   ]
  },
  {
   "cell_type": "code",
   "execution_count": 17,
   "metadata": {},
   "outputs": [
    {
     "data": {
      "text/html": [
       "<table>\n",
       "<thead><tr><th></th><th scope=col>Instituciones Educativas</th><th scope=col>Médicos Inscritos</th><th scope=col>Médicos Sustentantes</th><th scope=col>Médicos Seleccionados</th><th scope=col>Resultados Secciones en Español</th><th scope=col>Resultados Sección en Inglés</th><th scope=col>Total</th></tr></thead>\n",
       "<tbody>\n",
       "\t<tr><th scope=row>2</th><td>Universidad Autónoma de  Aguascalientes              </td><td>119                                                  </td><td>115                                                  </td><td>35                                                   </td><td>41.50                                                </td><td>5.84                                                 </td><td>47.34                                                </td></tr>\n",
       "\t<tr><th scope=row>4</th><td>Universidad Autónoma de Baja California-Mexicali     </td><td>155                                                  </td><td>147                                                  </td><td>73                                                   </td><td>45.38                                                </td><td>6.30                                                 </td><td>51.68                                                </td></tr>\n",
       "\t<tr><th scope=row>5</th><td>Universidad Autónoma de Baja California-Tijuana      </td><td>106                                                  </td><td>98                                                   </td><td>33                                                   </td><td>43.07                                                </td><td>6.71                                                 </td><td>49.78                                                </td></tr>\n",
       "\t<tr><th scope=row>6</th><td>Centro de Estudios Universitarios Xochicalco-Ensenada</td><td>27                                                   </td><td>24                                                   </td><td>7                                                    </td><td>38.96                                                </td><td>5.77                                                 </td><td>44.72                                                </td></tr>\n",
       "\t<tr><th scope=row>8</th><td>Universidad Autónoma de Campeche                     </td><td>54                                                   </td><td>51                                                   </td><td>9                                                    </td><td>40.34                                                </td><td>5.51                                                 </td><td>45.86                                                </td></tr>\n",
       "\t<tr><th scope=row>10</th><td>Universidad Autónoma de Chiapas                      </td><td>251                                                  </td><td>243                                                  </td><td>30                                                   </td><td>38.11                                                </td><td>4.81                                                 </td><td>42.92                                                </td></tr>\n",
       "</tbody>\n",
       "</table>\n"
      ],
      "text/latex": [
       "\\begin{tabular}{r|lllllll}\n",
       "  & Instituciones Educativas & Médicos Inscritos & Médicos Sustentantes & Médicos Seleccionados & Resultados Secciones en Español & Resultados Sección en Inglés & Total\\\\\n",
       "\\hline\n",
       "\t2 & Universidad Autónoma de  Aguascalientes               & 119                                                   & 115                                                   & 35                                                    & 41.50                                                 & 5.84                                                  & 47.34                                                \\\\\n",
       "\t4 & Universidad Autónoma de Baja California-Mexicali      & 155                                                   & 147                                                   & 73                                                    & 45.38                                                 & 6.30                                                  & 51.68                                                \\\\\n",
       "\t5 & Universidad Autónoma de Baja California-Tijuana       & 106                                                   & 98                                                    & 33                                                    & 43.07                                                 & 6.71                                                  & 49.78                                                \\\\\n",
       "\t6 & Centro de Estudios Universitarios Xochicalco-Ensenada & 27                                                    & 24                                                    & 7                                                     & 38.96                                                 & 5.77                                                  & 44.72                                                \\\\\n",
       "\t8 & Universidad Autónoma de Campeche                      & 54                                                    & 51                                                    & 9                                                     & 40.34                                                 & 5.51                                                  & 45.86                                                \\\\\n",
       "\t10 & Universidad Autónoma de Chiapas                       & 251                                                   & 243                                                   & 30                                                    & 38.11                                                 & 4.81                                                  & 42.92                                                \\\\\n",
       "\\end{tabular}\n"
      ],
      "text/markdown": [
       "\n",
       "| <!--/--> | Instituciones Educativas | Médicos Inscritos | Médicos Sustentantes | Médicos Seleccionados | Resultados Secciones en Español | Resultados Sección en Inglés | Total | \n",
       "|---|---|---|---|---|---|\n",
       "| 2 | Universidad Autónoma de  Aguascalientes               | 119                                                   | 115                                                   | 35                                                    | 41.50                                                 | 5.84                                                  | 47.34                                                 | \n",
       "| 4 | Universidad Autónoma de Baja California-Mexicali      | 155                                                   | 147                                                   | 73                                                    | 45.38                                                 | 6.30                                                  | 51.68                                                 | \n",
       "| 5 | Universidad Autónoma de Baja California-Tijuana       | 106                                                   | 98                                                    | 33                                                    | 43.07                                                 | 6.71                                                  | 49.78                                                 | \n",
       "| 6 | Centro de Estudios Universitarios Xochicalco-Ensenada | 27                                                    | 24                                                    | 7                                                     | 38.96                                                 | 5.77                                                  | 44.72                                                 | \n",
       "| 8 | Universidad Autónoma de Campeche                      | 54                                                    | 51                                                    | 9                                                     | 40.34                                                 | 5.51                                                  | 45.86                                                 | \n",
       "| 10 | Universidad Autónoma de Chiapas                       | 251                                                   | 243                                                   | 30                                                    | 38.11                                                 | 4.81                                                  | 42.92                                                 | \n",
       "\n",
       "\n"
      ],
      "text/plain": [
       "   Instituciones Educativas                              Médicos Inscritos\n",
       "2  Universidad Autónoma de  Aguascalientes               119              \n",
       "4  Universidad Autónoma de Baja California-Mexicali      155              \n",
       "5  Universidad Autónoma de Baja California-Tijuana       106              \n",
       "6  Centro de Estudios Universitarios Xochicalco-Ensenada 27               \n",
       "8  Universidad Autónoma de Campeche                      54               \n",
       "10 Universidad Autónoma de Chiapas                       251              \n",
       "   Médicos Sustentantes Médicos Seleccionados Resultados Secciones en Español\n",
       "2  115                  35                    41.50                          \n",
       "4  147                  73                    45.38                          \n",
       "5  98                   33                    43.07                          \n",
       "6  24                   7                     38.96                          \n",
       "8  51                   9                     40.34                          \n",
       "10 243                  30                    38.11                          \n",
       "   Resultados Sección en Inglés Total\n",
       "2  5.84                         47.34\n",
       "4  6.30                         51.68\n",
       "5  6.71                         49.78\n",
       "6  5.77                         44.72\n",
       "8  5.51                         45.86\n",
       "10 4.81                         42.92"
      ]
     },
     "metadata": {},
     "output_type": "display_data"
    }
   ],
   "source": [
    "#quitemos de los datos los puros estados, al descartar todos los renglones\n",
    "#cuyos Médicos Inscritos sean vacíos\n",
    "#en R tenemos la notación estructura[renglones,columna] para seleccionar:\n",
    "universidades <- datosArchi[datosArchi$`Médicos Inscritos` != \"\" ,]\n",
    "head(universidades)"
   ]
  },
  {
   "cell_type": "code",
   "execution_count": 18,
   "metadata": {},
   "outputs": [
    {
     "ename": "ERROR",
     "evalue": "Error in universidades$`Médicos Seleccionados`/universidades$`Médicos Sustentantes`: non-numeric argument to binary operator\n",
     "output_type": "error",
     "traceback": [
      "Error in universidades$`Médicos Seleccionados`/universidades$`Médicos Sustentantes`: non-numeric argument to binary operator\nTraceback:\n"
     ]
    }
   ],
   "source": [
    "#calculemos entonces la eficiencia definida como los seleccionados entre los sustentantes\n",
    "eficiencia <- universidades$`Médicos Seleccionados` / universidades$`Médicos Sustentantes`"
   ]
  },
  {
   "cell_type": "code",
   "execution_count": 19,
   "metadata": {},
   "outputs": [
    {
     "name": "stdout",
     "output_type": "stream",
     "text": [
      "'data.frame':\t70 obs. of  7 variables:\n",
      " $ Instituciones Educativas       : chr  \"Universidad Autónoma de  Aguascalientes\" \"Universidad Autónoma de Baja California-Mexicali\" \"Universidad Autónoma de Baja California-Tijuana\" \"Centro de Estudios Universitarios Xochicalco-Ensenada\" ...\n",
      " $ Médicos Inscritos              : chr  \"119\" \"155\" \"106\" \"27\" ...\n",
      " $ Médicos Sustentantes           : chr  \"115\" \"147\" \"98\" \"24\" ...\n",
      " $ Médicos Seleccionados          : chr  \"35\" \"73\" \"33\" \"7\" ...\n",
      " $ Resultados Secciones en Español: chr  \"41.50\" \"45.38\" \"43.07\" \"38.96\" ...\n",
      " $ Resultados Sección en Inglés   : chr  \"5.84\" \"6.30\" \"6.71\" \"5.77\" ...\n",
      " $ Total                          : chr  \"47.34\" \"51.68\" \"49.78\" \"44.72\" ...\n"
     ]
    }
   ],
   "source": [
    "#resulta que nos marca el error por querer dividir dos valores non-numeric,\n",
    "#o sea tipo character\n",
    "str(universidades)"
   ]
  },
  {
   "cell_type": "code",
   "execution_count": 20,
   "metadata": {},
   "outputs": [
    {
     "name": "stdout",
     "output_type": "stream",
     "text": [
      "'data.frame':\t70 obs. of  7 variables:\n",
      " $ Instituciones Educativas       : chr  \"Universidad Autónoma de  Aguascalientes\" \"Universidad Autónoma de Baja California-Mexicali\" \"Universidad Autónoma de Baja California-Tijuana\" \"Centro de Estudios Universitarios Xochicalco-Ensenada\" ...\n",
      " $ Médicos Inscritos              : chr  \"119\" \"155\" \"106\" \"27\" ...\n",
      " $ Médicos Sustentantes           : num  115 147 98 24 51 243 40 94 123 139 ...\n",
      " $ Médicos Seleccionados          : num  35 73 33 7 9 30 3 46 26 50 ...\n",
      " $ Resultados Secciones en Español: chr  \"41.50\" \"45.38\" \"43.07\" \"38.96\" ...\n",
      " $ Resultados Sección en Inglés   : chr  \"5.84\" \"6.30\" \"6.71\" \"5.77\" ...\n",
      " $ Total                          : chr  \"47.34\" \"51.68\" \"49.78\" \"44.72\" ...\n"
     ]
    }
   ],
   "source": [
    "#corrijamos a tipo numérico ambas variables\n",
    "universidades$`Médicos Seleccionados` <- as.numeric( universidades$`Médicos Seleccionados` )\n",
    "universidades$`Médicos Sustentantes` <- as.numeric( universidades$`Médicos Sustentantes` )\n",
    "str(universidades)"
   ]
  },
  {
   "cell_type": "code",
   "execution_count": 25,
   "metadata": {},
   "outputs": [
    {
     "data": {
      "text/html": [
       "<ol class=list-inline>\n",
       "\t<li>0.304347826086957</li>\n",
       "\t<li>0.496598639455782</li>\n",
       "\t<li>0.336734693877551</li>\n",
       "\t<li>0.291666666666667</li>\n",
       "\t<li>0.176470588235294</li>\n",
       "\t<li>0.123456790123457</li>\n",
       "</ol>\n"
      ],
      "text/latex": [
       "\\begin{enumerate*}\n",
       "\\item 0.304347826086957\n",
       "\\item 0.496598639455782\n",
       "\\item 0.336734693877551\n",
       "\\item 0.291666666666667\n",
       "\\item 0.176470588235294\n",
       "\\item 0.123456790123457\n",
       "\\end{enumerate*}\n"
      ],
      "text/markdown": [
       "1. 0.304347826086957\n",
       "2. 0.496598639455782\n",
       "3. 0.336734693877551\n",
       "4. 0.291666666666667\n",
       "5. 0.176470588235294\n",
       "6. 0.123456790123457\n",
       "\n",
       "\n"
      ],
      "text/plain": [
       "[1] 0.3043478 0.4965986 0.3367347 0.2916667 0.1764706 0.1234568"
      ]
     },
     "metadata": {},
     "output_type": "display_data"
    }
   ],
   "source": [
    "#calculemos entonces la eficiencia definida como los seleccionados entre los sustentantes\n",
    "eficiencia <- universidades$`Médicos Seleccionados` / universidades$`Médicos Sustentantes`\n",
    "head(eficiencia)"
   ]
  },
  {
   "cell_type": "code",
   "execution_count": 26,
   "metadata": {},
   "outputs": [
    {
     "data": {
      "text/html": [
       "<table>\n",
       "<thead><tr><th></th><th scope=col>universidades..Instituciones.Educativas.</th><th scope=col>eficiencia</th></tr></thead>\n",
       "<tbody>\n",
       "\t<tr><th scope=row>65</th><td>Médicos que estudiaron en Esc.de Med. en el Extranjero</td><td>0.6666667                                             </td></tr>\n",
       "\t<tr><th scope=row>66</th><td>TOTAL                                                 </td><td>0.1868053                                             </td></tr>\n",
       "\t<tr><th scope=row>67</th><td>TOTAL DE MÉDICOS EXTRANJEROS                          </td><td>0.4150198                                             </td></tr>\n",
       "\t<tr><th scope=row>68</th><td>TOTAL                                                 </td><td>0.1899542                                             </td></tr>\n",
       "\t<tr><th scope=row>69</th><td>NA                                                    </td><td>       NA                                             </td></tr>\n",
       "\t<tr><th scope=row>70</th><td>NA                                                    </td><td>       NA                                             </td></tr>\n",
       "</tbody>\n",
       "</table>\n"
      ],
      "text/latex": [
       "\\begin{tabular}{r|ll}\n",
       "  & universidades..Instituciones.Educativas. & eficiencia\\\\\n",
       "\\hline\n",
       "\t65 & Médicos que estudiaron en Esc.de Med. en el Extranjero & 0.6666667                                             \\\\\n",
       "\t66 & TOTAL                                                  & 0.1868053                                             \\\\\n",
       "\t67 & TOTAL DE MÉDICOS EXTRANJEROS                           & 0.4150198                                             \\\\\n",
       "\t68 & TOTAL                                                  & 0.1899542                                             \\\\\n",
       "\t69 & NA                                                     &        NA                                             \\\\\n",
       "\t70 & NA                                                     &        NA                                             \\\\\n",
       "\\end{tabular}\n"
      ],
      "text/markdown": [
       "\n",
       "| <!--/--> | universidades..Instituciones.Educativas. | eficiencia | \n",
       "|---|---|---|---|---|---|\n",
       "| 65 | Médicos que estudiaron en Esc.de Med. en el Extranjero | 0.6666667                                              | \n",
       "| 66 | TOTAL                                                  | 0.1868053                                              | \n",
       "| 67 | TOTAL DE MÉDICOS EXTRANJEROS                           | 0.4150198                                              | \n",
       "| 68 | TOTAL                                                  | 0.1899542                                              | \n",
       "| 69 | NA                                                     |        NA                                              | \n",
       "| 70 | NA                                                     |        NA                                              | \n",
       "\n",
       "\n"
      ],
      "text/plain": [
       "   universidades..Instituciones.Educativas.               eficiencia\n",
       "65 Médicos que estudiaron en Esc.de Med. en el Extranjero 0.6666667 \n",
       "66 TOTAL                                                  0.1868053 \n",
       "67 TOTAL DE MÉDICOS EXTRANJEROS                           0.4150198 \n",
       "68 TOTAL                                                  0.1899542 \n",
       "69 NA                                                            NA \n",
       "70 NA                                                            NA "
      ]
     },
     "metadata": {},
     "output_type": "display_data"
    }
   ],
   "source": [
    "#armemos los resultados con el nombre de las universidades y su eficiencia\n",
    "resultados1 <- data.frame(universidades$`Instituciones Educativas`,eficiencia)\n",
    "tail(resultados1) #sólo la colita"
   ]
  },
  {
   "cell_type": "code",
   "execution_count": 36,
   "metadata": {},
   "outputs": [
    {
     "data": {
      "text/html": [
       "<table>\n",
       "<thead><tr><th></th><th scope=col>universidades..Instituciones.Educativas.</th><th scope=col>eficiencia</th></tr></thead>\n",
       "<tbody>\n",
       "\t<tr><th scope=row>16</th><td>Universidad del Ejército y Fuerza Aérea               </td><td>0.8333333                                             </td></tr>\n",
       "\t<tr><th scope=row>38</th><td>Inst. Tecnológico de Estudios Superiores de Monterrey </td><td>0.7407407                                             </td></tr>\n",
       "\t<tr><th scope=row>47</th><td>Universidad Autónoma de San Luis Potosí               </td><td>0.7401575                                             </td></tr>\n",
       "\t<tr><th scope=row>65</th><td>Médicos que estudiaron en Esc.de Med. en el Extranjero</td><td>0.6666667                                             </td></tr>\n",
       "\t<tr><th scope=row>17</th><td>Universidad La Salle                                  </td><td>0.6313131                                             </td></tr>\n",
       "\t<tr><th scope=row>25</th><td>Universidad de Guanajuato                             </td><td>0.5842697                                             </td></tr>\n",
       "\t<tr><th scope=row>39</th><td>Universidad Autónoma de Nuevo León                    </td><td>0.5111732                                             </td></tr>\n",
       "\t<tr><th scope=row>2</th><td>Universidad Autónoma de Baja California-Mexicali      </td><td>0.4965986                                             </td></tr>\n",
       "\t<tr><th scope=row>8</th><td>Universidad Autónoma de Chihuahua                     </td><td>0.4893617                                             </td></tr>\n",
       "\t<tr><th scope=row>46</th><td>Universidad Autónoma de Querétaro                     </td><td>0.4588235                                             </td></tr>\n",
       "\t<tr><th scope=row>67</th><td>TOTAL DE MÉDICOS EXTRANJEROS                          </td><td>0.4150198                                             </td></tr>\n",
       "\t<tr><th scope=row>32</th><td>Universidad Anáhuac                                   </td><td>0.4039409                                             </td></tr>\n",
       "\t<tr><th scope=row>10</th><td>Universidad Autónoma de Coahuila-Torreón              </td><td>0.3597122                                             </td></tr>\n",
       "\t<tr><th scope=row>12</th><td>Universidad de Colima                                 </td><td>0.3577982                                             </td></tr>\n",
       "\t<tr><th scope=row>3</th><td>Universidad Autónoma de Baja California-Tijuana       </td><td>0.3367347                                             </td></tr>\n",
       "\t<tr><th scope=row>30</th><td>Universidad de Guadalajara, U. Sur, Cd. Guzmán        </td><td>0.3148148                                             </td></tr>\n",
       "\t<tr><th scope=row>1</th><td>Universidad Autónoma de  Aguascalientes               </td><td>0.3043478                                             </td></tr>\n",
       "\t<tr><th scope=row>4</th><td>Centro de Estudios Universitarios Xochicalco-Ensenada </td><td>0.2916667                                             </td></tr>\n",
       "\t<tr><th scope=row>11</th><td>Universidad Autónoma de Coahuila-Saltillo             </td><td>0.2808989                                             </td></tr>\n",
       "\t<tr><th scope=row>29</th><td>Universidad de Guadalajara                            </td><td>0.2505308                                             </td></tr>\n",
       "\t<tr><th scope=row>62</th><td>Universidad Autónoma de Yucatán                       </td><td>0.2468085                                             </td></tr>\n",
       "\t<tr><th scope=row>31</th><td>Univ. Autónoma del Estado de México                   </td><td>0.2438163                                             </td></tr>\n",
       "\t<tr><th scope=row>18</th><td>Escuela Superior de Medicina                          </td><td>0.2426304                                             </td></tr>\n",
       "\t<tr><th scope=row>13</th><td>Facultad de Medicina                                  </td><td>0.2417827                                             </td></tr>\n",
       "\t<tr><th scope=row>40</th><td>Universidad de Monterrey, Ciencias de la Salud        </td><td>0.2407407                                             </td></tr>\n",
       "\t<tr><th scope=row>36</th><td>Universidad Autónoma del Estado de Morelos            </td><td>0.2391304                                             </td></tr>\n",
       "\t<tr><th scope=row>34</th><td>Tominaga Nakamoto                                     </td><td>0.2222222                                             </td></tr>\n",
       "\t<tr><th scope=row>9</th><td>Universidad Autónoma de Ciudad Juárez                 </td><td>0.2113821                                             </td></tr>\n",
       "\t<tr><th scope=row>51</th><td>Universidad Autónoma de Tamaulipas-Tampico            </td><td>0.2047619                                             </td></tr>\n",
       "\t<tr><th scope=row>41</th><td>Universidad de Montemorelos, A. C.                    </td><td>0.2000000                                             </td></tr>\n",
       "\t<tr><th scope=row>⋮</th><td>⋮</td><td>⋮</td></tr>\n",
       "\t<tr><th scope=row>43</th><td>Universidad Regional del Sureste                  </td><td>0.15094340                                        </td></tr>\n",
       "\t<tr><th scope=row>14</th><td>FES-Zaragoza                                      </td><td>0.15060241                                        </td></tr>\n",
       "\t<tr><th scope=row>33</th><td>ENEP-Iztacala (UNAM)                              </td><td>0.14312442                                        </td></tr>\n",
       "\t<tr><th scope=row>53</th><td>Universidad del Valle de Bravo-Reynosa            </td><td>0.13793103                                        </td></tr>\n",
       "\t<tr><th scope=row>48</th><td>Universidad Autónoma de Sinaloa                   </td><td>0.13715047                                        </td></tr>\n",
       "\t<tr><th scope=row>55</th><td>Universidad México-Americana del Norte            </td><td>0.13636364                                        </td></tr>\n",
       "\t<tr><th scope=row>42</th><td>Univ. Autónoma Benito Juárez de Oaxaca            </td><td>0.13194444                                        </td></tr>\n",
       "\t<tr><th scope=row>24</th><td>Univ. Juárez del Edo. de Durango-Gómez Palacio    </td><td>0.12637363                                        </td></tr>\n",
       "\t<tr><th scope=row>23</th><td>Univ. Juárez del Edo. de Durango-Durango          </td><td>0.12500000                                        </td></tr>\n",
       "\t<tr><th scope=row>58</th><td>Universidad Veracruzana-Poza Rica                 </td><td>0.12380952                                        </td></tr>\n",
       "\t<tr><th scope=row>6</th><td>Universidad Autónoma de Chiapas                   </td><td>0.12345679                                        </td></tr>\n",
       "\t<tr><th scope=row>27</th><td>Universidad Autónoma de Hidalgo                   </td><td>0.12200957                                        </td></tr>\n",
       "\t<tr><th scope=row>37</th><td>Universidad Autónoma de Nayarit                   </td><td>0.12043796                                        </td></tr>\n",
       "\t<tr><th scope=row>35</th><td>Univ. Michoacana de San Nicolás de Hidalgo        </td><td>0.11793215                                        </td></tr>\n",
       "\t<tr><th scope=row>45</th><td>Universidad Popular Autónoma del Estado de  Puebla</td><td>0.11702128                                        </td></tr>\n",
       "\t<tr><th scope=row>59</th><td>Universidad Veracruzana-Minatitlán                </td><td>0.11445783                                        </td></tr>\n",
       "\t<tr><th scope=row>19</th><td>Centro Interdis. de Ciencias de la Salud          </td><td>0.11020408                                        </td></tr>\n",
       "\t<tr><th scope=row>49</th><td>Universidad Juárez Autónoma de Tabasco            </td><td>0.10543131                                        </td></tr>\n",
       "\t<tr><th scope=row>61</th><td>Universidad Veracruzana-Cd. Mendoza               </td><td>0.09933775                                        </td></tr>\n",
       "\t<tr><th scope=row>57</th><td>Universidad Veracruzana-Jalapa                    </td><td>0.08504399                                        </td></tr>\n",
       "\t<tr><th scope=row>20</th><td>Escuela Nacional de Medicina y Homeopatía         </td><td>0.07741935                                        </td></tr>\n",
       "\t<tr><th scope=row>7</th><td>Instituto Superior de Chiapas                     </td><td>0.07500000                                        </td></tr>\n",
       "\t<tr><th scope=row>44</th><td>Benemérita Universidad Autónoma de Puebla         </td><td>0.07364545                                        </td></tr>\n",
       "\t<tr><th scope=row>52</th><td>Universidad Autónoma de Tamaulipas-Matamoros      </td><td>0.05633803                                        </td></tr>\n",
       "\t<tr><th scope=row>60</th><td>Universidad Veracruzana-Veracruz                  </td><td>0.04984424                                        </td></tr>\n",
       "\t<tr><th scope=row>26</th><td>Universidad Autónoma de Guerrero                  </td><td>0.03386454                                        </td></tr>\n",
       "\t<tr><th scope=row>56</th><td>Universidad Autónoma de Tlaxcala                  </td><td>0.03125000                                        </td></tr>\n",
       "\t<tr><th scope=row>50</th><td>Universidad del Noreste                           </td><td>0.01176471                                        </td></tr>\n",
       "\t<tr><th scope=row>21</th><td>Escuela Libre de Homeopatía de México             </td><td>0.00000000                                        </td></tr>\n",
       "\t<tr><th scope=row>54</th><td>Universidad del Valle de Bravo-Cd. Victoria       </td><td>0.00000000                                        </td></tr>\n",
       "</tbody>\n",
       "</table>\n"
      ],
      "text/latex": [
       "\\begin{tabular}{r|ll}\n",
       "  & universidades..Instituciones.Educativas. & eficiencia\\\\\n",
       "\\hline\n",
       "\t16 & Universidad del Ejército y Fuerza Aérea                & 0.8333333                                             \\\\\n",
       "\t38 & Inst. Tecnológico de Estudios Superiores de Monterrey  & 0.7407407                                             \\\\\n",
       "\t47 & Universidad Autónoma de San Luis Potosí                & 0.7401575                                             \\\\\n",
       "\t65 & Médicos que estudiaron en Esc.de Med. en el Extranjero & 0.6666667                                             \\\\\n",
       "\t17 & Universidad La Salle                                   & 0.6313131                                             \\\\\n",
       "\t25 & Universidad de Guanajuato                              & 0.5842697                                             \\\\\n",
       "\t39 & Universidad Autónoma de Nuevo León                     & 0.5111732                                             \\\\\n",
       "\t2 & Universidad Autónoma de Baja California-Mexicali       & 0.4965986                                             \\\\\n",
       "\t8 & Universidad Autónoma de Chihuahua                      & 0.4893617                                             \\\\\n",
       "\t46 & Universidad Autónoma de Querétaro                      & 0.4588235                                             \\\\\n",
       "\t67 & TOTAL DE MÉDICOS EXTRANJEROS                           & 0.4150198                                             \\\\\n",
       "\t32 & Universidad Anáhuac                                    & 0.4039409                                             \\\\\n",
       "\t10 & Universidad Autónoma de Coahuila-Torreón               & 0.3597122                                             \\\\\n",
       "\t12 & Universidad de Colima                                  & 0.3577982                                             \\\\\n",
       "\t3 & Universidad Autónoma de Baja California-Tijuana        & 0.3367347                                             \\\\\n",
       "\t30 & Universidad de Guadalajara, U. Sur, Cd. Guzmán         & 0.3148148                                             \\\\\n",
       "\t1 & Universidad Autónoma de  Aguascalientes                & 0.3043478                                             \\\\\n",
       "\t4 & Centro de Estudios Universitarios Xochicalco-Ensenada  & 0.2916667                                             \\\\\n",
       "\t11 & Universidad Autónoma de Coahuila-Saltillo              & 0.2808989                                             \\\\\n",
       "\t29 & Universidad de Guadalajara                             & 0.2505308                                             \\\\\n",
       "\t62 & Universidad Autónoma de Yucatán                        & 0.2468085                                             \\\\\n",
       "\t31 & Univ. Autónoma del Estado de México                    & 0.2438163                                             \\\\\n",
       "\t18 & Escuela Superior de Medicina                           & 0.2426304                                             \\\\\n",
       "\t13 & Facultad de Medicina                                   & 0.2417827                                             \\\\\n",
       "\t40 & Universidad de Monterrey, Ciencias de la Salud         & 0.2407407                                             \\\\\n",
       "\t36 & Universidad Autónoma del Estado de Morelos             & 0.2391304                                             \\\\\n",
       "\t34 & Tominaga Nakamoto                                      & 0.2222222                                             \\\\\n",
       "\t9 & Universidad Autónoma de Ciudad Juárez                  & 0.2113821                                             \\\\\n",
       "\t51 & Universidad Autónoma de Tamaulipas-Tampico             & 0.2047619                                             \\\\\n",
       "\t41 & Universidad de Montemorelos, A. C.                     & 0.2000000                                             \\\\\n",
       "\t⋮ & ⋮ & ⋮\\\\\n",
       "\t43 & Universidad Regional del Sureste                   & 0.15094340                                        \\\\\n",
       "\t14 & FES-Zaragoza                                       & 0.15060241                                        \\\\\n",
       "\t33 & ENEP-Iztacala (UNAM)                               & 0.14312442                                        \\\\\n",
       "\t53 & Universidad del Valle de Bravo-Reynosa             & 0.13793103                                        \\\\\n",
       "\t48 & Universidad Autónoma de Sinaloa                    & 0.13715047                                        \\\\\n",
       "\t55 & Universidad México-Americana del Norte             & 0.13636364                                        \\\\\n",
       "\t42 & Univ. Autónoma Benito Juárez de Oaxaca             & 0.13194444                                        \\\\\n",
       "\t24 & Univ. Juárez del Edo. de Durango-Gómez Palacio     & 0.12637363                                        \\\\\n",
       "\t23 & Univ. Juárez del Edo. de Durango-Durango           & 0.12500000                                        \\\\\n",
       "\t58 & Universidad Veracruzana-Poza Rica                  & 0.12380952                                        \\\\\n",
       "\t6 & Universidad Autónoma de Chiapas                    & 0.12345679                                        \\\\\n",
       "\t27 & Universidad Autónoma de Hidalgo                    & 0.12200957                                        \\\\\n",
       "\t37 & Universidad Autónoma de Nayarit                    & 0.12043796                                        \\\\\n",
       "\t35 & Univ. Michoacana de San Nicolás de Hidalgo         & 0.11793215                                        \\\\\n",
       "\t45 & Universidad Popular Autónoma del Estado de  Puebla & 0.11702128                                        \\\\\n",
       "\t59 & Universidad Veracruzana-Minatitlán                 & 0.11445783                                        \\\\\n",
       "\t19 & Centro Interdis. de Ciencias de la Salud           & 0.11020408                                        \\\\\n",
       "\t49 & Universidad Juárez Autónoma de Tabasco             & 0.10543131                                        \\\\\n",
       "\t61 & Universidad Veracruzana-Cd. Mendoza                & 0.09933775                                        \\\\\n",
       "\t57 & Universidad Veracruzana-Jalapa                     & 0.08504399                                        \\\\\n",
       "\t20 & Escuela Nacional de Medicina y Homeopatía          & 0.07741935                                        \\\\\n",
       "\t7 & Instituto Superior de Chiapas                      & 0.07500000                                        \\\\\n",
       "\t44 & Benemérita Universidad Autónoma de Puebla          & 0.07364545                                        \\\\\n",
       "\t52 & Universidad Autónoma de Tamaulipas-Matamoros       & 0.05633803                                        \\\\\n",
       "\t60 & Universidad Veracruzana-Veracruz                   & 0.04984424                                        \\\\\n",
       "\t26 & Universidad Autónoma de Guerrero                   & 0.03386454                                        \\\\\n",
       "\t56 & Universidad Autónoma de Tlaxcala                   & 0.03125000                                        \\\\\n",
       "\t50 & Universidad del Noreste                            & 0.01176471                                        \\\\\n",
       "\t21 & Escuela Libre de Homeopatía de México              & 0.00000000                                        \\\\\n",
       "\t54 & Universidad del Valle de Bravo-Cd. Victoria        & 0.00000000                                        \\\\\n",
       "\\end{tabular}\n"
      ],
      "text/markdown": [
       "\n",
       "| <!--/--> | universidades..Instituciones.Educativas. | eficiencia | \n",
       "|---|---|---|---|---|---|---|---|---|---|---|---|---|---|---|---|---|---|---|---|---|---|---|---|---|---|---|---|---|---|---|---|---|---|---|---|---|---|---|---|---|---|---|---|---|---|---|---|---|---|---|---|---|---|---|---|---|---|---|---|---|\n",
       "| 16 | Universidad del Ejército y Fuerza Aérea                | 0.8333333                                              | \n",
       "| 38 | Inst. Tecnológico de Estudios Superiores de Monterrey  | 0.7407407                                              | \n",
       "| 47 | Universidad Autónoma de San Luis Potosí                | 0.7401575                                              | \n",
       "| 65 | Médicos que estudiaron en Esc.de Med. en el Extranjero | 0.6666667                                              | \n",
       "| 17 | Universidad La Salle                                   | 0.6313131                                              | \n",
       "| 25 | Universidad de Guanajuato                              | 0.5842697                                              | \n",
       "| 39 | Universidad Autónoma de Nuevo León                     | 0.5111732                                              | \n",
       "| 2 | Universidad Autónoma de Baja California-Mexicali       | 0.4965986                                              | \n",
       "| 8 | Universidad Autónoma de Chihuahua                      | 0.4893617                                              | \n",
       "| 46 | Universidad Autónoma de Querétaro                      | 0.4588235                                              | \n",
       "| 67 | TOTAL DE MÉDICOS EXTRANJEROS                           | 0.4150198                                              | \n",
       "| 32 | Universidad Anáhuac                                    | 0.4039409                                              | \n",
       "| 10 | Universidad Autónoma de Coahuila-Torreón               | 0.3597122                                              | \n",
       "| 12 | Universidad de Colima                                  | 0.3577982                                              | \n",
       "| 3 | Universidad Autónoma de Baja California-Tijuana        | 0.3367347                                              | \n",
       "| 30 | Universidad de Guadalajara, U. Sur, Cd. Guzmán         | 0.3148148                                              | \n",
       "| 1 | Universidad Autónoma de  Aguascalientes                | 0.3043478                                              | \n",
       "| 4 | Centro de Estudios Universitarios Xochicalco-Ensenada  | 0.2916667                                              | \n",
       "| 11 | Universidad Autónoma de Coahuila-Saltillo              | 0.2808989                                              | \n",
       "| 29 | Universidad de Guadalajara                             | 0.2505308                                              | \n",
       "| 62 | Universidad Autónoma de Yucatán                        | 0.2468085                                              | \n",
       "| 31 | Univ. Autónoma del Estado de México                    | 0.2438163                                              | \n",
       "| 18 | Escuela Superior de Medicina                           | 0.2426304                                              | \n",
       "| 13 | Facultad de Medicina                                   | 0.2417827                                              | \n",
       "| 40 | Universidad de Monterrey, Ciencias de la Salud         | 0.2407407                                              | \n",
       "| 36 | Universidad Autónoma del Estado de Morelos             | 0.2391304                                              | \n",
       "| 34 | Tominaga Nakamoto                                      | 0.2222222                                              | \n",
       "| 9 | Universidad Autónoma de Ciudad Juárez                  | 0.2113821                                              | \n",
       "| 51 | Universidad Autónoma de Tamaulipas-Tampico             | 0.2047619                                              | \n",
       "| 41 | Universidad de Montemorelos, A. C.                     | 0.2000000                                              | \n",
       "| ⋮ | ⋮ | ⋮ | \n",
       "| 43 | Universidad Regional del Sureste                   | 0.15094340                                         | \n",
       "| 14 | FES-Zaragoza                                       | 0.15060241                                         | \n",
       "| 33 | ENEP-Iztacala (UNAM)                               | 0.14312442                                         | \n",
       "| 53 | Universidad del Valle de Bravo-Reynosa             | 0.13793103                                         | \n",
       "| 48 | Universidad Autónoma de Sinaloa                    | 0.13715047                                         | \n",
       "| 55 | Universidad México-Americana del Norte             | 0.13636364                                         | \n",
       "| 42 | Univ. Autónoma Benito Juárez de Oaxaca             | 0.13194444                                         | \n",
       "| 24 | Univ. Juárez del Edo. de Durango-Gómez Palacio     | 0.12637363                                         | \n",
       "| 23 | Univ. Juárez del Edo. de Durango-Durango           | 0.12500000                                         | \n",
       "| 58 | Universidad Veracruzana-Poza Rica                  | 0.12380952                                         | \n",
       "| 6 | Universidad Autónoma de Chiapas                    | 0.12345679                                         | \n",
       "| 27 | Universidad Autónoma de Hidalgo                    | 0.12200957                                         | \n",
       "| 37 | Universidad Autónoma de Nayarit                    | 0.12043796                                         | \n",
       "| 35 | Univ. Michoacana de San Nicolás de Hidalgo         | 0.11793215                                         | \n",
       "| 45 | Universidad Popular Autónoma del Estado de  Puebla | 0.11702128                                         | \n",
       "| 59 | Universidad Veracruzana-Minatitlán                 | 0.11445783                                         | \n",
       "| 19 | Centro Interdis. de Ciencias de la Salud           | 0.11020408                                         | \n",
       "| 49 | Universidad Juárez Autónoma de Tabasco             | 0.10543131                                         | \n",
       "| 61 | Universidad Veracruzana-Cd. Mendoza                | 0.09933775                                         | \n",
       "| 57 | Universidad Veracruzana-Jalapa                     | 0.08504399                                         | \n",
       "| 20 | Escuela Nacional de Medicina y Homeopatía          | 0.07741935                                         | \n",
       "| 7 | Instituto Superior de Chiapas                      | 0.07500000                                         | \n",
       "| 44 | Benemérita Universidad Autónoma de Puebla          | 0.07364545                                         | \n",
       "| 52 | Universidad Autónoma de Tamaulipas-Matamoros       | 0.05633803                                         | \n",
       "| 60 | Universidad Veracruzana-Veracruz                   | 0.04984424                                         | \n",
       "| 26 | Universidad Autónoma de Guerrero                   | 0.03386454                                         | \n",
       "| 56 | Universidad Autónoma de Tlaxcala                   | 0.03125000                                         | \n",
       "| 50 | Universidad del Noreste                            | 0.01176471                                         | \n",
       "| 21 | Escuela Libre de Homeopatía de México              | 0.00000000                                         | \n",
       "| 54 | Universidad del Valle de Bravo-Cd. Victoria        | 0.00000000                                         | \n",
       "\n",
       "\n"
      ],
      "text/plain": [
       "   universidades..Instituciones.Educativas.               eficiencia\n",
       "16 Universidad del Ejército y Fuerza Aérea                0.8333333 \n",
       "38 Inst. Tecnológico de Estudios Superiores de Monterrey  0.7407407 \n",
       "47 Universidad Autónoma de San Luis Potosí                0.7401575 \n",
       "65 Médicos que estudiaron en Esc.de Med. en el Extranjero 0.6666667 \n",
       "17 Universidad La Salle                                   0.6313131 \n",
       "25 Universidad de Guanajuato                              0.5842697 \n",
       "39 Universidad Autónoma de Nuevo León                     0.5111732 \n",
       "2  Universidad Autónoma de Baja California-Mexicali       0.4965986 \n",
       "8  Universidad Autónoma de Chihuahua                      0.4893617 \n",
       "46 Universidad Autónoma de Querétaro                      0.4588235 \n",
       "67 TOTAL DE MÉDICOS EXTRANJEROS                           0.4150198 \n",
       "32 Universidad Anáhuac                                    0.4039409 \n",
       "10 Universidad Autónoma de Coahuila-Torreón               0.3597122 \n",
       "12 Universidad de Colima                                  0.3577982 \n",
       "3  Universidad Autónoma de Baja California-Tijuana        0.3367347 \n",
       "30 Universidad de Guadalajara, U. Sur, Cd. Guzmán         0.3148148 \n",
       "1  Universidad Autónoma de  Aguascalientes                0.3043478 \n",
       "4  Centro de Estudios Universitarios Xochicalco-Ensenada  0.2916667 \n",
       "11 Universidad Autónoma de Coahuila-Saltillo              0.2808989 \n",
       "29 Universidad de Guadalajara                             0.2505308 \n",
       "62 Universidad Autónoma de Yucatán                        0.2468085 \n",
       "31 Univ. Autónoma del Estado de México                    0.2438163 \n",
       "18 Escuela Superior de Medicina                           0.2426304 \n",
       "13 Facultad de Medicina                                   0.2417827 \n",
       "40 Universidad de Monterrey, Ciencias de la Salud         0.2407407 \n",
       "36 Universidad Autónoma del Estado de Morelos             0.2391304 \n",
       "34 Tominaga Nakamoto                                      0.2222222 \n",
       "9  Universidad Autónoma de Ciudad Juárez                  0.2113821 \n",
       "51 Universidad Autónoma de Tamaulipas-Tampico             0.2047619 \n",
       "41 Universidad de Montemorelos, A. C.                     0.2000000 \n",
       "⋮  ⋮                                                      ⋮         \n",
       "43 Universidad Regional del Sureste                       0.15094340\n",
       "14 FES-Zaragoza                                           0.15060241\n",
       "33 ENEP-Iztacala (UNAM)                                   0.14312442\n",
       "53 Universidad del Valle de Bravo-Reynosa                 0.13793103\n",
       "48 Universidad Autónoma de Sinaloa                        0.13715047\n",
       "55 Universidad México-Americana del Norte                 0.13636364\n",
       "42 Univ. Autónoma Benito Juárez de Oaxaca                 0.13194444\n",
       "24 Univ. Juárez del Edo. de Durango-Gómez Palacio         0.12637363\n",
       "23 Univ. Juárez del Edo. de Durango-Durango               0.12500000\n",
       "58 Universidad Veracruzana-Poza Rica                      0.12380952\n",
       "6  Universidad Autónoma de Chiapas                        0.12345679\n",
       "27 Universidad Autónoma de Hidalgo                        0.12200957\n",
       "37 Universidad Autónoma de Nayarit                        0.12043796\n",
       "35 Univ. Michoacana de San Nicolás de Hidalgo             0.11793215\n",
       "45 Universidad Popular Autónoma del Estado de  Puebla     0.11702128\n",
       "59 Universidad Veracruzana-Minatitlán                     0.11445783\n",
       "19 Centro Interdis. de Ciencias de la Salud               0.11020408\n",
       "49 Universidad Juárez Autónoma de Tabasco                 0.10543131\n",
       "61 Universidad Veracruzana-Cd. Mendoza                    0.09933775\n",
       "57 Universidad Veracruzana-Jalapa                         0.08504399\n",
       "20 Escuela Nacional de Medicina y Homeopatía              0.07741935\n",
       "7  Instituto Superior de Chiapas                          0.07500000\n",
       "44 Benemérita Universidad Autónoma de Puebla              0.07364545\n",
       "52 Universidad Autónoma de Tamaulipas-Matamoros           0.05633803\n",
       "60 Universidad Veracruzana-Veracruz                       0.04984424\n",
       "26 Universidad Autónoma de Guerrero                       0.03386454\n",
       "56 Universidad Autónoma de Tlaxcala                       0.03125000\n",
       "50 Universidad del Noreste                                0.01176471\n",
       "21 Escuela Libre de Homeopatía de México                  0.00000000\n",
       "54 Universidad del Valle de Bravo-Cd. Victoria            0.00000000"
      ]
     },
     "metadata": {},
     "output_type": "display_data"
    }
   ],
   "source": [
    "resultados1[order(resultados1$eficiencia,decreasing = TRUE),]\n"
   ]
  },
  {
   "cell_type": "markdown",
   "metadata": {},
   "source": [
    "** AHORA TE TOCA A TÍ: LA TAREA ES QUE REPITAS ESTE MISMO PROCESO PERO PARA EL ARCHIVO CORRESPONDIENTE AL AÑO 2017 **"
   ]
  },
  {
   "cell_type": "code",
   "execution_count": null,
   "metadata": {},
   "outputs": [],
   "source": []
  }
 ],
 "metadata": {
  "kernelspec": {
   "display_name": "R",
   "language": "R",
   "name": "ir"
  },
  "language_info": {
   "codemirror_mode": "r",
   "file_extension": ".r",
   "mimetype": "text/x-r-source",
   "name": "R",
   "pygments_lexer": "r",
   "version": "3.4.3"
  }
 },
 "nbformat": 4,
 "nbformat_minor": 2
}
