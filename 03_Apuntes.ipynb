{
 "cells": [
  {
   "cell_type": "markdown",
   "metadata": {},
   "source": [
    "<img src=\"http://universidadcucii.mx/img/demos/law-firm/logo.png\" width=\"150\">\n",
    "\n",
    "# Universidad CUCII \n",
    "## Estadística para la Educación\n",
    "\n",
    "### Sesión 04/05 (Sábado 2018-06-23)"
   ]
  },
  {
   "cell_type": "markdown",
   "metadata": {},
   "source": [
    "#### 0. Solución de la tarea 01 por equipos (Reto ENARM 2017)\n",
    "Una vez teniendo el archivo *E41_enarm_ra_2017.docx* en la dirección dada por la orden:"
   ]
  },
  {
   "cell_type": "code",
   "execution_count": 1,
   "metadata": {},
   "outputs": [
    {
     "data": {
      "text/html": [
       "'/home/ani/Dropbox/sonora/CUCII-StatsEdu'"
      ],
      "text/latex": [
       "'/home/ani/Dropbox/sonora/CUCII-StatsEdu'"
      ],
      "text/markdown": [
       "'/home/ani/Dropbox/sonora/CUCII-StatsEdu'"
      ],
      "text/plain": [
       "[1] \"/home/ani/Dropbox/sonora/CUCII-StatsEdu\""
      ]
     },
     "metadata": {},
     "output_type": "display_data"
    }
   ],
   "source": [
    "getwd()"
   ]
  },
  {
   "cell_type": "markdown",
   "metadata": {},
   "source": [
    "procedemos a su lectura, invocando el paquete *docxtractr* previamente instalado"
   ]
  },
  {
   "cell_type": "code",
   "execution_count": 2,
   "metadata": {},
   "outputs": [],
   "source": [
    "## ya instalamos con: install.packages(\"docxtractr\")\n",
    "library(docxtractr)"
   ]
  },
  {
   "cell_type": "code",
   "execution_count": 4,
   "metadata": {},
   "outputs": [
    {
     "name": "stderr",
     "output_type": "stream",
     "text": [
      "No comments in document\n"
     ]
    },
    {
     "data": {
      "text/plain": [
       "Word document [E41_enarm_ra_2017.docx]\n",
       "\n",
       "Table 1\n",
       "  total cells: 570\n",
       "  row count  : 114\n",
       "  uniform    : likely!\n",
       "  has header : unlikely\n",
       "\n",
       "Table 2\n",
       "  total cells: 14\n",
       "  row count  : 4\n",
       "  uniform    : unlikely => found differing cell counts (1, 5, 4) across some rows\n",
       "  has header : unlikely\n"
      ]
     },
     "metadata": {},
     "output_type": "display_data"
    }
   ],
   "source": [
    "archivo <- read_docx(path = \"E41_enarm_ra_2017.docx\")\n",
    "archivo"
   ]
  },
  {
   "cell_type": "raw",
   "metadata": {},
   "source": [
    "Al dar un vistazo al documento MS Word, vemos que sólo nos interesa la primer tabla."
   ]
  },
  {
   "cell_type": "code",
   "execution_count": 5,
   "metadata": {},
   "outputs": [
    {
     "data": {
      "text/html": [
       "<table>\n",
       "<thead><tr><th scope=col>Entidad Federativa</th><th scope=col>Facultad o Escuela de Medicina</th><th scope=col>Sustentantes</th><th scope=col>Seleccionados</th><th scope=col>Promedio generalconocimientos médicos</th></tr></thead>\n",
       "<tbody>\n",
       "\t<tr><td>AGUASCALIENTES                                 </td><td>UNIV. AUT. DE AGUASCALIENTES                   </td><td>239                                            </td><td>84                                             </td><td>67.52                                          </td></tr>\n",
       "\t<tr><td>AGUASCALIENTES                                 </td><td>UNIV. CUAUHTEMOC - PLANTEL AGUASCALIENTES      </td><td>72                                             </td><td>9                                              </td><td>63.81                                          </td></tr>\n",
       "\t<tr><td>BAJA CALIFORNIA                                </td><td>CENTRO EST. UNIV. XOCHICALCO, U. ENSENADA      </td><td>247                                            </td><td>48                                             </td><td>61.16                                          </td></tr>\n",
       "\t<tr><td>BAJA CALIFORNIA                                </td><td>CENTRO EST. UNIV. XOCHICALCO, U. TIJUANA       </td><td>152                                            </td><td>30                                             </td><td>62.48                                          </td></tr>\n",
       "\t<tr><td>BAJA CALIFORNIA                                </td><td>UNIV. AUT. DE B.C. - CAMPUS VALLE DE LAS PALMAS</td><td>135                                            </td><td>16                                             </td><td>62.70                                          </td></tr>\n",
       "\t<tr><td>BAJA CALIFORNIA                                </td><td>UNIV. AUT. DE B.C., U. ENSENADA                </td><td>188                                            </td><td>55                                             </td><td>64.88                                          </td></tr>\n",
       "</tbody>\n",
       "</table>\n"
      ],
      "text/latex": [
       "\\begin{tabular}{r|lllll}\n",
       " Entidad Federativa & Facultad o Escuela de Medicina & Sustentantes & Seleccionados & Promedio generalconocimientos médicos\\\\\n",
       "\\hline\n",
       "\t AGUASCALIENTES                                  & UNIV. AUT. DE AGUASCALIENTES                    & 239                                             & 84                                              & 67.52                                          \\\\\n",
       "\t AGUASCALIENTES                                  & UNIV. CUAUHTEMOC - PLANTEL AGUASCALIENTES       & 72                                              & 9                                               & 63.81                                          \\\\\n",
       "\t BAJA CALIFORNIA                                 & CENTRO EST. UNIV. XOCHICALCO, U. ENSENADA       & 247                                             & 48                                              & 61.16                                          \\\\\n",
       "\t BAJA CALIFORNIA                                 & CENTRO EST. UNIV. XOCHICALCO, U. TIJUANA        & 152                                             & 30                                              & 62.48                                          \\\\\n",
       "\t BAJA CALIFORNIA                                 & UNIV. AUT. DE B.C. - CAMPUS VALLE DE LAS PALMAS & 135                                             & 16                                              & 62.70                                          \\\\\n",
       "\t BAJA CALIFORNIA                                 & UNIV. AUT. DE B.C., U. ENSENADA                 & 188                                             & 55                                              & 64.88                                          \\\\\n",
       "\\end{tabular}\n"
      ],
      "text/markdown": [
       "\n",
       "Entidad Federativa | Facultad o Escuela de Medicina | Sustentantes | Seleccionados | Promedio generalconocimientos médicos | \n",
       "|---|---|---|---|---|---|\n",
       "| AGUASCALIENTES                                  | UNIV. AUT. DE AGUASCALIENTES                    | 239                                             | 84                                              | 67.52                                           | \n",
       "| AGUASCALIENTES                                  | UNIV. CUAUHTEMOC - PLANTEL AGUASCALIENTES       | 72                                              | 9                                               | 63.81                                           | \n",
       "| BAJA CALIFORNIA                                 | CENTRO EST. UNIV. XOCHICALCO, U. ENSENADA       | 247                                             | 48                                              | 61.16                                           | \n",
       "| BAJA CALIFORNIA                                 | CENTRO EST. UNIV. XOCHICALCO, U. TIJUANA        | 152                                             | 30                                              | 62.48                                           | \n",
       "| BAJA CALIFORNIA                                 | UNIV. AUT. DE B.C. - CAMPUS VALLE DE LAS PALMAS | 135                                             | 16                                              | 62.70                                           | \n",
       "| BAJA CALIFORNIA                                 | UNIV. AUT. DE B.C., U. ENSENADA                 | 188                                             | 55                                              | 64.88                                           | \n",
       "\n",
       "\n"
      ],
      "text/plain": [
       "  Entidad Federativa Facultad o Escuela de Medicina                 \n",
       "1 AGUASCALIENTES     UNIV. AUT. DE AGUASCALIENTES                   \n",
       "2 AGUASCALIENTES     UNIV. CUAUHTEMOC - PLANTEL AGUASCALIENTES      \n",
       "3 BAJA CALIFORNIA    CENTRO EST. UNIV. XOCHICALCO, U. ENSENADA      \n",
       "4 BAJA CALIFORNIA    CENTRO EST. UNIV. XOCHICALCO, U. TIJUANA       \n",
       "5 BAJA CALIFORNIA    UNIV. AUT. DE B.C. - CAMPUS VALLE DE LAS PALMAS\n",
       "6 BAJA CALIFORNIA    UNIV. AUT. DE B.C., U. ENSENADA                \n",
       "  Sustentantes Seleccionados Promedio generalconocimientos médicos\n",
       "1 239          84            67.52                                \n",
       "2 72           9             63.81                                \n",
       "3 247          48            61.16                                \n",
       "4 152          30            62.48                                \n",
       "5 135          16            62.70                                \n",
       "6 188          55            64.88                                "
      ]
     },
     "metadata": {},
     "output_type": "display_data"
    }
   ],
   "source": [
    "tabla <- docx_extract_tbl(docx = archivo)\n",
    "head(tabla)"
   ]
  },
  {
   "cell_type": "code",
   "execution_count": 6,
   "metadata": {},
   "outputs": [
    {
     "name": "stdout",
     "output_type": "stream",
     "text": [
      "'data.frame':\t113 obs. of  5 variables:\n",
      " $ Entidad Federativa                   : chr  \"AGUASCALIENTES\" \"AGUASCALIENTES\" \"BAJA CALIFORNIA\" \"BAJA CALIFORNIA\" ...\n",
      " $ Facultad o Escuela de Medicina       : chr  \"UNIV. AUT. DE AGUASCALIENTES\" \"UNIV. CUAUHTEMOC - PLANTEL AGUASCALIENTES\" \"CENTRO EST. UNIV. XOCHICALCO, U. ENSENADA\" \"CENTRO EST. UNIV. XOCHICALCO, U. TIJUANA\" ...\n",
      " $ Sustentantes                         : chr  \"239\" \"72\" \"247\" \"152\" ...\n",
      " $ Seleccionados                        : chr  \"84\" \"9\" \"48\" \"30\" ...\n",
      " $ Promedio generalconocimientos médicos: chr  \"67.52\" \"63.81\" \"61.16\" \"62.48\" ...\n"
     ]
    }
   ],
   "source": [
    "str(tabla)"
   ]
  },
  {
   "cell_type": "markdown",
   "metadata": {},
   "source": [
    "Cambiemos a numérico el tipo de datos de las 3 últimas columnas"
   ]
  },
  {
   "cell_type": "code",
   "execution_count": 7,
   "metadata": {},
   "outputs": [
    {
     "name": "stdout",
     "output_type": "stream",
     "text": [
      "'data.frame':\t113 obs. of  5 variables:\n",
      " $ Entidad Federativa                   : chr  \"AGUASCALIENTES\" \"AGUASCALIENTES\" \"BAJA CALIFORNIA\" \"BAJA CALIFORNIA\" ...\n",
      " $ Facultad o Escuela de Medicina       : chr  \"UNIV. AUT. DE AGUASCALIENTES\" \"UNIV. CUAUHTEMOC - PLANTEL AGUASCALIENTES\" \"CENTRO EST. UNIV. XOCHICALCO, U. ENSENADA\" \"CENTRO EST. UNIV. XOCHICALCO, U. TIJUANA\" ...\n",
      " $ Sustentantes                         : num  239 72 247 152 135 188 253 227 36 224 ...\n",
      " $ Seleccionados                        : num  84 9 48 30 16 55 103 85 5 38 ...\n",
      " $ Promedio generalconocimientos médicos: num  67.5 63.8 61.2 62.5 62.7 ...\n"
     ]
    }
   ],
   "source": [
    "tabla$Sustentantes <- as.numeric(tabla$Sustentantes)\n",
    "tabla$Seleccionados <- as.numeric(tabla$Seleccionados)\n",
    "tabla$`Promedio generalconocimientos médicos` <- as.numeric(tabla$`Promedio generalconocimientos médicos`)\n",
    "str(tabla)"
   ]
  },
  {
   "cell_type": "markdown",
   "metadata": {},
   "source": [
    "Ahora podemos calcular la probabilidad (porcentual) de éxito, definida como:\n",
    "$$probabilidad_{éxito}=100 \\times \\dfrac{\\sum Seleccionados}{\\sum Sustentantes}$$"
   ]
  },
  {
   "cell_type": "code",
   "execution_count": 13,
   "metadata": {},
   "outputs": [
    {
     "data": {
      "text/html": [
       "22.2440573935984"
      ],
      "text/latex": [
       "22.2440573935984"
      ],
      "text/markdown": [
       "22.2440573935984"
      ],
      "text/plain": [
       "[1] 22.24406"
      ]
     },
     "metadata": {},
     "output_type": "display_data"
    }
   ],
   "source": [
    "probExito <- 100 * sum(tabla$Seleccionados) / sum(tabla$Sustentantes)\n",
    "probExito"
   ]
  },
  {
   "cell_type": "markdown",
   "metadata": {},
   "source": [
    "Es decir, que un médico general sólo tiene el $22.24\\%$ de probabilidad de pasar el exámen. Es decir, que sólo $11$ de cada $50$ sustentantes aprobarán el ENARM. Procedamos a calcular la eficiencia:"
   ]
  },
  {
   "cell_type": "code",
   "execution_count": 15,
   "metadata": {},
   "outputs": [
    {
     "data": {
      "text/plain": [
       "   Min. 1st Qu.  Median    Mean 3rd Qu.    Max. \n",
       " 0.0000  0.1250  0.1895  0.2072  0.2685  0.8571 "
      ]
     },
     "metadata": {},
     "output_type": "display_data"
    }
   ],
   "source": [
    "eficiencia <- tabla$Seleccionados / tabla$Sustentantes\n",
    "summary(eficiencia)"
   ]
  },
  {
   "cell_type": "code",
   "execution_count": 16,
   "metadata": {},
   "outputs": [
    {
     "data": {
      "text/html": [
       "<table>\n",
       "<thead><tr><th scope=col>tabla..Facultad.o.Escuela.de.Medicina.</th><th scope=col>eficiencia</th></tr></thead>\n",
       "<tbody>\n",
       "\t<tr><td>UNIV. AUT. DE AGUASCALIENTES                   </td><td>0.3514644                                      </td></tr>\n",
       "\t<tr><td>UNIV. CUAUHTEMOC - PLANTEL AGUASCALIENTES      </td><td>0.1250000                                      </td></tr>\n",
       "\t<tr><td>CENTRO EST. UNIV. XOCHICALCO, U. ENSENADA      </td><td>0.1943320                                      </td></tr>\n",
       "\t<tr><td>CENTRO EST. UNIV. XOCHICALCO, U. TIJUANA       </td><td>0.1973684                                      </td></tr>\n",
       "\t<tr><td>UNIV. AUT. DE B.C. - CAMPUS VALLE DE LAS PALMAS</td><td>0.1185185                                      </td></tr>\n",
       "\t<tr><td>UNIV. AUT. DE B.C., U. ENSENADA                </td><td>0.2925532                                      </td></tr>\n",
       "</tbody>\n",
       "</table>\n"
      ],
      "text/latex": [
       "\\begin{tabular}{r|ll}\n",
       " tabla..Facultad.o.Escuela.de.Medicina. & eficiencia\\\\\n",
       "\\hline\n",
       "\t UNIV. AUT. DE AGUASCALIENTES                    & 0.3514644                                      \\\\\n",
       "\t UNIV. CUAUHTEMOC - PLANTEL AGUASCALIENTES       & 0.1250000                                      \\\\\n",
       "\t CENTRO EST. UNIV. XOCHICALCO, U. ENSENADA       & 0.1943320                                      \\\\\n",
       "\t CENTRO EST. UNIV. XOCHICALCO, U. TIJUANA        & 0.1973684                                      \\\\\n",
       "\t UNIV. AUT. DE B.C. - CAMPUS VALLE DE LAS PALMAS & 0.1185185                                      \\\\\n",
       "\t UNIV. AUT. DE B.C., U. ENSENADA                 & 0.2925532                                      \\\\\n",
       "\\end{tabular}\n"
      ],
      "text/markdown": [
       "\n",
       "tabla..Facultad.o.Escuela.de.Medicina. | eficiencia | \n",
       "|---|---|---|---|---|---|\n",
       "| UNIV. AUT. DE AGUASCALIENTES                    | 0.3514644                                       | \n",
       "| UNIV. CUAUHTEMOC - PLANTEL AGUASCALIENTES       | 0.1250000                                       | \n",
       "| CENTRO EST. UNIV. XOCHICALCO, U. ENSENADA       | 0.1943320                                       | \n",
       "| CENTRO EST. UNIV. XOCHICALCO, U. TIJUANA        | 0.1973684                                       | \n",
       "| UNIV. AUT. DE B.C. - CAMPUS VALLE DE LAS PALMAS | 0.1185185                                       | \n",
       "| UNIV. AUT. DE B.C., U. ENSENADA                 | 0.2925532                                       | \n",
       "\n",
       "\n"
      ],
      "text/plain": [
       "  tabla..Facultad.o.Escuela.de.Medicina.          eficiencia\n",
       "1 UNIV. AUT. DE AGUASCALIENTES                    0.3514644 \n",
       "2 UNIV. CUAUHTEMOC - PLANTEL AGUASCALIENTES       0.1250000 \n",
       "3 CENTRO EST. UNIV. XOCHICALCO, U. ENSENADA       0.1943320 \n",
       "4 CENTRO EST. UNIV. XOCHICALCO, U. TIJUANA        0.1973684 \n",
       "5 UNIV. AUT. DE B.C. - CAMPUS VALLE DE LAS PALMAS 0.1185185 \n",
       "6 UNIV. AUT. DE B.C., U. ENSENADA                 0.2925532 "
      ]
     },
     "metadata": {},
     "output_type": "display_data"
    }
   ],
   "source": [
    "resultados <- data.frame(tabla$`Facultad o Escuela de Medicina`,eficiencia)\n",
    "head(resultados)"
   ]
  },
  {
   "cell_type": "markdown",
   "metadata": {},
   "source": [
    "Por lo que la universidad con la más alta eficiencia es:"
   ]
  },
  {
   "cell_type": "code",
   "execution_count": 22,
   "metadata": {},
   "outputs": [
    {
     "data": {
      "text/html": [
       "<table>\n",
       "<thead><tr><th></th><th scope=col>tabla..Facultad.o.Escuela.de.Medicina.</th><th scope=col>eficiencia</th></tr></thead>\n",
       "<tbody>\n",
       "\t<tr><th scope=row>28</th><td>UNIV. PANAMERICANA</td><td>0.8571429         </td></tr>\n",
       "</tbody>\n",
       "</table>\n"
      ],
      "text/latex": [
       "\\begin{tabular}{r|ll}\n",
       "  & tabla..Facultad.o.Escuela.de.Medicina. & eficiencia\\\\\n",
       "\\hline\n",
       "\t28 & UNIV. PANAMERICANA & 0.8571429         \\\\\n",
       "\\end{tabular}\n"
      ],
      "text/markdown": [
       "\n",
       "| <!--/--> | tabla..Facultad.o.Escuela.de.Medicina. | eficiencia | \n",
       "|---|\n",
       "| 28 | UNIV. PANAMERICANA | 0.8571429          | \n",
       "\n",
       "\n"
      ],
      "text/plain": [
       "   tabla..Facultad.o.Escuela.de.Medicina. eficiencia\n",
       "28 UNIV. PANAMERICANA                     0.8571429 "
      ]
     },
     "metadata": {},
     "output_type": "display_data"
    }
   ],
   "source": [
    "head(resultados[order(resultados$eficiencia,decreasing = TRUE),],1)"
   ]
  },
  {
   "cell_type": "markdown",
   "metadata": {},
   "source": [
    "la que peor eficiencia tuvo:"
   ]
  },
  {
   "cell_type": "code",
   "execution_count": 23,
   "metadata": {},
   "outputs": [
    {
     "data": {
      "text/html": [
       "<table>\n",
       "<thead><tr><th></th><th scope=col>tabla..Facultad.o.Escuela.de.Medicina.</th><th scope=col>eficiencia</th></tr></thead>\n",
       "<tbody>\n",
       "\t<tr><th scope=row>19</th><td>ESC. MÉDICO - MILITAR SEDENA</td><td>0                           </td></tr>\n",
       "</tbody>\n",
       "</table>\n"
      ],
      "text/latex": [
       "\\begin{tabular}{r|ll}\n",
       "  & tabla..Facultad.o.Escuela.de.Medicina. & eficiencia\\\\\n",
       "\\hline\n",
       "\t19 & ESC. MÉDICO - MILITAR SEDENA & 0                           \\\\\n",
       "\\end{tabular}\n"
      ],
      "text/markdown": [
       "\n",
       "| <!--/--> | tabla..Facultad.o.Escuela.de.Medicina. | eficiencia | \n",
       "|---|\n",
       "| 19 | ESC. MÉDICO - MILITAR SEDENA | 0                            | \n",
       "\n",
       "\n"
      ],
      "text/plain": [
       "   tabla..Facultad.o.Escuela.de.Medicina. eficiencia\n",
       "19 ESC. MÉDICO - MILITAR SEDENA           0         "
      ]
     },
     "metadata": {},
     "output_type": "display_data"
    }
   ],
   "source": [
    "tail(resultados[order(resultados$eficiencia,decreasing = TRUE),],1)"
   ]
  },
  {
   "cell_type": "markdown",
   "metadata": {},
   "source": [
    "las universidades cuya eficiencia está en el 3er cuartil:"
   ]
  },
  {
   "cell_type": "code",
   "execution_count": 25,
   "metadata": {},
   "outputs": [
    {
     "data": {
      "text/html": [
       "<dl class=dl-horizontal>\n",
       "\t<dt>0%</dt>\n",
       "\t\t<dd>0</dd>\n",
       "\t<dt>25%</dt>\n",
       "\t\t<dd>0.125</dd>\n",
       "\t<dt>50%</dt>\n",
       "\t\t<dd>0.189458689458689</dd>\n",
       "\t<dt>75%</dt>\n",
       "\t\t<dd>0.268518518518519</dd>\n",
       "\t<dt>100%</dt>\n",
       "\t\t<dd>0.857142857142857</dd>\n",
       "</dl>\n"
      ],
      "text/latex": [
       "\\begin{description*}\n",
       "\\item[0\\textbackslash{}\\%] 0\n",
       "\\item[25\\textbackslash{}\\%] 0.125\n",
       "\\item[50\\textbackslash{}\\%] 0.189458689458689\n",
       "\\item[75\\textbackslash{}\\%] 0.268518518518519\n",
       "\\item[100\\textbackslash{}\\%] 0.857142857142857\n",
       "\\end{description*}\n"
      ],
      "text/markdown": [
       "0%\n",
       ":   025%\n",
       ":   0.12550%\n",
       ":   0.18945868945868975%\n",
       ":   0.268518518518519100%\n",
       ":   0.857142857142857\n",
       "\n"
      ],
      "text/plain": [
       "       0%       25%       50%       75%      100% \n",
       "0.0000000 0.1250000 0.1894587 0.2685185 0.8571429 "
      ]
     },
     "metadata": {},
     "output_type": "display_data"
    }
   ],
   "source": [
    "quantile(resultados$eficiencia)"
   ]
  },
  {
   "cell_type": "code",
   "execution_count": 30,
   "metadata": {},
   "outputs": [
    {
     "data": {
      "text/html": [
       "<strong>75%:</strong> 0.268518518518519"
      ],
      "text/latex": [
       "\\textbf{75\\textbackslash{}\\%:} 0.268518518518519"
      ],
      "text/markdown": [
       "**75%:** 0.268518518518519"
      ],
      "text/plain": [
       "      75% \n",
       "0.2685185 "
      ]
     },
     "metadata": {},
     "output_type": "display_data"
    }
   ],
   "source": [
    "quantile(resultados$eficiencia)[4]"
   ]
  },
  {
   "cell_type": "code",
   "execution_count": 32,
   "metadata": {},
   "outputs": [
    {
     "data": {
      "text/html": [
       "<table>\n",
       "<thead><tr><th></th><th scope=col>tabla..Facultad.o.Escuela.de.Medicina.</th><th scope=col>eficiencia</th></tr></thead>\n",
       "<tbody>\n",
       "\t<tr><th scope=row>28</th><td>UNIV. PANAMERICANA                                   </td><td>0.8571429                                            </td></tr>\n",
       "\t<tr><th scope=row>82</th><td>UNIV. AUT. DE SAN LUIS POTOSÍ                        </td><td>0.5200000                                            </td></tr>\n",
       "\t<tr><th scope=row>17</th><td>UNIV. AUT. DE CHIHUAHUA                              </td><td>0.4263959                                            </td></tr>\n",
       "\t<tr><th scope=row>7</th><td>UNIV. AUT. DE B.C., U. MEXICALI                      </td><td>0.4071146                                            </td></tr>\n",
       "\t<tr><th scope=row>27</th><td>UNIV. LA SALLE                                       </td><td>0.3904494                                            </td></tr>\n",
       "\t<tr><th scope=row>31</th><td>UNIV. AUT. DE COAHUILA, U. TORREÓN                   </td><td>0.3879781                                            </td></tr>\n",
       "\t<tr><th scope=row>57</th><td>UNIV. DE GUADALAJARA, U. LOS ALTOS                   </td><td>0.3796296                                            </td></tr>\n",
       "\t<tr><th scope=row>68</th><td>INST. TECNOLÓGICO EST. SUP. MONTERREY                </td><td>0.3765690                                            </td></tr>\n",
       "\t<tr><th scope=row>8</th><td>UNIV. AUT. DE B.C., U. TIJUANA                       </td><td>0.3744493                                            </td></tr>\n",
       "\t<tr><th scope=row>30</th><td>UNIV. AUT. DE COAHUILA, U. SALTILLO                  </td><td>0.3644068                                            </td></tr>\n",
       "\t<tr><th scope=row>79</th><td>UNIV. AUT. DE QUERÉTARO                              </td><td>0.3532338                                            </td></tr>\n",
       "\t<tr><th scope=row>69</th><td>UNIV. AUT. DE NUEVO LEÓN                             </td><td>0.3530351                                            </td></tr>\n",
       "\t<tr><th scope=row>1</th><td>UNIV. AUT. DE AGUASCALIENTES                         </td><td>0.3514644                                            </td></tr>\n",
       "\t<tr><th scope=row>85</th><td>UNIV. DE SONORA                                      </td><td>0.3298611                                            </td></tr>\n",
       "\t<tr><th scope=row>71</th><td>UNIV. MONTEMORELOS                                   </td><td>0.3250000                                            </td></tr>\n",
       "\t<tr><th scope=row>45</th><td>UNIV. DE GUANAJUATO                                  </td><td>0.3241758                                            </td></tr>\n",
       "\t<tr><th scope=row>70</th><td>UNIV. DE MONTERREY                                   </td><td>0.3224756                                            </td></tr>\n",
       "\t<tr><th scope=row>53</th><td>UNIV. DE GUADALAJARA                                 </td><td>0.3116185                                            </td></tr>\n",
       "\t<tr><th scope=row>56</th><td>UNIV. DE GUADALAJARA, U. CD. GUZMÁN                  </td><td>0.3095238                                            </td></tr>\n",
       "\t<tr><th scope=row>110</th><td>UNIV. AUT. DE YUCATÁN                                </td><td>0.3023256                                            </td></tr>\n",
       "\t<tr><th scope=row>43</th><td>UNIV. AUT. DEL EDO. DE MÉXICO                        </td><td>0.2977528                                            </td></tr>\n",
       "\t<tr><th scope=row>6</th><td>UNIV. AUT. DE B.C., U. ENSENADA                      </td><td>0.2925532                                            </td></tr>\n",
       "\t<tr><th scope=row>39</th><td>UNIV. JUÁREZ DEL EDO. DURANGO, U. GÓMEZ PALACIO      </td><td>0.2903226                                            </td></tr>\n",
       "\t<tr><th scope=row>24</th><td>UNAM FM CU                                           </td><td>0.2846648                                            </td></tr>\n",
       "\t<tr><th scope=row>84</th><td>UNIV. AUT. DE SINALOA                                </td><td>0.2831541                                            </td></tr>\n",
       "\t<tr><th scope=row>65</th><td>UNIV. AUT. DE MORELOS                                </td><td>0.2756184                                            </td></tr>\n",
       "\t<tr><th scope=row>86</th><td>UNIV. DEL VALLE DE MÉXICO - CAMPUS HERMOSILLO        </td><td>0.2739726                                            </td></tr>\n",
       "\t<tr><th scope=row>93</th><td>UNIV. AUT. DE TAMPS, U. TAMPICO                      </td><td>0.2704403                                            </td></tr>\n",
       "\t<tr><th scope=row>54</th><td>UNIV. DE GUADALAJARA CENTRO UNIVERSITARIO DE LA COSTA</td><td>0.2685185                                            </td></tr>\n",
       "</tbody>\n",
       "</table>\n"
      ],
      "text/latex": [
       "\\begin{tabular}{r|ll}\n",
       "  & tabla..Facultad.o.Escuela.de.Medicina. & eficiencia\\\\\n",
       "\\hline\n",
       "\t28 & UNIV. PANAMERICANA                                    & 0.8571429                                            \\\\\n",
       "\t82 & UNIV. AUT. DE SAN LUIS POTOSÍ                         & 0.5200000                                            \\\\\n",
       "\t17 & UNIV. AUT. DE CHIHUAHUA                               & 0.4263959                                            \\\\\n",
       "\t7 & UNIV. AUT. DE B.C., U. MEXICALI                       & 0.4071146                                            \\\\\n",
       "\t27 & UNIV. LA SALLE                                        & 0.3904494                                            \\\\\n",
       "\t31 & UNIV. AUT. DE COAHUILA, U. TORREÓN                    & 0.3879781                                            \\\\\n",
       "\t57 & UNIV. DE GUADALAJARA, U. LOS ALTOS                    & 0.3796296                                            \\\\\n",
       "\t68 & INST. TECNOLÓGICO EST. SUP. MONTERREY                 & 0.3765690                                            \\\\\n",
       "\t8 & UNIV. AUT. DE B.C., U. TIJUANA                        & 0.3744493                                            \\\\\n",
       "\t30 & UNIV. AUT. DE COAHUILA, U. SALTILLO                   & 0.3644068                                            \\\\\n",
       "\t79 & UNIV. AUT. DE QUERÉTARO                               & 0.3532338                                            \\\\\n",
       "\t69 & UNIV. AUT. DE NUEVO LEÓN                              & 0.3530351                                            \\\\\n",
       "\t1 & UNIV. AUT. DE AGUASCALIENTES                          & 0.3514644                                            \\\\\n",
       "\t85 & UNIV. DE SONORA                                       & 0.3298611                                            \\\\\n",
       "\t71 & UNIV. MONTEMORELOS                                    & 0.3250000                                            \\\\\n",
       "\t45 & UNIV. DE GUANAJUATO                                   & 0.3241758                                            \\\\\n",
       "\t70 & UNIV. DE MONTERREY                                    & 0.3224756                                            \\\\\n",
       "\t53 & UNIV. DE GUADALAJARA                                  & 0.3116185                                            \\\\\n",
       "\t56 & UNIV. DE GUADALAJARA, U. CD. GUZMÁN                   & 0.3095238                                            \\\\\n",
       "\t110 & UNIV. AUT. DE YUCATÁN                                 & 0.3023256                                            \\\\\n",
       "\t43 & UNIV. AUT. DEL EDO. DE MÉXICO                         & 0.2977528                                            \\\\\n",
       "\t6 & UNIV. AUT. DE B.C., U. ENSENADA                       & 0.2925532                                            \\\\\n",
       "\t39 & UNIV. JUÁREZ DEL EDO. DURANGO, U. GÓMEZ PALACIO       & 0.2903226                                            \\\\\n",
       "\t24 & UNAM FM CU                                            & 0.2846648                                            \\\\\n",
       "\t84 & UNIV. AUT. DE SINALOA                                 & 0.2831541                                            \\\\\n",
       "\t65 & UNIV. AUT. DE MORELOS                                 & 0.2756184                                            \\\\\n",
       "\t86 & UNIV. DEL VALLE DE MÉXICO - CAMPUS HERMOSILLO         & 0.2739726                                            \\\\\n",
       "\t93 & UNIV. AUT. DE TAMPS, U. TAMPICO                       & 0.2704403                                            \\\\\n",
       "\t54 & UNIV. DE GUADALAJARA CENTRO UNIVERSITARIO DE LA COSTA & 0.2685185                                            \\\\\n",
       "\\end{tabular}\n"
      ],
      "text/markdown": [
       "\n",
       "| <!--/--> | tabla..Facultad.o.Escuela.de.Medicina. | eficiencia | \n",
       "|---|---|---|---|---|---|---|---|---|---|---|---|---|---|---|---|---|---|---|---|---|---|---|---|---|---|---|---|---|\n",
       "| 28 | UNIV. PANAMERICANA                                    | 0.8571429                                             | \n",
       "| 82 | UNIV. AUT. DE SAN LUIS POTOSÍ                         | 0.5200000                                             | \n",
       "| 17 | UNIV. AUT. DE CHIHUAHUA                               | 0.4263959                                             | \n",
       "| 7 | UNIV. AUT. DE B.C., U. MEXICALI                       | 0.4071146                                             | \n",
       "| 27 | UNIV. LA SALLE                                        | 0.3904494                                             | \n",
       "| 31 | UNIV. AUT. DE COAHUILA, U. TORREÓN                    | 0.3879781                                             | \n",
       "| 57 | UNIV. DE GUADALAJARA, U. LOS ALTOS                    | 0.3796296                                             | \n",
       "| 68 | INST. TECNOLÓGICO EST. SUP. MONTERREY                 | 0.3765690                                             | \n",
       "| 8 | UNIV. AUT. DE B.C., U. TIJUANA                        | 0.3744493                                             | \n",
       "| 30 | UNIV. AUT. DE COAHUILA, U. SALTILLO                   | 0.3644068                                             | \n",
       "| 79 | UNIV. AUT. DE QUERÉTARO                               | 0.3532338                                             | \n",
       "| 69 | UNIV. AUT. DE NUEVO LEÓN                              | 0.3530351                                             | \n",
       "| 1 | UNIV. AUT. DE AGUASCALIENTES                          | 0.3514644                                             | \n",
       "| 85 | UNIV. DE SONORA                                       | 0.3298611                                             | \n",
       "| 71 | UNIV. MONTEMORELOS                                    | 0.3250000                                             | \n",
       "| 45 | UNIV. DE GUANAJUATO                                   | 0.3241758                                             | \n",
       "| 70 | UNIV. DE MONTERREY                                    | 0.3224756                                             | \n",
       "| 53 | UNIV. DE GUADALAJARA                                  | 0.3116185                                             | \n",
       "| 56 | UNIV. DE GUADALAJARA, U. CD. GUZMÁN                   | 0.3095238                                             | \n",
       "| 110 | UNIV. AUT. DE YUCATÁN                                 | 0.3023256                                             | \n",
       "| 43 | UNIV. AUT. DEL EDO. DE MÉXICO                         | 0.2977528                                             | \n",
       "| 6 | UNIV. AUT. DE B.C., U. ENSENADA                       | 0.2925532                                             | \n",
       "| 39 | UNIV. JUÁREZ DEL EDO. DURANGO, U. GÓMEZ PALACIO       | 0.2903226                                             | \n",
       "| 24 | UNAM FM CU                                            | 0.2846648                                             | \n",
       "| 84 | UNIV. AUT. DE SINALOA                                 | 0.2831541                                             | \n",
       "| 65 | UNIV. AUT. DE MORELOS                                 | 0.2756184                                             | \n",
       "| 86 | UNIV. DEL VALLE DE MÉXICO - CAMPUS HERMOSILLO         | 0.2739726                                             | \n",
       "| 93 | UNIV. AUT. DE TAMPS, U. TAMPICO                       | 0.2704403                                             | \n",
       "| 54 | UNIV. DE GUADALAJARA CENTRO UNIVERSITARIO DE LA COSTA | 0.2685185                                             | \n",
       "\n",
       "\n"
      ],
      "text/plain": [
       "    tabla..Facultad.o.Escuela.de.Medicina.                eficiencia\n",
       "28  UNIV. PANAMERICANA                                    0.8571429 \n",
       "82  UNIV. AUT. DE SAN LUIS POTOSÍ                         0.5200000 \n",
       "17  UNIV. AUT. DE CHIHUAHUA                               0.4263959 \n",
       "7   UNIV. AUT. DE B.C., U. MEXICALI                       0.4071146 \n",
       "27  UNIV. LA SALLE                                        0.3904494 \n",
       "31  UNIV. AUT. DE COAHUILA, U. TORREÓN                    0.3879781 \n",
       "57  UNIV. DE GUADALAJARA, U. LOS ALTOS                    0.3796296 \n",
       "68  INST. TECNOLÓGICO EST. SUP. MONTERREY                 0.3765690 \n",
       "8   UNIV. AUT. DE B.C., U. TIJUANA                        0.3744493 \n",
       "30  UNIV. AUT. DE COAHUILA, U. SALTILLO                   0.3644068 \n",
       "79  UNIV. AUT. DE QUERÉTARO                               0.3532338 \n",
       "69  UNIV. AUT. DE NUEVO LEÓN                              0.3530351 \n",
       "1   UNIV. AUT. DE AGUASCALIENTES                          0.3514644 \n",
       "85  UNIV. DE SONORA                                       0.3298611 \n",
       "71  UNIV. MONTEMORELOS                                    0.3250000 \n",
       "45  UNIV. DE GUANAJUATO                                   0.3241758 \n",
       "70  UNIV. DE MONTERREY                                    0.3224756 \n",
       "53  UNIV. DE GUADALAJARA                                  0.3116185 \n",
       "56  UNIV. DE GUADALAJARA, U. CD. GUZMÁN                   0.3095238 \n",
       "110 UNIV. AUT. DE YUCATÁN                                 0.3023256 \n",
       "43  UNIV. AUT. DEL EDO. DE MÉXICO                         0.2977528 \n",
       "6   UNIV. AUT. DE B.C., U. ENSENADA                       0.2925532 \n",
       "39  UNIV. JUÁREZ DEL EDO. DURANGO, U. GÓMEZ PALACIO       0.2903226 \n",
       "24  UNAM FM CU                                            0.2846648 \n",
       "84  UNIV. AUT. DE SINALOA                                 0.2831541 \n",
       "65  UNIV. AUT. DE MORELOS                                 0.2756184 \n",
       "86  UNIV. DEL VALLE DE MÉXICO - CAMPUS HERMOSILLO         0.2739726 \n",
       "93  UNIV. AUT. DE TAMPS, U. TAMPICO                       0.2704403 \n",
       "54  UNIV. DE GUADALAJARA CENTRO UNIVERSITARIO DE LA COSTA 0.2685185 "
      ]
     },
     "metadata": {},
     "output_type": "display_data"
    }
   ],
   "source": [
    "super <- resultados[resultados$eficiencia >= quantile(resultados$eficiencia)[4], ]\n",
    "super[order(super$eficiencia,decreasing = TRUE),]"
   ]
  },
  {
   "cell_type": "code",
   "execution_count": 35,
   "metadata": {},
   "outputs": [
    {
     "data": {
      "image/png": "[encoded data removed]",
      "text/plain": [
       "Plot with title “Histogram of eficiencia”"
      ]
     },
     "metadata": {},
     "output_type": "display_data"
    }
   ],
   "source": [
    "hist(eficiencia)"
   ]
  },
  {
   "cell_type": "code",
   "execution_count": 36,
   "metadata": {},
   "outputs": [
    {
     "data": {
      "image/png": "[encoded data removed]",
      "text/plain": [
       "plot without title"
      ]
     },
     "metadata": {},
     "output_type": "display_data"
    }
   ],
   "source": [
    "boxplot(eficiencia)"
   ]
  },
  {
   "cell_type": "markdown",
   "metadata": {},
   "source": [
    "Hasta aquí la tarea/reto del ENARM 2017."
   ]
  },
  {
   "cell_type": "markdown",
   "metadata": {},
   "source": [
    "#### 1. Lectura de archivos MS Excel"
   ]
  },
  {
   "cell_type": "code",
   "execution_count": 38,
   "metadata": {},
   "outputs": [],
   "source": [
    "#install.packages(\"readxl\")"
   ]
  },
  {
   "cell_type": "code",
   "execution_count": 37,
   "metadata": {},
   "outputs": [],
   "source": [
    "library(readxl)"
   ]
  },
  {
   "cell_type": "code",
   "execution_count": null,
   "metadata": {},
   "outputs": [],
   "source": []
  },
  {
   "cell_type": "code",
   "execution_count": null,
   "metadata": {},
   "outputs": [],
   "source": []
  },
  {
   "cell_type": "code",
   "execution_count": null,
   "metadata": {},
   "outputs": [],
   "source": []
  },
  {
   "cell_type": "markdown",
   "metadata": {},
   "source": [
    "#### 2. Graficación múltiple"
   ]
  },
  {
   "cell_type": "code",
   "execution_count": null,
   "metadata": {},
   "outputs": [],
   "source": []
  },
  {
   "cell_type": "code",
   "execution_count": null,
   "metadata": {},
   "outputs": [],
   "source": []
  },
  {
   "cell_type": "markdown",
   "metadata": {},
   "source": [
    "#### 3. La proporción aúrea"
   ]
  },
  {
   "cell_type": "code",
   "execution_count": null,
   "metadata": {},
   "outputs": [],
   "source": []
  },
  {
   "cell_type": "code",
   "execution_count": null,
   "metadata": {},
   "outputs": [],
   "source": []
  },
  {
   "cell_type": "code",
   "execution_count": null,
   "metadata": {},
   "outputs": [],
   "source": []
  },
  {
   "cell_type": "markdown",
   "metadata": {},
   "source": [
    "#### 4. Exportación a archivo gráfico externo"
   ]
  },
  {
   "cell_type": "code",
   "execution_count": null,
   "metadata": {},
   "outputs": [],
   "source": []
  },
  {
   "cell_type": "code",
   "execution_count": null,
   "metadata": {},
   "outputs": [],
   "source": []
  },
  {
   "cell_type": "code",
   "execution_count": null,
   "metadata": {},
   "outputs": [],
   "source": []
  },
  {
   "cell_type": "code",
   "execution_count": null,
   "metadata": {},
   "outputs": [],
   "source": []
  }
 ],
 "metadata": {
  "kernelspec": {
   "display_name": "R",
   "language": "R",
   "name": "ir"
  },
  "language_info": {
   "codemirror_mode": "r",
   "file_extension": ".r",
   "mimetype": "text/x-r-source",
   "name": "R",
   "pygments_lexer": "r",
   "version": "3.4.3"
  }
 },
 "nbformat": 4,
 "nbformat_minor": 2
}
