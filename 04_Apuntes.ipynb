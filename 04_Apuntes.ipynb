{
 "cells": [
  {
   "cell_type": "markdown",
   "metadata": {},
   "source": [
    "<img src=\"http://universidadcucii.mx/img/demos/law-firm/logo.png\" width=\"150\">\n",
    "\n",
    "# Universidad CUCII \n",
    "## Estadística para la Educación\n",
    "\n",
    "### Sesión 05/05 (Sábado 2018-06-30)"
   ]
  },
  {
   "cell_type": "code",
   "execution_count": 1,
   "metadata": {},
   "outputs": [
    {
     "data": {
      "text/html": [
       "1.61803398874989"
      ],
      "text/latex": [
       "1.61803398874989"
      ],
      "text/markdown": [
       "1.61803398874989"
      ],
      "text/plain": [
       "[1] 1.618034"
      ]
     },
     "metadata": {},
     "output_type": "display_data"
    }
   ],
   "source": [
    "#R como una calculadora\n",
    "fi <- (1 +  sqrt(5) )/2\n",
    "fi"
   ]
  },
  {
   "cell_type": "markdown",
   "metadata": {},
   "source": [
    "Teniendo el archivo *Totales_modif.csv* en la ruta default que indica la orden:"
   ]
  },
  {
   "cell_type": "code",
   "execution_count": 2,
   "metadata": {},
   "outputs": [
    {
     "data": {
      "text/html": [
       "'/home/ani/Dropbox/sonora/CUCII-StatsEdu'"
      ],
      "text/latex": [
       "'/home/ani/Dropbox/sonora/CUCII-StatsEdu'"
      ],
      "text/markdown": [
       "'/home/ani/Dropbox/sonora/CUCII-StatsEdu'"
      ],
      "text/plain": [
       "[1] \"/home/ani/Dropbox/sonora/CUCII-StatsEdu\""
      ]
     },
     "metadata": {},
     "output_type": "display_data"
    }
   ],
   "source": [
    "getwd()"
   ]
  },
  {
   "cell_type": "code",
   "execution_count": 3,
   "metadata": {},
   "outputs": [
    {
     "data": {
      "text/html": [
       "<table>\n",
       "<thead><tr><th scope=col>grupo</th><th scope=col>mat</th><th scope=col>nombrecompleto</th><th scope=col>sexo</th><th scope=col>promedio</th><th scope=col>demeritos</th><th scope=col>faltas</th></tr></thead>\n",
       "<tbody>\n",
       "\t<tr><td>2.1                                 </td><td>9737                                </td><td>ALVAREZ SÁNCHEZ KEVIN ALEXIS        </td><td>M                                   </td><td> 8.5                                </td><td> 0                                  </td><td> 7                                  </td></tr>\n",
       "\t<tr><td>2.1                                 </td><td>9628                                </td><td>ARROYO RUBIO IÑAKI IAN              </td><td>M                                   </td><td> 8.3                                </td><td>80                                  </td><td>11                                  </td></tr>\n",
       "\t<tr><td>2.1                                 </td><td>7801                                </td><td>GUZMÁN ESPINOZA IVAN                </td><td>M                                   </td><td> 6.4                                </td><td> 0                                  </td><td> 3                                  </td></tr>\n",
       "\t<tr><td>2.1                                 </td><td>7529                                </td><td>HERNÁNDEZ GRANADOS YESENIA ESMERALDA</td><td>F                                   </td><td>10.0                                </td><td> 0                                  </td><td> 2                                  </td></tr>\n",
       "\t<tr><td>2.1                                 </td><td>6137                                </td><td>LUNA BECERRA LILIANA                </td><td>F                                   </td><td> 9.7                                </td><td> 0                                  </td><td> 0                                  </td></tr>\n",
       "\t<tr><td>2.1                                 </td><td>6079                                </td><td>MARTÍNEZ CASTELLANOS HAZEL          </td><td>M                                   </td><td> 9.4                                </td><td> 5                                  </td><td> 7                                  </td></tr>\n",
       "</tbody>\n",
       "</table>\n"
      ],
      "text/latex": [
       "\\begin{tabular}{r|lllllll}\n",
       " grupo & mat & nombrecompleto & sexo & promedio & demeritos & faltas\\\\\n",
       "\\hline\n",
       "\t 2.1                                  & 9737                                 & ALVAREZ SÁNCHEZ KEVIN ALEXIS         & M                                    &  8.5                                 &  0                                   &  7                                  \\\\\n",
       "\t 2.1                                  & 9628                                 & ARROYO RUBIO IÑAKI IAN               & M                                    &  8.3                                 & 80                                   & 11                                  \\\\\n",
       "\t 2.1                                  & 7801                                 & GUZMÁN ESPINOZA IVAN                 & M                                    &  6.4                                 &  0                                   &  3                                  \\\\\n",
       "\t 2.1                                  & 7529                                 & HERNÁNDEZ GRANADOS YESENIA ESMERALDA & F                                    & 10.0                                 &  0                                   &  2                                  \\\\\n",
       "\t 2.1                                  & 6137                                 & LUNA BECERRA LILIANA                 & F                                    &  9.7                                 &  0                                   &  0                                  \\\\\n",
       "\t 2.1                                  & 6079                                 & MARTÍNEZ CASTELLANOS HAZEL           & M                                    &  9.4                                 &  5                                   &  7                                  \\\\\n",
       "\\end{tabular}\n"
      ],
      "text/markdown": [
       "\n",
       "grupo | mat | nombrecompleto | sexo | promedio | demeritos | faltas | \n",
       "|---|---|---|---|---|---|\n",
       "| 2.1                                  | 9737                                 | ALVAREZ SÁNCHEZ KEVIN ALEXIS         | M                                    |  8.5                                 |  0                                   |  7                                   | \n",
       "| 2.1                                  | 9628                                 | ARROYO RUBIO IÑAKI IAN               | M                                    |  8.3                                 | 80                                   | 11                                   | \n",
       "| 2.1                                  | 7801                                 | GUZMÁN ESPINOZA IVAN                 | M                                    |  6.4                                 |  0                                   |  3                                   | \n",
       "| 2.1                                  | 7529                                 | HERNÁNDEZ GRANADOS YESENIA ESMERALDA | F                                    | 10.0                                 |  0                                   |  2                                   | \n",
       "| 2.1                                  | 6137                                 | LUNA BECERRA LILIANA                 | F                                    |  9.7                                 |  0                                   |  0                                   | \n",
       "| 2.1                                  | 6079                                 | MARTÍNEZ CASTELLANOS HAZEL           | M                                    |  9.4                                 |  5                                   |  7                                   | \n",
       "\n",
       "\n"
      ],
      "text/plain": [
       "  grupo mat  nombrecompleto                       sexo promedio demeritos\n",
       "1 2.1   9737 ALVAREZ SÁNCHEZ KEVIN ALEXIS         M     8.5      0       \n",
       "2 2.1   9628 ARROYO RUBIO IÑAKI IAN               M     8.3     80       \n",
       "3 2.1   7801 GUZMÁN ESPINOZA IVAN                 M     6.4      0       \n",
       "4 2.1   7529 HERNÁNDEZ GRANADOS YESENIA ESMERALDA F    10.0      0       \n",
       "5 2.1   6137 LUNA BECERRA LILIANA                 F     9.7      0       \n",
       "6 2.1   6079 MARTÍNEZ CASTELLANOS HAZEL           M     9.4      5       \n",
       "  faltas\n",
       "1  7    \n",
       "2 11    \n",
       "3  3    \n",
       "4  2    \n",
       "5  0    \n",
       "6  7    "
      ]
     },
     "metadata": {},
     "output_type": "display_data"
    }
   ],
   "source": [
    "d <- read.csv(file = \"Totales_modif.csv\")\n",
    "head(d)"
   ]
  },
  {
   "cell_type": "markdown",
   "metadata": {},
   "source": [
    "Revisemos los tipos de variables que sean correctos:"
   ]
  },
  {
   "cell_type": "code",
   "execution_count": 4,
   "metadata": {},
   "outputs": [
    {
     "name": "stdout",
     "output_type": "stream",
     "text": [
      "'data.frame':\t81 obs. of  7 variables:\n",
      " $ grupo         : num  2.1 2.1 2.1 2.1 2.1 2.1 2.1 2.1 2.1 2.1 ...\n",
      " $ mat           : int  9737 9628 7801 7529 6137 6079 9957 12522 7387 9761 ...\n",
      " $ nombrecompleto: Factor w/ 81 levels \"ALVAREZ SÁNCHEZ KEVIN ALEXIS\",..: 1 3 30 31 37 40 41 43 46 48 ...\n",
      " $ sexo          : Factor w/ 2 levels \"F\",\"M\": 2 2 2 1 1 2 2 2 2 2 ...\n",
      " $ promedio      : num  8.5 8.3 6.4 10 9.7 9.4 8.5 10 7.2 8.4 ...\n",
      " $ demeritos     : int  0 80 0 0 0 5 0 90 0 55 ...\n",
      " $ faltas        : int  7 11 3 2 0 7 3 3 6 4 ...\n"
     ]
    }
   ],
   "source": [
    "str(d)"
   ]
  },
  {
   "cell_type": "markdown",
   "metadata": {},
   "source": [
    "tenemos que:\n",
    "- grupo debería ser Factor\n",
    "- nombrecompleto debería ser Charater"
   ]
  },
  {
   "cell_type": "code",
   "execution_count": 5,
   "metadata": {},
   "outputs": [
    {
     "name": "stdout",
     "output_type": "stream",
     "text": [
      "'data.frame':\t81 obs. of  7 variables:\n",
      " $ grupo         : Factor w/ 4 levels \"2.1\",\"2.2\",\"2.3\",..: 1 1 1 1 1 1 1 1 1 1 ...\n",
      " $ mat           : int  9737 9628 7801 7529 6137 6079 9957 12522 7387 9761 ...\n",
      " $ nombrecompleto: chr  \"ALVAREZ SÁNCHEZ KEVIN ALEXIS\" \"ARROYO RUBIO IÑAKI IAN\" \"GUZMÁN ESPINOZA IVAN\" \"HERNÁNDEZ GRANADOS YESENIA ESMERALDA\" ...\n",
      " $ sexo          : Factor w/ 2 levels \"F\",\"M\": 2 2 2 1 1 2 2 2 2 2 ...\n",
      " $ promedio      : num  8.5 8.3 6.4 10 9.7 9.4 8.5 10 7.2 8.4 ...\n",
      " $ demeritos     : int  0 80 0 0 0 5 0 90 0 55 ...\n",
      " $ faltas        : int  7 11 3 2 0 7 3 3 6 4 ...\n"
     ]
    }
   ],
   "source": [
    "d$grupo <- as.factor(d$grupo)\n",
    "d$nombrecompleto <- as.character(d$nombrecompleto)\n",
    "str(d)"
   ]
  },
  {
   "cell_type": "markdown",
   "metadata": {},
   "source": [
    "#### 1. Promedio por grupos\n",
    "Utilizamos la función *boxplot* con la nomenclatura variable1 *explicadapor* variable2, mediante el símbolo: $\\sim$ (para las víctimas del windows, que si está bien configurado tu teclado latinoamericano apretando altgr y la tecla '+', debería escribirlo; de lo contrario la secuencia alt+126 también funciona)  "
   ]
  },
  {
   "cell_type": "code",
   "execution_count": 8,
   "metadata": {},
   "outputs": [
    {
     "data": {
      "image/png": "[encoded data removed]",
      "text/plain": [
       "plot without title"
      ]
     },
     "metadata": {},
     "output_type": "display_data"
    }
   ],
   "source": [
    "boxplot(d$promedio ~ d$grupo) #ésto se lee promedio explicado por grupo"
   ]
  },
  {
   "cell_type": "markdown",
   "metadata": {},
   "source": [
    "#### 2. Deméritos por grupos"
   ]
  },
  {
   "cell_type": "code",
   "execution_count": 9,
   "metadata": {},
   "outputs": [
    {
     "data": {
      "image/png": "[encoded data removed]",
      "text/plain": [
       "plot without title"
      ]
     },
     "metadata": {},
     "output_type": "display_data"
    }
   ],
   "source": [
    "boxplot(d$demeritos ~ d$grupo)"
   ]
  },
  {
   "cell_type": "markdown",
   "metadata": {},
   "source": [
    "La importancia de no etiquetar tan a la ligera los grupos en las escuelas debido al [Efecto Pigmalión](https://es.wikipedia.org/wiki/Efecto_Pigmalión), conviene a veces nombrarlos con etiquetas que no presupongan un órden, sino cualidades complementarias entre sí (\"Compromiso\", \"Responsabilidad\", etc.) o totalmente neutras (\"Bach\", \"Mozart\", etc.)"
   ]
  },
  {
   "cell_type": "markdown",
   "metadata": {},
   "source": [
    "#### 3. Calificaciones por sexo"
   ]
  },
  {
   "cell_type": "code",
   "execution_count": 10,
   "metadata": {},
   "outputs": [
    {
     "data": {
      "image/png": "[encoded data removed]",
      "text/plain": [
       "plot without title"
      ]
     },
     "metadata": {},
     "output_type": "display_data"
    }
   ],
   "source": [
    "boxplot(d$promedio ~ d$sexo)"
   ]
  },
  {
   "cell_type": "markdown",
   "metadata": {},
   "source": [
    "#### 4. Resúmenes por grupo\n",
    "Recordemos que la manera de hacer subconjuntos de un data.frame es mediante la sintaxis:\n",
    "$$dataframe [ renglones, columnas ]$$\n",
    "si la condición estará en los renglones, por ejemplo, y se quieren todas las columnas:\n",
    "$$dataframe [ dataframe$variable <= limite,  ]$$\n",
    "la coma y el espacio en blanco antes del corchete le indican a R que se quieren todas las columnas en el resultado.\n"
   ]
  },
  {
   "cell_type": "code",
   "execution_count": 11,
   "metadata": {},
   "outputs": [
    {
     "data": {
      "text/html": [
       "<ol class=list-inline>\n",
       "\t<li>'2.1'</li>\n",
       "\t<li>'2.2'</li>\n",
       "\t<li>'2.3'</li>\n",
       "\t<li>'2.4'</li>\n",
       "</ol>\n"
      ],
      "text/latex": [
       "\\begin{enumerate*}\n",
       "\\item '2.1'\n",
       "\\item '2.2'\n",
       "\\item '2.3'\n",
       "\\item '2.4'\n",
       "\\end{enumerate*}\n"
      ],
      "text/markdown": [
       "1. '2.1'\n",
       "2. '2.2'\n",
       "3. '2.3'\n",
       "4. '2.4'\n",
       "\n",
       "\n"
      ],
      "text/plain": [
       "[1] \"2.1\" \"2.2\" \"2.3\" \"2.4\""
      ]
     },
     "metadata": {},
     "output_type": "display_data"
    }
   ],
   "source": [
    "#¿cuántos grupos hay?\n",
    "levels(d$grupo)"
   ]
  },
  {
   "cell_type": "code",
   "execution_count": 13,
   "metadata": {},
   "outputs": [
    {
     "data": {
      "text/html": [
       "<table>\n",
       "<thead><tr><th></th><th scope=col>grupo</th><th scope=col>mat</th><th scope=col>nombrecompleto</th><th scope=col>sexo</th><th scope=col>promedio</th><th scope=col>demeritos</th><th scope=col>faltas</th></tr></thead>\n",
       "<tbody>\n",
       "\t<tr><th scope=row>44</th><td>2.3                               </td><td>9618                              </td><td>AVILÉS RIOS JESSICA               </td><td>F                                 </td><td>9.1                               </td><td> 0                                </td><td> 9                                </td></tr>\n",
       "\t<tr><th scope=row>45</th><td>2.3                               </td><td>8575                              </td><td>AYMERICH VELAZQUEZ JESSICA YAHAIRA</td><td>F                                 </td><td>9.9                               </td><td> 0                                </td><td> 4                                </td></tr>\n",
       "\t<tr><th scope=row>46</th><td>2.3                               </td><td>7720                              </td><td>CALLAHAN RUIZ SEBASTIAN           </td><td>M                                 </td><td>7.5                               </td><td>80                                </td><td>15                                </td></tr>\n",
       "\t<tr><th scope=row>47</th><td>2.3                               </td><td>9649                              </td><td>CAMPERO HERNÁNDEZ JIMENA AMERICA  </td><td>F                                 </td><td>7.9                               </td><td> 0                                </td><td>16                                </td></tr>\n",
       "\t<tr><th scope=row>48</th><td>2.3                               </td><td>9640                              </td><td>CUEVAS VIVANCO GAEL ARTURO        </td><td>M                                 </td><td>8.5                               </td><td> 0                                </td><td> 9                                </td></tr>\n",
       "\t<tr><th scope=row>49</th><td>2.3                               </td><td>7647                              </td><td>ESTRADA PEREO IAN                 </td><td>M                                 </td><td>7.0                               </td><td> 0                                </td><td>13                                </td></tr>\n",
       "</tbody>\n",
       "</table>\n"
      ],
      "text/latex": [
       "\\begin{tabular}{r|lllllll}\n",
       "  & grupo & mat & nombrecompleto & sexo & promedio & demeritos & faltas\\\\\n",
       "\\hline\n",
       "\t44 & 2.3                                & 9618                               & AVILÉS RIOS JESSICA                & F                                  & 9.1                                &  0                                 &  9                                \\\\\n",
       "\t45 & 2.3                                & 8575                               & AYMERICH VELAZQUEZ JESSICA YAHAIRA & F                                  & 9.9                                &  0                                 &  4                                \\\\\n",
       "\t46 & 2.3                                & 7720                               & CALLAHAN RUIZ SEBASTIAN            & M                                  & 7.5                                & 80                                 & 15                                \\\\\n",
       "\t47 & 2.3                                & 9649                               & CAMPERO HERNÁNDEZ JIMENA AMERICA   & F                                  & 7.9                                &  0                                 & 16                                \\\\\n",
       "\t48 & 2.3                                & 9640                               & CUEVAS VIVANCO GAEL ARTURO         & M                                  & 8.5                                &  0                                 &  9                                \\\\\n",
       "\t49 & 2.3                                & 7647                               & ESTRADA PEREO IAN                  & M                                  & 7.0                                &  0                                 & 13                                \\\\\n",
       "\\end{tabular}\n"
      ],
      "text/markdown": [
       "\n",
       "| <!--/--> | grupo | mat | nombrecompleto | sexo | promedio | demeritos | faltas | \n",
       "|---|---|---|---|---|---|\n",
       "| 44 | 2.3                                | 9618                               | AVILÉS RIOS JESSICA                | F                                  | 9.1                                |  0                                 |  9                                 | \n",
       "| 45 | 2.3                                | 8575                               | AYMERICH VELAZQUEZ JESSICA YAHAIRA | F                                  | 9.9                                |  0                                 |  4                                 | \n",
       "| 46 | 2.3                                | 7720                               | CALLAHAN RUIZ SEBASTIAN            | M                                  | 7.5                                | 80                                 | 15                                 | \n",
       "| 47 | 2.3                                | 9649                               | CAMPERO HERNÁNDEZ JIMENA AMERICA   | F                                  | 7.9                                |  0                                 | 16                                 | \n",
       "| 48 | 2.3                                | 9640                               | CUEVAS VIVANCO GAEL ARTURO         | M                                  | 8.5                                |  0                                 |  9                                 | \n",
       "| 49 | 2.3                                | 7647                               | ESTRADA PEREO IAN                  | M                                  | 7.0                                |  0                                 | 13                                 | \n",
       "\n",
       "\n"
      ],
      "text/plain": [
       "   grupo mat  nombrecompleto                     sexo promedio demeritos faltas\n",
       "44 2.3   9618 AVILÉS RIOS JESSICA                F    9.1       0         9    \n",
       "45 2.3   8575 AYMERICH VELAZQUEZ JESSICA YAHAIRA F    9.9       0         4    \n",
       "46 2.3   7720 CALLAHAN RUIZ SEBASTIAN            M    7.5      80        15    \n",
       "47 2.3   9649 CAMPERO HERNÁNDEZ JIMENA AMERICA   F    7.9       0        16    \n",
       "48 2.3   9640 CUEVAS VIVANCO GAEL ARTURO         M    8.5       0         9    \n",
       "49 2.3   7647 ESTRADA PEREO IAN                  M    7.0       0        13    "
      ]
     },
     "metadata": {},
     "output_type": "display_data"
    }
   ],
   "source": [
    "g3 <- d[d$grupo==\"2.3\",] \n",
    "head(g3)"
   ]
  },
  {
   "cell_type": "code",
   "execution_count": 31,
   "metadata": {},
   "outputs": [
    {
     "data": {
      "image/png": "[encoded data removed]",
      "text/plain": [
       "Plot with title “Deméritos por sexos”"
      ]
     },
     "metadata": {},
     "output_type": "display_data"
    }
   ],
   "source": [
    "layout(matrix(1:4,2,2,byrow = T))\n",
    "boxplot(g3$promedio,horizontal = T, main=\"Resúmen de promedios\")\n",
    "boxplot(g3$promedio ~ g3$sexo,main=\"Aprovechamiento por sexos\")\n",
    "hist(g3$promedio,xlab = \"Calificaciones\",ylab = \"Frecuencia\",main=\"\",col=\"black\",border = F)\n",
    "boxplot(g3$demeritos ~ g3$sexo, main=\"Deméritos por sexos\")"
   ]
  },
  {
   "cell_type": "markdown",
   "metadata": {},
   "source": [
    "¿Cómo escoger a los alumnos cuyo promedio esté en el cuartil superior?"
   ]
  },
  {
   "cell_type": "code",
   "execution_count": 33,
   "metadata": {},
   "outputs": [
    {
     "data": {
      "text/plain": [
       "   Min. 1st Qu.  Median    Mean 3rd Qu.    Max. \n",
       "   7.00    7.90    8.70    8.59    9.10    9.90 "
      ]
     },
     "metadata": {},
     "output_type": "display_data"
    }
   ],
   "source": [
    "summary(g3$promedio)"
   ]
  },
  {
   "cell_type": "code",
   "execution_count": 37,
   "metadata": {},
   "outputs": [
    {
     "data": {
      "text/html": [
       "<table>\n",
       "<thead><tr><th></th><th scope=col>grupo</th><th scope=col>mat</th><th scope=col>nombrecompleto</th><th scope=col>sexo</th><th scope=col>promedio</th><th scope=col>demeritos</th><th scope=col>faltas</th></tr></thead>\n",
       "<tbody>\n",
       "\t<tr><th scope=row>44</th><td>2.3                               </td><td>9618                              </td><td>AVILÉS RIOS JESSICA               </td><td>F                                 </td><td>9.1                               </td><td>  0                               </td><td>9                                 </td></tr>\n",
       "\t<tr><th scope=row>45</th><td>2.3                               </td><td>8575                              </td><td>AYMERICH VELAZQUEZ JESSICA YAHAIRA</td><td>F                                 </td><td>9.9                               </td><td>  0                               </td><td>4                                 </td></tr>\n",
       "\t<tr><th scope=row>52</th><td>2.3                               </td><td>  NA                              </td><td>HERNÁNDEZ REYNA ELIANE ANDREA     </td><td>F                                 </td><td>9.2                               </td><td> 85                               </td><td>9                                 </td></tr>\n",
       "\t<tr><th scope=row>58</th><td>2.3                               </td><td>9672                              </td><td>RAMOS TELLEZ DIEGO EMILIO         </td><td>M                                 </td><td>9.9                               </td><td>  0                               </td><td>1                                 </td></tr>\n",
       "\t<tr><th scope=row>60</th><td>2.3                               </td><td>7545                              </td><td>RÍOS LÓPEZ ROMINA                 </td><td>F                                 </td><td>9.1                               </td><td>  0                               </td><td>6                                 </td></tr>\n",
       "\t<tr><th scope=row>62</th><td>2.3                               </td><td>8368                              </td><td>SERRANO VILLAGRANA SELENE LIZETTE </td><td>F                                 </td><td>9.8                               </td><td>160                               </td><td>1                                 </td></tr>\n",
       "\t<tr><th scope=row>63</th><td>2.3                               </td><td>8105                              </td><td>TORRES MORALES JORGE ISRAEL       </td><td>M                                 </td><td>9.3                               </td><td>  0                               </td><td>4                                 </td></tr>\n",
       "\t<tr><th scope=row>64</th><td>2.3                               </td><td>8334                              </td><td>VIVEROS RODRÍGUEZ JONATAN DANIEL  </td><td>M                                 </td><td>9.1                               </td><td>  0                               </td><td>3                                 </td></tr>\n",
       "</tbody>\n",
       "</table>\n"
      ],
      "text/latex": [
       "\\begin{tabular}{r|lllllll}\n",
       "  & grupo & mat & nombrecompleto & sexo & promedio & demeritos & faltas\\\\\n",
       "\\hline\n",
       "\t44 & 2.3                                & 9618                               & AVILÉS RIOS JESSICA                & F                                  & 9.1                                &   0                                & 9                                 \\\\\n",
       "\t45 & 2.3                                & 8575                               & AYMERICH VELAZQUEZ JESSICA YAHAIRA & F                                  & 9.9                                &   0                                & 4                                 \\\\\n",
       "\t52 & 2.3                                &   NA                               & HERNÁNDEZ REYNA ELIANE ANDREA      & F                                  & 9.2                                &  85                                & 9                                 \\\\\n",
       "\t58 & 2.3                                & 9672                               & RAMOS TELLEZ DIEGO EMILIO          & M                                  & 9.9                                &   0                                & 1                                 \\\\\n",
       "\t60 & 2.3                                & 7545                               & RÍOS LÓPEZ ROMINA                  & F                                  & 9.1                                &   0                                & 6                                 \\\\\n",
       "\t62 & 2.3                                & 8368                               & SERRANO VILLAGRANA SELENE LIZETTE  & F                                  & 9.8                                & 160                                & 1                                 \\\\\n",
       "\t63 & 2.3                                & 8105                               & TORRES MORALES JORGE ISRAEL        & M                                  & 9.3                                &   0                                & 4                                 \\\\\n",
       "\t64 & 2.3                                & 8334                               & VIVEROS RODRÍGUEZ JONATAN DANIEL   & M                                  & 9.1                                &   0                                & 3                                 \\\\\n",
       "\\end{tabular}\n"
      ],
      "text/markdown": [
       "\n",
       "| <!--/--> | grupo | mat | nombrecompleto | sexo | promedio | demeritos | faltas | \n",
       "|---|---|---|---|---|---|---|---|\n",
       "| 44 | 2.3                                | 9618                               | AVILÉS RIOS JESSICA                | F                                  | 9.1                                |   0                                | 9                                  | \n",
       "| 45 | 2.3                                | 8575                               | AYMERICH VELAZQUEZ JESSICA YAHAIRA | F                                  | 9.9                                |   0                                | 4                                  | \n",
       "| 52 | 2.3                                |   NA                               | HERNÁNDEZ REYNA ELIANE ANDREA      | F                                  | 9.2                                |  85                                | 9                                  | \n",
       "| 58 | 2.3                                | 9672                               | RAMOS TELLEZ DIEGO EMILIO          | M                                  | 9.9                                |   0                                | 1                                  | \n",
       "| 60 | 2.3                                | 7545                               | RÍOS LÓPEZ ROMINA                  | F                                  | 9.1                                |   0                                | 6                                  | \n",
       "| 62 | 2.3                                | 8368                               | SERRANO VILLAGRANA SELENE LIZETTE  | F                                  | 9.8                                | 160                                | 1                                  | \n",
       "| 63 | 2.3                                | 8105                               | TORRES MORALES JORGE ISRAEL        | M                                  | 9.3                                |   0                                | 4                                  | \n",
       "| 64 | 2.3                                | 8334                               | VIVEROS RODRÍGUEZ JONATAN DANIEL   | M                                  | 9.1                                |   0                                | 3                                  | \n",
       "\n",
       "\n"
      ],
      "text/plain": [
       "   grupo mat  nombrecompleto                     sexo promedio demeritos faltas\n",
       "44 2.3   9618 AVILÉS RIOS JESSICA                F    9.1        0       9     \n",
       "45 2.3   8575 AYMERICH VELAZQUEZ JESSICA YAHAIRA F    9.9        0       4     \n",
       "52 2.3     NA HERNÁNDEZ REYNA ELIANE ANDREA      F    9.2       85       9     \n",
       "58 2.3   9672 RAMOS TELLEZ DIEGO EMILIO          M    9.9        0       1     \n",
       "60 2.3   7545 RÍOS LÓPEZ ROMINA                  F    9.1        0       6     \n",
       "62 2.3   8368 SERRANO VILLAGRANA SELENE LIZETTE  F    9.8      160       1     \n",
       "63 2.3   8105 TORRES MORALES JORGE ISRAEL        M    9.3        0       4     \n",
       "64 2.3   8334 VIVEROS RODRÍGUEZ JONATAN DANIEL   M    9.1        0       3     "
      ]
     },
     "metadata": {},
     "output_type": "display_data"
    }
   ],
   "source": [
    "g3[g3$promedio>=9.10,]"
   ]
  },
  {
   "cell_type": "markdown",
   "metadata": {},
   "source": [
    "Otra manera directa es mediante la función *quantile*"
   ]
  },
  {
   "cell_type": "code",
   "execution_count": 43,
   "metadata": {},
   "outputs": [
    {
     "data": {
      "text/html": [
       "<table>\n",
       "<thead><tr><th></th><th scope=col>grupo</th><th scope=col>mat</th><th scope=col>nombrecompleto</th><th scope=col>sexo</th><th scope=col>promedio</th><th scope=col>demeritos</th><th scope=col>faltas</th></tr></thead>\n",
       "<tbody>\n",
       "\t<tr><th scope=row>44</th><td>2.3                               </td><td>9618                              </td><td>AVILÉS RIOS JESSICA               </td><td>F                                 </td><td>9.1                               </td><td>  0                               </td><td>9                                 </td></tr>\n",
       "\t<tr><th scope=row>45</th><td>2.3                               </td><td>8575                              </td><td>AYMERICH VELAZQUEZ JESSICA YAHAIRA</td><td>F                                 </td><td>9.9                               </td><td>  0                               </td><td>4                                 </td></tr>\n",
       "\t<tr><th scope=row>52</th><td>2.3                               </td><td>  NA                              </td><td>HERNÁNDEZ REYNA ELIANE ANDREA     </td><td>F                                 </td><td>9.2                               </td><td> 85                               </td><td>9                                 </td></tr>\n",
       "\t<tr><th scope=row>58</th><td>2.3                               </td><td>9672                              </td><td>RAMOS TELLEZ DIEGO EMILIO         </td><td>M                                 </td><td>9.9                               </td><td>  0                               </td><td>1                                 </td></tr>\n",
       "\t<tr><th scope=row>60</th><td>2.3                               </td><td>7545                              </td><td>RÍOS LÓPEZ ROMINA                 </td><td>F                                 </td><td>9.1                               </td><td>  0                               </td><td>6                                 </td></tr>\n",
       "\t<tr><th scope=row>62</th><td>2.3                               </td><td>8368                              </td><td>SERRANO VILLAGRANA SELENE LIZETTE </td><td>F                                 </td><td>9.8                               </td><td>160                               </td><td>1                                 </td></tr>\n",
       "\t<tr><th scope=row>63</th><td>2.3                               </td><td>8105                              </td><td>TORRES MORALES JORGE ISRAEL       </td><td>M                                 </td><td>9.3                               </td><td>  0                               </td><td>4                                 </td></tr>\n",
       "\t<tr><th scope=row>64</th><td>2.3                               </td><td>8334                              </td><td>VIVEROS RODRÍGUEZ JONATAN DANIEL  </td><td>M                                 </td><td>9.1                               </td><td>  0                               </td><td>3                                 </td></tr>\n",
       "</tbody>\n",
       "</table>\n"
      ],
      "text/latex": [
       "\\begin{tabular}{r|lllllll}\n",
       "  & grupo & mat & nombrecompleto & sexo & promedio & demeritos & faltas\\\\\n",
       "\\hline\n",
       "\t44 & 2.3                                & 9618                               & AVILÉS RIOS JESSICA                & F                                  & 9.1                                &   0                                & 9                                 \\\\\n",
       "\t45 & 2.3                                & 8575                               & AYMERICH VELAZQUEZ JESSICA YAHAIRA & F                                  & 9.9                                &   0                                & 4                                 \\\\\n",
       "\t52 & 2.3                                &   NA                               & HERNÁNDEZ REYNA ELIANE ANDREA      & F                                  & 9.2                                &  85                                & 9                                 \\\\\n",
       "\t58 & 2.3                                & 9672                               & RAMOS TELLEZ DIEGO EMILIO          & M                                  & 9.9                                &   0                                & 1                                 \\\\\n",
       "\t60 & 2.3                                & 7545                               & RÍOS LÓPEZ ROMINA                  & F                                  & 9.1                                &   0                                & 6                                 \\\\\n",
       "\t62 & 2.3                                & 8368                               & SERRANO VILLAGRANA SELENE LIZETTE  & F                                  & 9.8                                & 160                                & 1                                 \\\\\n",
       "\t63 & 2.3                                & 8105                               & TORRES MORALES JORGE ISRAEL        & M                                  & 9.3                                &   0                                & 4                                 \\\\\n",
       "\t64 & 2.3                                & 8334                               & VIVEROS RODRÍGUEZ JONATAN DANIEL   & M                                  & 9.1                                &   0                                & 3                                 \\\\\n",
       "\\end{tabular}\n"
      ],
      "text/markdown": [
       "\n",
       "| <!--/--> | grupo | mat | nombrecompleto | sexo | promedio | demeritos | faltas | \n",
       "|---|---|---|---|---|---|---|---|\n",
       "| 44 | 2.3                                | 9618                               | AVILÉS RIOS JESSICA                | F                                  | 9.1                                |   0                                | 9                                  | \n",
       "| 45 | 2.3                                | 8575                               | AYMERICH VELAZQUEZ JESSICA YAHAIRA | F                                  | 9.9                                |   0                                | 4                                  | \n",
       "| 52 | 2.3                                |   NA                               | HERNÁNDEZ REYNA ELIANE ANDREA      | F                                  | 9.2                                |  85                                | 9                                  | \n",
       "| 58 | 2.3                                | 9672                               | RAMOS TELLEZ DIEGO EMILIO          | M                                  | 9.9                                |   0                                | 1                                  | \n",
       "| 60 | 2.3                                | 7545                               | RÍOS LÓPEZ ROMINA                  | F                                  | 9.1                                |   0                                | 6                                  | \n",
       "| 62 | 2.3                                | 8368                               | SERRANO VILLAGRANA SELENE LIZETTE  | F                                  | 9.8                                | 160                                | 1                                  | \n",
       "| 63 | 2.3                                | 8105                               | TORRES MORALES JORGE ISRAEL        | M                                  | 9.3                                |   0                                | 4                                  | \n",
       "| 64 | 2.3                                | 8334                               | VIVEROS RODRÍGUEZ JONATAN DANIEL   | M                                  | 9.1                                |   0                                | 3                                  | \n",
       "\n",
       "\n"
      ],
      "text/plain": [
       "   grupo mat  nombrecompleto                     sexo promedio demeritos faltas\n",
       "44 2.3   9618 AVILÉS RIOS JESSICA                F    9.1        0       9     \n",
       "45 2.3   8575 AYMERICH VELAZQUEZ JESSICA YAHAIRA F    9.9        0       4     \n",
       "52 2.3     NA HERNÁNDEZ REYNA ELIANE ANDREA      F    9.2       85       9     \n",
       "58 2.3   9672 RAMOS TELLEZ DIEGO EMILIO          M    9.9        0       1     \n",
       "60 2.3   7545 RÍOS LÓPEZ ROMINA                  F    9.1        0       6     \n",
       "62 2.3   8368 SERRANO VILLAGRANA SELENE LIZETTE  F    9.8      160       1     \n",
       "63 2.3   8105 TORRES MORALES JORGE ISRAEL        M    9.3        0       4     \n",
       "64 2.3   8334 VIVEROS RODRÍGUEZ JONATAN DANIEL   M    9.1        0       3     "
      ]
     },
     "metadata": {},
     "output_type": "display_data"
    }
   ],
   "source": [
    "g3[ g3$promedio >= quantile(g3$promedio)[[4]],]"
   ]
  }
 ],
 "metadata": {
  "kernelspec": {
   "display_name": "R",
   "language": "R",
   "name": "ir"
  },
  "language_info": {
   "codemirror_mode": "r",
   "file_extension": ".r",
   "mimetype": "text/x-r-source",
   "name": "R",
   "pygments_lexer": "r",
   "version": "3.4.3"
  }
 },
 "nbformat": 4,
 "nbformat_minor": 2
}
