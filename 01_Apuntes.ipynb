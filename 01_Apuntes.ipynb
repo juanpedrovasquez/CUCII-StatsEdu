{
 "cells": [
  {
   "cell_type": "markdown",
   "metadata": {},
   "source": [
    "\n",
    "\n",
    "# Universidad CUCII \n",
    "## Estadística para la Educación\n",
    "\n",
    "### Sesión 01/05"
   ]
  },
  {
   "cell_type": "markdown",
   "metadata": {},
   "source": [
    "#### Glosario\n",
    "1. Datos\n",
    "1. Elementos\n",
    "1. Variables\n",
    "1. Observaciones\n",
    "1. Conjunto de datos\n",
    "1. Población\n",
    "1. Muestra\n",
    "1. Parámetros y estadísticas de muestra.\n",
    "\n",
    "1. Datos cuantitativamente a escala\n",
    "1. Datos escalados cualitativamente.\n",
    "1. Datos transversales\n",
    "1. Datos longitudinals.\n",
    "1. Estadísticas descriptivas\n",
    "1. Probabilidad,\n",
    "1. Otras estadísticas\n",
    "1. Estimación estadística y\n",
    "inferencias estadísticas sobre un parámetro de población.\n",
    "7. Aprende un poco sobre R, cómo descargarlo, cómo instalarlo y cómo\n",
    "para operarlo de algunas formas básicas.\n",
    "\n"
   ]
  }
 ],
 "metadata": {
  "kernelspec": {
   "display_name": "R",
   "language": "R",
   "name": "ir"
  },
  "language_info": {
   "codemirror_mode": "r",
   "file_extension": ".r",
   "mimetype": "text/x-r-source",
   "name": "R",
   "pygments_lexer": "r",
   "version": "3.4.3"
  }
 },
 "nbformat": 4,
 "nbformat_minor": 2
}
