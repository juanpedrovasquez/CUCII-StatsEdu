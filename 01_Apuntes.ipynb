{
 "cells": [
  {
   "cell_type": "markdown",
   "metadata": {},
   "source": [
    "<img src=\"http://universidadcucii.mx/img/demos/law-firm/logo.png\" width=\"200\">\n",
    "\n",
    "# Universidad CUCII \n",
    "## Estadística para la Educación\n",
    "\n",
    "### Sesión 02/05 (realmente es la primera, la anterior fué la cero)"
   ]
  },
  {
   "cell_type": "markdown",
   "metadata": {},
   "source": [
    "#### Glosario\n",
    "1. **Datos:** son los hechos o medidas que se recolectaron, se presentan y se analizan; por ejemplo, las calificaciones de los alumnos, el peso y talla de los pacientes, etc.\n",
    "1. **Elementos:** es una unidad de datos, que se representan como un conjunto de atributos o medidas; son las entidades sobre los cuales se recabaron los datos; por ejemplo, ciudades, personas, etc. \n",
    "1. **Variables:** es un atributo de de un elemento que puede asumir valores o categorías; por ejemplo, el género de un paciente, las asistencias a un curso de un alumno, el sueldo y edad de un trabajador etc.\n",
    "1. **Observaciones:** es un conjunto de valores en todas sus variables para un solo elemento.\n",
    "1. **Conjunto de datos:** son los datos en todas sus variables y todas sus observaciones, recolectados para un cierto estudio.\n",
    "1. **Población:** el universo de todos los elementos de interes; por definición, en principio, inaccesibles en su totalidad.\n",
    "1. **Muestra:** sección estudiada de la población, es un subconjunto de la población.\n",
    "1. **Parámetros y estadísticas de muestra:** son las características de interés de estudio, que guardan relación con las de la población y se pueden estimar con una cierta cantidad de incertidumbre.\n",
    "\n",
    "Los siguientes quedaron de tarea, sólo había que encontrarlos en [Statistics with R A Beginner's Guide by Robert Stinerock](https://www.up-4.net/73k4qkfwgn1m). Y mandarlas respondidas en el cuerpo del correo a [juanpedro.cucii@gmail.com](mailto:juanpedro.cucii@gmail.com).\n",
    "\n",
    "1. ~~Datos cuantitativamente a escala~~\n",
    "1. ~~Datos escalados cualitativamente~~\n",
    "1. ~~Datos transversales~~\n",
    "1. ~~Datos longitudinales~~\n",
    "1. ~~Estadísticas descriptivas~~\n",
    "1. ~~Probabilidad~~\n",
    "1. ~~Otras estadísticas~~\n",
    "1. ~~Estimación estadística~~\n",
    "1. ~~Inferencias estadísticas sobre un parámetro de población~~\n"
   ]
  },
  {
   "cell_type": "markdown",
   "metadata": {},
   "source": [
    "## Conociendo R\n",
    "Todos los alumnos trabajan sobre la consola de RStudio, el programa que tiene el ícono similar a éste:\n",
    "<img src=\"https://www.rstudio.com/wp-content/uploads/2014/07/RStudio-Logo-Blue-Gradient.png\" width=\"200\">\n",
    "Y las órdenes se van tecleando en la consola, misma que se puede personalizar a través de Tools > Global Options > Pane Layout:\n",
    "<img src=\"https://ayeimanolr.files.wordpress.com/2013/04/r-rstudio-1-3-console.png\" width=\"400\">"
   ]
  },
  {
   "cell_type": "markdown",
   "metadata": {},
   "source": [
    "### 1. Operaciones básicas\n",
    "R en principio puede ser como una supercalculadora:"
   ]
  },
  {
   "cell_type": "code",
   "execution_count": 1,
   "metadata": {},
   "outputs": [
    {
     "data": {
      "text/html": [
       "9"
      ],
      "text/latex": [
       "9"
      ],
      "text/markdown": [
       "9"
      ],
      "text/plain": [
       "[1] 9"
      ]
     },
     "metadata": {},
     "output_type": "display_data"
    }
   ],
   "source": [
    "2+7"
   ]
  },
  {
   "cell_type": "code",
   "execution_count": 3,
   "metadata": {},
   "outputs": [
    {
     "data": {
      "text/html": [
       "14"
      ],
      "text/latex": [
       "14"
      ],
      "text/markdown": [
       "14"
      ],
      "text/plain": [
       "[1] 14"
      ]
     },
     "metadata": {},
     "output_type": "display_data"
    }
   ],
   "source": [
    "#multiplicación\n",
    "2 * 7"
   ]
  },
  {
   "cell_type": "code",
   "execution_count": 8,
   "metadata": {},
   "outputs": [
    {
     "data": {
      "text/html": [
       "3.33333333333333"
      ],
      "text/latex": [
       "3.33333333333333"
      ],
      "text/markdown": [
       "3.33333333333333"
      ],
      "text/plain": [
       "[1] 3.333333"
      ]
     },
     "metadata": {},
     "output_type": "display_data"
    }
   ],
   "source": [
    "#división\n",
    "10 / 3"
   ]
  },
  {
   "cell_type": "code",
   "execution_count": 2,
   "metadata": {},
   "outputs": [
    {
     "data": {
      "text/html": [
       "2"
      ],
      "text/latex": [
       "2"
      ],
      "text/markdown": [
       "2"
      ],
      "text/plain": [
       "[1] 2"
      ]
     },
     "metadata": {},
     "output_type": "display_data"
    }
   ],
   "source": [
    "#residuo de dividir 37 entre 5\n",
    "37 %% 5"
   ]
  },
  {
   "cell_type": "code",
   "execution_count": 17,
   "metadata": {},
   "outputs": [],
   "source": [
    "#para obtener una lista de todos los operadores\n",
    "#aritméticos, con el comando help accedemos a la\n",
    "#ayuda sobre cualquier instrucción, en este caso\n",
    "#el símbolo de más \"+\"\n",
    "help(\"+\")"
   ]
  },
  {
   "cell_type": "markdown",
   "metadata": {},
   "source": [
    "### 2. Precedencia de operaciones\n",
    "Si no se utilizan los paréntesis, hay que tener cuidado al escribir las operaciones, pues llevan de manera natural un órden: primero potencias y raíces, luego multiplicación y división, luego suma y resta. A menos que con los paréntesis indiquemos qué va primero."
   ]
  },
  {
   "cell_type": "code",
   "execution_count": 9,
   "metadata": {},
   "outputs": [
    {
     "data": {
      "text/html": [
       "48"
      ],
      "text/latex": [
       "48"
      ],
      "text/markdown": [
       "48"
      ],
      "text/plain": [
       "[1] 48"
      ]
     },
     "metadata": {},
     "output_type": "display_data"
    }
   ],
   "source": [
    "3+5*9"
   ]
  },
  {
   "cell_type": "code",
   "execution_count": 10,
   "metadata": {},
   "outputs": [
    {
     "data": {
      "text/html": [
       "72"
      ],
      "text/latex": [
       "72"
      ],
      "text/markdown": [
       "72"
      ],
      "text/plain": [
       "[1] 72"
      ]
     },
     "metadata": {},
     "output_type": "display_data"
    }
   ],
   "source": [
    "(3+5)*9"
   ]
  },
  {
   "cell_type": "code",
   "execution_count": 12,
   "metadata": {},
   "outputs": [
    {
     "data": {
      "text/html": [
       "11"
      ],
      "text/latex": [
       "11"
      ],
      "text/markdown": [
       "11"
      ],
      "text/plain": [
       "[1] 11"
      ]
     },
     "metadata": {},
     "output_type": "display_data"
    }
   ],
   "source": [
    "#el acento circunflejo ^ indica potencia\n",
    "2+3^2"
   ]
  },
  {
   "cell_type": "code",
   "execution_count": 7,
   "metadata": {},
   "outputs": [
    {
     "data": {
      "text/html": [
       "25"
      ],
      "text/latex": [
       "25"
      ],
      "text/markdown": [
       "25"
      ],
      "text/plain": [
       "[1] 25"
      ]
     },
     "metadata": {},
     "output_type": "display_data"
    }
   ],
   "source": [
    "(2+3)^2"
   ]
  },
  {
   "cell_type": "markdown",
   "metadata": {},
   "source": [
    "### 3. Sucesiones de n hasta m"
   ]
  },
  {
   "cell_type": "code",
   "execution_count": 8,
   "metadata": {},
   "outputs": [
    {
     "data": {
      "text/html": [
       "<ol class=list-inline>\n",
       "\t<li>1</li>\n",
       "\t<li>2</li>\n",
       "\t<li>3</li>\n",
       "\t<li>4</li>\n",
       "\t<li>5</li>\n",
       "\t<li>6</li>\n",
       "\t<li>7</li>\n",
       "\t<li>8</li>\n",
       "\t<li>9</li>\n",
       "\t<li>10</li>\n",
       "\t<li>11</li>\n",
       "\t<li>12</li>\n",
       "\t<li>13</li>\n",
       "\t<li>14</li>\n",
       "\t<li>15</li>\n",
       "\t<li>16</li>\n",
       "\t<li>17</li>\n",
       "\t<li>18</li>\n",
       "\t<li>19</li>\n",
       "\t<li>20</li>\n",
       "\t<li>21</li>\n",
       "\t<li>22</li>\n",
       "\t<li>23</li>\n",
       "\t<li>24</li>\n",
       "\t<li>25</li>\n",
       "\t<li>26</li>\n",
       "\t<li>27</li>\n",
       "\t<li>28</li>\n",
       "\t<li>29</li>\n",
       "\t<li>30</li>\n",
       "</ol>\n"
      ],
      "text/latex": [
       "\\begin{enumerate*}\n",
       "\\item 1\n",
       "\\item 2\n",
       "\\item 3\n",
       "\\item 4\n",
       "\\item 5\n",
       "\\item 6\n",
       "\\item 7\n",
       "\\item 8\n",
       "\\item 9\n",
       "\\item 10\n",
       "\\item 11\n",
       "\\item 12\n",
       "\\item 13\n",
       "\\item 14\n",
       "\\item 15\n",
       "\\item 16\n",
       "\\item 17\n",
       "\\item 18\n",
       "\\item 19\n",
       "\\item 20\n",
       "\\item 21\n",
       "\\item 22\n",
       "\\item 23\n",
       "\\item 24\n",
       "\\item 25\n",
       "\\item 26\n",
       "\\item 27\n",
       "\\item 28\n",
       "\\item 29\n",
       "\\item 30\n",
       "\\end{enumerate*}\n"
      ],
      "text/markdown": [
       "1. 1\n",
       "2. 2\n",
       "3. 3\n",
       "4. 4\n",
       "5. 5\n",
       "6. 6\n",
       "7. 7\n",
       "8. 8\n",
       "9. 9\n",
       "10. 10\n",
       "11. 11\n",
       "12. 12\n",
       "13. 13\n",
       "14. 14\n",
       "15. 15\n",
       "16. 16\n",
       "17. 17\n",
       "18. 18\n",
       "19. 19\n",
       "20. 20\n",
       "21. 21\n",
       "22. 22\n",
       "23. 23\n",
       "24. 24\n",
       "25. 25\n",
       "26. 26\n",
       "27. 27\n",
       "28. 28\n",
       "29. 29\n",
       "30. 30\n",
       "\n",
       "\n"
      ],
      "text/plain": [
       " [1]  1  2  3  4  5  6  7  8  9 10 11 12 13 14 15 16 17 18 19 20 21 22 23 24 25\n",
       "[26] 26 27 28 29 30"
      ]
     },
     "metadata": {},
     "output_type": "display_data"
    }
   ],
   "source": [
    "1:30"
   ]
  },
  {
   "cell_type": "code",
   "execution_count": 1,
   "metadata": {},
   "outputs": [
    {
     "data": {
      "text/html": [
       "<ol class=list-inline>\n",
       "\t<li>30</li>\n",
       "\t<li>33</li>\n",
       "\t<li>36</li>\n",
       "\t<li>39</li>\n",
       "\t<li>42</li>\n",
       "\t<li>45</li>\n",
       "\t<li>48</li>\n",
       "\t<li>51</li>\n",
       "\t<li>54</li>\n",
       "\t<li>57</li>\n",
       "\t<li>60</li>\n",
       "\t<li>63</li>\n",
       "\t<li>66</li>\n",
       "\t<li>69</li>\n",
       "\t<li>72</li>\n",
       "\t<li>75</li>\n",
       "\t<li>78</li>\n",
       "\t<li>81</li>\n",
       "\t<li>84</li>\n",
       "\t<li>87</li>\n",
       "\t<li>90</li>\n",
       "\t<li>93</li>\n",
       "\t<li>96</li>\n",
       "\t<li>99</li>\n",
       "\t<li>102</li>\n",
       "\t<li>105</li>\n",
       "\t<li>108</li>\n",
       "\t<li>111</li>\n",
       "\t<li>114</li>\n",
       "\t<li>117</li>\n",
       "\t<li>120</li>\n",
       "\t<li>123</li>\n",
       "\t<li>126</li>\n",
       "\t<li>129</li>\n",
       "\t<li>132</li>\n",
       "\t<li>135</li>\n",
       "\t<li>138</li>\n",
       "\t<li>141</li>\n",
       "\t<li>144</li>\n",
       "\t<li>147</li>\n",
       "\t<li>150</li>\n",
       "</ol>\n"
      ],
      "text/latex": [
       "\\begin{enumerate*}\n",
       "\\item 30\n",
       "\\item 33\n",
       "\\item 36\n",
       "\\item 39\n",
       "\\item 42\n",
       "\\item 45\n",
       "\\item 48\n",
       "\\item 51\n",
       "\\item 54\n",
       "\\item 57\n",
       "\\item 60\n",
       "\\item 63\n",
       "\\item 66\n",
       "\\item 69\n",
       "\\item 72\n",
       "\\item 75\n",
       "\\item 78\n",
       "\\item 81\n",
       "\\item 84\n",
       "\\item 87\n",
       "\\item 90\n",
       "\\item 93\n",
       "\\item 96\n",
       "\\item 99\n",
       "\\item 102\n",
       "\\item 105\n",
       "\\item 108\n",
       "\\item 111\n",
       "\\item 114\n",
       "\\item 117\n",
       "\\item 120\n",
       "\\item 123\n",
       "\\item 126\n",
       "\\item 129\n",
       "\\item 132\n",
       "\\item 135\n",
       "\\item 138\n",
       "\\item 141\n",
       "\\item 144\n",
       "\\item 147\n",
       "\\item 150\n",
       "\\end{enumerate*}\n"
      ],
      "text/markdown": [
       "1. 30\n",
       "2. 33\n",
       "3. 36\n",
       "4. 39\n",
       "5. 42\n",
       "6. 45\n",
       "7. 48\n",
       "8. 51\n",
       "9. 54\n",
       "10. 57\n",
       "11. 60\n",
       "12. 63\n",
       "13. 66\n",
       "14. 69\n",
       "15. 72\n",
       "16. 75\n",
       "17. 78\n",
       "18. 81\n",
       "19. 84\n",
       "20. 87\n",
       "21. 90\n",
       "22. 93\n",
       "23. 96\n",
       "24. 99\n",
       "25. 102\n",
       "26. 105\n",
       "27. 108\n",
       "28. 111\n",
       "29. 114\n",
       "30. 117\n",
       "31. 120\n",
       "32. 123\n",
       "33. 126\n",
       "34. 129\n",
       "35. 132\n",
       "36. 135\n",
       "37. 138\n",
       "38. 141\n",
       "39. 144\n",
       "40. 147\n",
       "41. 150\n",
       "\n",
       "\n"
      ],
      "text/plain": [
       " [1]  30  33  36  39  42  45  48  51  54  57  60  63  66  69  72  75  78  81  84\n",
       "[20]  87  90  93  96  99 102 105 108 111 114 117 120 123 126 129 132 135 138 141\n",
       "[39] 144 147 150"
      ]
     },
     "metadata": {},
     "output_type": "display_data"
    }
   ],
   "source": [
    "seq(from = 30,to = 150,by = 3)"
   ]
  },
  {
   "cell_type": "code",
   "execution_count": 11,
   "metadata": {},
   "outputs": [
    {
     "data": {
      "text/html": [
       "<ol class=list-inline>\n",
       "\t<li>15</li>\n",
       "\t<li>16</li>\n",
       "\t<li>17</li>\n",
       "\t<li>18</li>\n",
       "\t<li>19</li>\n",
       "\t<li>20</li>\n",
       "\t<li>21</li>\n",
       "\t<li>22</li>\n",
       "\t<li>23</li>\n",
       "\t<li>24</li>\n",
       "\t<li>25</li>\n",
       "\t<li>26</li>\n",
       "\t<li>27</li>\n",
       "\t<li>28</li>\n",
       "\t<li>29</li>\n",
       "\t<li>30</li>\n",
       "\t<li>31</li>\n",
       "\t<li>32</li>\n",
       "\t<li>33</li>\n",
       "\t<li>34</li>\n",
       "\t<li>35</li>\n",
       "\t<li>36</li>\n",
       "\t<li>37</li>\n",
       "\t<li>38</li>\n",
       "\t<li>39</li>\n",
       "\t<li>40</li>\n",
       "\t<li>41</li>\n",
       "\t<li>42</li>\n",
       "\t<li>43</li>\n",
       "\t<li>44</li>\n",
       "\t<li>45</li>\n",
       "\t<li>46</li>\n",
       "\t<li>47</li>\n",
       "\t<li>48</li>\n",
       "\t<li>49</li>\n",
       "\t<li>50</li>\n",
       "\t<li>51</li>\n",
       "\t<li>52</li>\n",
       "\t<li>53</li>\n",
       "\t<li>54</li>\n",
       "\t<li>55</li>\n",
       "\t<li>56</li>\n",
       "\t<li>57</li>\n",
       "\t<li>58</li>\n",
       "\t<li>59</li>\n",
       "\t<li>60</li>\n",
       "\t<li>61</li>\n",
       "\t<li>62</li>\n",
       "\t<li>63</li>\n",
       "\t<li>64</li>\n",
       "\t<li>65</li>\n",
       "\t<li>66</li>\n",
       "\t<li>67</li>\n",
       "\t<li>68</li>\n",
       "\t<li>69</li>\n",
       "\t<li>70</li>\n",
       "\t<li>71</li>\n",
       "\t<li>72</li>\n",
       "\t<li>73</li>\n",
       "\t<li>74</li>\n",
       "\t<li>75</li>\n",
       "\t<li>76</li>\n",
       "\t<li>77</li>\n",
       "\t<li>78</li>\n",
       "\t<li>79</li>\n",
       "\t<li>80</li>\n",
       "\t<li>81</li>\n",
       "\t<li>82</li>\n",
       "\t<li>83</li>\n",
       "\t<li>84</li>\n",
       "\t<li>85</li>\n",
       "\t<li>86</li>\n",
       "\t<li>87</li>\n",
       "\t<li>88</li>\n",
       "\t<li>89</li>\n",
       "\t<li>90</li>\n",
       "\t<li>91</li>\n",
       "\t<li>92</li>\n",
       "\t<li>93</li>\n",
       "\t<li>94</li>\n",
       "\t<li>95</li>\n",
       "\t<li>96</li>\n",
       "\t<li>97</li>\n",
       "\t<li>98</li>\n",
       "\t<li>99</li>\n",
       "\t<li>100</li>\n",
       "</ol>\n"
      ],
      "text/latex": [
       "\\begin{enumerate*}\n",
       "\\item 15\n",
       "\\item 16\n",
       "\\item 17\n",
       "\\item 18\n",
       "\\item 19\n",
       "\\item 20\n",
       "\\item 21\n",
       "\\item 22\n",
       "\\item 23\n",
       "\\item 24\n",
       "\\item 25\n",
       "\\item 26\n",
       "\\item 27\n",
       "\\item 28\n",
       "\\item 29\n",
       "\\item 30\n",
       "\\item 31\n",
       "\\item 32\n",
       "\\item 33\n",
       "\\item 34\n",
       "\\item 35\n",
       "\\item 36\n",
       "\\item 37\n",
       "\\item 38\n",
       "\\item 39\n",
       "\\item 40\n",
       "\\item 41\n",
       "\\item 42\n",
       "\\item 43\n",
       "\\item 44\n",
       "\\item 45\n",
       "\\item 46\n",
       "\\item 47\n",
       "\\item 48\n",
       "\\item 49\n",
       "\\item 50\n",
       "\\item 51\n",
       "\\item 52\n",
       "\\item 53\n",
       "\\item 54\n",
       "\\item 55\n",
       "\\item 56\n",
       "\\item 57\n",
       "\\item 58\n",
       "\\item 59\n",
       "\\item 60\n",
       "\\item 61\n",
       "\\item 62\n",
       "\\item 63\n",
       "\\item 64\n",
       "\\item 65\n",
       "\\item 66\n",
       "\\item 67\n",
       "\\item 68\n",
       "\\item 69\n",
       "\\item 70\n",
       "\\item 71\n",
       "\\item 72\n",
       "\\item 73\n",
       "\\item 74\n",
       "\\item 75\n",
       "\\item 76\n",
       "\\item 77\n",
       "\\item 78\n",
       "\\item 79\n",
       "\\item 80\n",
       "\\item 81\n",
       "\\item 82\n",
       "\\item 83\n",
       "\\item 84\n",
       "\\item 85\n",
       "\\item 86\n",
       "\\item 87\n",
       "\\item 88\n",
       "\\item 89\n",
       "\\item 90\n",
       "\\item 91\n",
       "\\item 92\n",
       "\\item 93\n",
       "\\item 94\n",
       "\\item 95\n",
       "\\item 96\n",
       "\\item 97\n",
       "\\item 98\n",
       "\\item 99\n",
       "\\item 100\n",
       "\\end{enumerate*}\n"
      ],
      "text/markdown": [
       "1. 15\n",
       "2. 16\n",
       "3. 17\n",
       "4. 18\n",
       "5. 19\n",
       "6. 20\n",
       "7. 21\n",
       "8. 22\n",
       "9. 23\n",
       "10. 24\n",
       "11. 25\n",
       "12. 26\n",
       "13. 27\n",
       "14. 28\n",
       "15. 29\n",
       "16. 30\n",
       "17. 31\n",
       "18. 32\n",
       "19. 33\n",
       "20. 34\n",
       "21. 35\n",
       "22. 36\n",
       "23. 37\n",
       "24. 38\n",
       "25. 39\n",
       "26. 40\n",
       "27. 41\n",
       "28. 42\n",
       "29. 43\n",
       "30. 44\n",
       "31. 45\n",
       "32. 46\n",
       "33. 47\n",
       "34. 48\n",
       "35. 49\n",
       "36. 50\n",
       "37. 51\n",
       "38. 52\n",
       "39. 53\n",
       "40. 54\n",
       "41. 55\n",
       "42. 56\n",
       "43. 57\n",
       "44. 58\n",
       "45. 59\n",
       "46. 60\n",
       "47. 61\n",
       "48. 62\n",
       "49. 63\n",
       "50. 64\n",
       "51. 65\n",
       "52. 66\n",
       "53. 67\n",
       "54. 68\n",
       "55. 69\n",
       "56. 70\n",
       "57. 71\n",
       "58. 72\n",
       "59. 73\n",
       "60. 74\n",
       "61. 75\n",
       "62. 76\n",
       "63. 77\n",
       "64. 78\n",
       "65. 79\n",
       "66. 80\n",
       "67. 81\n",
       "68. 82\n",
       "69. 83\n",
       "70. 84\n",
       "71. 85\n",
       "72. 86\n",
       "73. 87\n",
       "74. 88\n",
       "75. 89\n",
       "76. 90\n",
       "77. 91\n",
       "78. 92\n",
       "79. 93\n",
       "80. 94\n",
       "81. 95\n",
       "82. 96\n",
       "83. 97\n",
       "84. 98\n",
       "85. 99\n",
       "86. 100\n",
       "\n",
       "\n"
      ],
      "text/plain": [
       " [1]  15  16  17  18  19  20  21  22  23  24  25  26  27  28  29  30  31  32  33\n",
       "[20]  34  35  36  37  38  39  40  41  42  43  44  45  46  47  48  49  50  51  52\n",
       "[39]  53  54  55  56  57  58  59  60  61  62  63  64  65  66  67  68  69  70  71\n",
       "[58]  72  73  74  75  76  77  78  79  80  81  82  83  84  85  86  87  88  89  90\n",
       "[77]  91  92  93  94  95  96  97  98  99 100"
      ]
     },
     "metadata": {},
     "output_type": "display_data"
    }
   ],
   "source": [
    "15:100"
   ]
  },
  {
   "cell_type": "markdown",
   "metadata": {},
   "source": [
    "### 4. Vectores mediante comando c()"
   ]
  },
  {
   "cell_type": "code",
   "execution_count": 15,
   "metadata": {},
   "outputs": [
    {
     "data": {
      "text/html": [
       "<ol class=list-inline>\n",
       "\t<li>10</li>\n",
       "\t<li>9.1</li>\n",
       "\t<li>3</li>\n",
       "\t<li>7.5</li>\n",
       "\t<li>6.3</li>\n",
       "\t<li>4.5</li>\n",
       "</ol>\n"
      ],
      "text/latex": [
       "\\begin{enumerate*}\n",
       "\\item 10\n",
       "\\item 9.1\n",
       "\\item 3\n",
       "\\item 7.5\n",
       "\\item 6.3\n",
       "\\item 4.5\n",
       "\\end{enumerate*}\n"
      ],
      "text/markdown": [
       "1. 10\n",
       "2. 9.1\n",
       "3. 3\n",
       "4. 7.5\n",
       "5. 6.3\n",
       "6. 4.5\n",
       "\n",
       "\n"
      ],
      "text/plain": [
       "[1] 10.0  9.1  3.0  7.5  6.3  4.5"
      ]
     },
     "metadata": {},
     "output_type": "display_data"
    }
   ],
   "source": [
    "c(10,9.1,3,7.5,6.3,4.5)"
   ]
  },
  {
   "cell_type": "markdown",
   "metadata": {},
   "source": [
    "### 5.  Variables"
   ]
  },
  {
   "cell_type": "code",
   "execution_count": 19,
   "metadata": {},
   "outputs": [],
   "source": [
    "vector <- c(10,9.1,3,7.5,6.3,4.5)"
   ]
  },
  {
   "cell_type": "code",
   "execution_count": 20,
   "metadata": {},
   "outputs": [
    {
     "data": {
      "text/html": [
       "6.3"
      ],
      "text/latex": [
       "6.3"
      ],
      "text/markdown": [
       "6.3"
      ],
      "text/plain": [
       "[1] 6.3"
      ]
     },
     "metadata": {},
     "output_type": "display_data"
    }
   ],
   "source": [
    "#así accedemos al valor del 5o elemento del vector\n",
    "vector[5]"
   ]
  },
  {
   "cell_type": "code",
   "execution_count": 21,
   "metadata": {},
   "outputs": [
    {
     "data": {
      "text/plain": [
       "   Min. 1st Qu.  Median    Mean 3rd Qu.    Max. \n",
       "  3.000   4.950   6.900   6.733   8.700  10.000 "
      ]
     },
     "metadata": {},
     "output_type": "display_data"
    }
   ],
   "source": [
    "#summary (resúmen en inglés) nos aporta la información\n",
    "#básica acerca de nuestra variable\n",
    "summary(vector)"
   ]
  },
  {
   "cell_type": "code",
   "execution_count": 22,
   "metadata": {},
   "outputs": [
    {
     "data": {
      "text/html": [
       "6.73333333333333"
      ],
      "text/latex": [
       "6.73333333333333"
      ],
      "text/markdown": [
       "6.73333333333333"
      ],
      "text/plain": [
       "[1] 6.733333"
      ]
     },
     "metadata": {},
     "output_type": "display_data"
    }
   ],
   "source": [
    "#si sólo nos interesa la media, entonces\n",
    "mean(vector)"
   ]
  },
  {
   "cell_type": "markdown",
   "metadata": {},
   "source": [
    "### ~~6. Funciones básicas~~\n",
    "### ~~7. Intoducción a las Estructuras de datos~~\n",
    "### 6. Ejemplo práctico\n",
    "Los profesores estaban ansiosos por hacer más significativo su aprendizaje. Procedimos a trabajar con un archivo muestra proporcionado por el [Profr. Fabian Hernández](mailto:hernandez.fabian1@gmail.com). Disponible para su descarga [aquí](https://www.dropbox.com/s/7okqmjlrhio0cgu/5to%20bim.csv?dl=0), que es un archivo originalmente en Excel, guardada su primer hoja como un CSV (Comma Separated Value).\n",
    "\n",
    "El archivo debe guardarse en la ruta default de RStudio, para que se pueda acceder al mismo. Si se trabaja en Windows, por lo general será copiarlo en Documentos o Mis Documentos (vers viejitas).\n",
    "\n",
    "Para no andar adivinando dónde debemos colocarlo, podemos hacer uso del comando Get Working Directory\n",
    "getwd()"
   ]
  },
  {
   "cell_type": "code",
   "execution_count": 23,
   "metadata": {},
   "outputs": [
    {
     "data": {
      "text/html": [
       "'/home/ani/Dropbox/sonora/CUCII-StatsEdu'"
      ],
      "text/latex": [
       "'/home/ani/Dropbox/sonora/CUCII-StatsEdu'"
      ],
      "text/markdown": [
       "'/home/ani/Dropbox/sonora/CUCII-StatsEdu'"
      ],
      "text/plain": [
       "[1] \"/home/ani/Dropbox/sonora/CUCII-StatsEdu\""
      ]
     },
     "metadata": {},
     "output_type": "display_data"
    }
   ],
   "source": [
    "getwd()"
   ]
  },
  {
   "cell_type": "markdown",
   "metadata": {},
   "source": [
    "obviamente mi resultado es distinto, porque desde hace años trabajo sobre GNU/Linux"
   ]
  },
  {
   "cell_type": "code",
   "execution_count": 26,
   "metadata": {},
   "outputs": [],
   "source": [
    "#una vez el archivo en la carpeta y ruta correctas, procedemos a leerlo, asignándolo a una variable\n",
    "archi <- read.csv(file = \"5to bim.csv\")"
   ]
  },
  {
   "cell_type": "markdown",
   "metadata": {},
   "source": [
    "Aprendimos que nos es de gran ayuda la tecla tabulador (o TAB, la que está arriba de BLOQ MÁYUS, la que tiene dos flechitas una a la izquierda sobre otra que va a la derecha), pues al pulsarla cuando estamos anotando los comandos, nos despliega las opciones de argumento."
   ]
  },
  {
   "cell_type": "code",
   "execution_count": 28,
   "metadata": {},
   "outputs": [
    {
     "data": {
      "text/html": [
       "<table>\n",
       "<thead><tr><th scope=col>INSTITUTO.EDUCATIVO.INTERNATIONAL..A.C.</th><th scope=col>X</th><th scope=col>X.1</th><th scope=col>X.2</th><th scope=col>X.3</th><th scope=col>X.4</th><th scope=col>X.5</th><th scope=col>X.6</th><th scope=col>X.7</th><th scope=col>X.8</th><th scope=col>⋯</th><th scope=col>X.14</th><th scope=col>X.15</th><th scope=col>X.16</th><th scope=col>X.17</th><th scope=col>X.18</th><th scope=col>X.19</th><th scope=col>X.20</th><th scope=col>X.21</th><th scope=col>X.22</th><th scope=col>X.23</th></tr></thead>\n",
       "<tbody>\n",
       "\t<tr><td>AV. MIGUEL HIDALGO NO. 127, SANTIAGO TEPALCAPA, CUAUTITLAN IZCALLI, MEXICO</td><td>                                                                          </td><td>                                                                          </td><td>                                                                          </td><td>                                                                          </td><td>                                                                          </td><td>                                                                          </td><td>NA                                                                        </td><td>                                                                          </td><td>                                                                          </td><td>⋯                                                                         </td><td>                                                                          </td><td>                                                                          </td><td>NA                                                                        </td><td>NA                                                                        </td><td>NA                                                                        </td><td>NA                                                                        </td><td>NA                                                                        </td><td>NA                                                                        </td><td>NA                                                                        </td><td>NA                                                                        </td></tr>\n",
       "\t<tr><td>C.C.T. 15PES0736E        SECCION SECUNDARIA                               </td><td>                                                                          </td><td>                                                                          </td><td>                                                                          </td><td>                                                                          </td><td>                                                                          </td><td>                                                                          </td><td>NA                                                                        </td><td>                                                                          </td><td>                                                                          </td><td>⋯                                                                         </td><td>                                                                          </td><td>                                                                          </td><td>NA                                                                        </td><td>NA                                                                        </td><td>NA                                                                        </td><td>NA                                                                        </td><td>NA                                                                        </td><td>NA                                                                        </td><td>NA                                                                        </td><td>NA                                                                        </td></tr>\n",
       "\t<tr><td>PERIODO DE EVALUACION                                                     </td><td>                                                                          </td><td>                                                                          </td><td>                                                                          </td><td>                                                                          </td><td>                                                                          </td><td>                                                                          </td><td>NA                                                                        </td><td>                                                                          </td><td>NOMBRE DE LA ASIGNATURA                                                   </td><td>⋯                                                                         </td><td>                                                                          </td><td>                                                                          </td><td>NA                                                                        </td><td>NA                                                                        </td><td>NA                                                                        </td><td>NA                                                                        </td><td>NA                                                                        </td><td>NA                                                                        </td><td>NA                                                                        </td><td>NA                                                                        </td></tr>\n",
       "\t<tr><td>                                                                          </td><td>                                                                          </td><td>                                                                          </td><td>                                                                          </td><td>                                                                          </td><td>                                                                          </td><td>                                                                          </td><td>NA                                                                        </td><td>                                                                          </td><td>                                                                          </td><td>⋯                                                                         </td><td>                                                                          </td><td>                                                                          </td><td>NA                                                                        </td><td>NA                                                                        </td><td>NA                                                                        </td><td>NA                                                                        </td><td>NA                                                                        </td><td>NA                                                                        </td><td>NA                                                                        </td><td>NA                                                                        </td></tr>\n",
       "\t<tr><td>GRUPO     2.1                                                             </td><td>                                                                          </td><td>                                                                          </td><td>Puntos Mayo                                                               </td><td>Calif. Mayo                                                               </td><td>Faltas Mayo                                                               </td><td>Demeritos Mayo                                                            </td><td>NA                                                                        </td><td>Puntos Junio                                                              </td><td>Calif. Junio                                                              </td><td>⋯                                                                         </td><td>Faltas Bim 5.                                                             </td><td>Demeritos Bim 5.                                                          </td><td>NA                                                                        </td><td>NA                                                                        </td><td>NA                                                                        </td><td>NA                                                                        </td><td>NA                                                                        </td><td>NA                                                                        </td><td>NA                                                                        </td><td>NA                                                                        </td></tr>\n",
       "\t<tr><td><span style=white-space:pre-wrap>1                                                                         </span></td><td>9737                                                                                                              </td><td>ALVAREZ S&lt;c1&gt;NCHEZ KEVIN ALEXIS                                                                             </td><td><span style=white-space:pre-wrap>110        </span>                                                               </td><td><span style=white-space:pre-wrap>9          </span>                                                               </td><td><span style=white-space:pre-wrap>1          </span>                                                               </td><td><span style=white-space:pre-wrap>0             </span>                                                            </td><td>NA                                                                                                                </td><td><span style=white-space:pre-wrap>113         </span>                                                              </td><td><span style=white-space:pre-wrap>9.3                     </span>                                                  </td><td>⋯                                                                                                                 </td><td><span style=white-space:pre-wrap>2            </span>                                                             </td><td><span style=white-space:pre-wrap>0               </span>                                                          </td><td>NA                                                                                                                </td><td>NA                                                                                                                </td><td>NA                                                                                                                </td><td>NA                                                                                                                </td><td>NA                                                                                                                </td><td>NA                                                                                                                </td><td>NA                                                                                                                </td><td>NA                                                                                                                </td></tr>\n",
       "</tbody>\n",
       "</table>\n"
      ],
      "text/latex": [
       "\\begin{tabular}{r|lllllllllllllllllllllllll}\n",
       " INSTITUTO.EDUCATIVO.INTERNATIONAL..A.C. & X & X.1 & X.2 & X.3 & X.4 & X.5 & X.6 & X.7 & X.8 & ⋯ & X.14 & X.15 & X.16 & X.17 & X.18 & X.19 & X.20 & X.21 & X.22 & X.23\\\\\n",
       "\\hline\n",
       "\t AV. MIGUEL HIDALGO NO. 127, SANTIAGO TEPALCAPA, CUAUTITLAN IZCALLI, MEXICO &                                                                            &                                                                            &                                                                            &                                                                            &                                                                            &                                                                            & NA                                                                         &                                                                            &                                                                            & ⋯                                                                          &                                                                            &                                                                            & NA                                                                         & NA                                                                         & NA                                                                         & NA                                                                         & NA                                                                         & NA                                                                         & NA                                                                         & NA                                                                        \\\\\n",
       "\t C.C.T. 15PES0736E        SECCION SECUNDARIA                                &                                                                            &                                                                            &                                                                            &                                                                            &                                                                            &                                                                            & NA                                                                         &                                                                            &                                                                            & ⋯                                                                          &                                                                            &                                                                            & NA                                                                         & NA                                                                         & NA                                                                         & NA                                                                         & NA                                                                         & NA                                                                         & NA                                                                         & NA                                                                        \\\\\n",
       "\t PERIODO DE EVALUACION                                                      &                                                                            &                                                                            &                                                                            &                                                                            &                                                                            &                                                                            & NA                                                                         &                                                                            & NOMBRE DE LA ASIGNATURA                                                    & ⋯                                                                          &                                                                            &                                                                            & NA                                                                         & NA                                                                         & NA                                                                         & NA                                                                         & NA                                                                         & NA                                                                         & NA                                                                         & NA                                                                        \\\\\n",
       "\t                                                                            &                                                                            &                                                                            &                                                                            &                                                                            &                                                                            &                                                                            & NA                                                                         &                                                                            &                                                                            & ⋯                                                                          &                                                                            &                                                                            & NA                                                                         & NA                                                                         & NA                                                                         & NA                                                                         & NA                                                                         & NA                                                                         & NA                                                                         & NA                                                                        \\\\\n",
       "\t GRUPO     2.1                                                              &                                                                            &                                                                            & Puntos Mayo                                                                & Calif. Mayo                                                                & Faltas Mayo                                                                & Demeritos Mayo                                                             & NA                                                                         & Puntos Junio                                                               & Calif. Junio                                                               & ⋯                                                                          & Faltas Bim 5.                                                              & Demeritos Bim 5.                                                           & NA                                                                         & NA                                                                         & NA                                                                         & NA                                                                         & NA                                                                         & NA                                                                         & NA                                                                         & NA                                                                        \\\\\n",
       "\t 1                                                                          & 9737                                                                       & ALVAREZ S<c1>NCHEZ KEVIN ALEXIS                                            & 110                                                                        & 9                                                                          & 1                                                                          & 0                                                                          & NA                                                                         & 113                                                                        & 9.3                                                                        & ⋯                                                                          & 2                                                                          & 0                                                                          & NA                                                                         & NA                                                                         & NA                                                                         & NA                                                                         & NA                                                                         & NA                                                                         & NA                                                                         & NA                                                                        \\\\\n",
       "\\end{tabular}\n"
      ],
      "text/markdown": [
       "\n",
       "INSTITUTO.EDUCATIVO.INTERNATIONAL..A.C. | X | X.1 | X.2 | X.3 | X.4 | X.5 | X.6 | X.7 | X.8 | ⋯ | X.14 | X.15 | X.16 | X.17 | X.18 | X.19 | X.20 | X.21 | X.22 | X.23 | \n",
       "|---|---|---|---|---|---|\n",
       "| AV. MIGUEL HIDALGO NO. 127, SANTIAGO TEPALCAPA, CUAUTITLAN IZCALLI, MEXICO |                                                                            |                                                                            |                                                                            |                                                                            |                                                                            |                                                                            | NA                                                                         |                                                                            |                                                                            | ⋯                                                                          |                                                                            |                                                                            | NA                                                                         | NA                                                                         | NA                                                                         | NA                                                                         | NA                                                                         | NA                                                                         | NA                                                                         | NA                                                                         | \n",
       "| C.C.T. 15PES0736E        SECCION SECUNDARIA                                |                                                                            |                                                                            |                                                                            |                                                                            |                                                                            |                                                                            | NA                                                                         |                                                                            |                                                                            | ⋯                                                                          |                                                                            |                                                                            | NA                                                                         | NA                                                                         | NA                                                                         | NA                                                                         | NA                                                                         | NA                                                                         | NA                                                                         | NA                                                                         | \n",
       "| PERIODO DE EVALUACION                                                      |                                                                            |                                                                            |                                                                            |                                                                            |                                                                            |                                                                            | NA                                                                         |                                                                            | NOMBRE DE LA ASIGNATURA                                                    | ⋯                                                                          |                                                                            |                                                                            | NA                                                                         | NA                                                                         | NA                                                                         | NA                                                                         | NA                                                                         | NA                                                                         | NA                                                                         | NA                                                                         | \n",
       "|                                                                            |                                                                            |                                                                            |                                                                            |                                                                            |                                                                            |                                                                            | NA                                                                         |                                                                            |                                                                            | ⋯                                                                          |                                                                            |                                                                            | NA                                                                         | NA                                                                         | NA                                                                         | NA                                                                         | NA                                                                         | NA                                                                         | NA                                                                         | NA                                                                         | \n",
       "| GRUPO     2.1                                                              |                                                                            |                                                                            | Puntos Mayo                                                                | Calif. Mayo                                                                | Faltas Mayo                                                                | Demeritos Mayo                                                             | NA                                                                         | Puntos Junio                                                               | Calif. Junio                                                               | ⋯                                                                          | Faltas Bim 5.                                                              | Demeritos Bim 5.                                                           | NA                                                                         | NA                                                                         | NA                                                                         | NA                                                                         | NA                                                                         | NA                                                                         | NA                                                                         | NA                                                                         | \n",
       "| 1                                                                          | 9737                                                                       | ALVAREZ S<c1>NCHEZ KEVIN ALEXIS                                            | 110                                                                        | 9                                                                          | 1                                                                          | 0                                                                          | NA                                                                         | 113                                                                        | 9.3                                                                        | ⋯                                                                          | 2                                                                          | 0                                                                          | NA                                                                         | NA                                                                         | NA                                                                         | NA                                                                         | NA                                                                         | NA                                                                         | NA                                                                         | NA                                                                         | \n",
       "\n",
       "\n"
      ],
      "text/plain": [
       "  INSTITUTO.EDUCATIVO.INTERNATIONAL..A.C.                                   \n",
       "1 AV. MIGUEL HIDALGO NO. 127, SANTIAGO TEPALCAPA, CUAUTITLAN IZCALLI, MEXICO\n",
       "2 C.C.T. 15PES0736E        SECCION SECUNDARIA                               \n",
       "3 PERIODO DE EVALUACION                                                     \n",
       "4                                                                           \n",
       "5 GRUPO     2.1                                                             \n",
       "6 1                                                                         \n",
       "  X    X.1                             X.2         X.3         X.4        \n",
       "1                                                                         \n",
       "2                                                                         \n",
       "3                                                                         \n",
       "4                                                                         \n",
       "5                                      Puntos Mayo Calif. Mayo Faltas Mayo\n",
       "6 9737 ALVAREZ S\\xc1NCHEZ KEVIN ALEXIS 110         9           1          \n",
       "  X.5            X.6 X.7          X.8                      ⋯ X.14         \n",
       "1                NA                                        ⋯              \n",
       "2                NA                                        ⋯              \n",
       "3                NA               NOMBRE DE LA ASIGNATURA  ⋯              \n",
       "4                NA                                        ⋯              \n",
       "5 Demeritos Mayo NA  Puntos Junio Calif. Junio             ⋯ Faltas Bim 5.\n",
       "6 0              NA  113          9.3                      ⋯ 2            \n",
       "  X.15             X.16 X.17 X.18 X.19 X.20 X.21 X.22 X.23\n",
       "1                  NA   NA   NA   NA   NA   NA   NA   NA  \n",
       "2                  NA   NA   NA   NA   NA   NA   NA   NA  \n",
       "3                  NA   NA   NA   NA   NA   NA   NA   NA  \n",
       "4                  NA   NA   NA   NA   NA   NA   NA   NA  \n",
       "5 Demeritos Bim 5. NA   NA   NA   NA   NA   NA   NA   NA  \n",
       "6 0                NA   NA   NA   NA   NA   NA   NA   NA  "
      ]
     },
     "metadata": {},
     "output_type": "display_data"
    }
   ],
   "source": [
    "#con esta orden vemos las primeras líneas del contenido de nuestra variable\n",
    "head(archi)"
   ]
  },
  {
   "cell_type": "markdown",
   "metadata": {},
   "source": [
    "Vemos que es un completo desastre, pues las observaciones comienzan después de la línea 5 y hay que leer sólo los 21 registros."
   ]
  },
  {
   "cell_type": "code",
   "execution_count": 33,
   "metadata": {},
   "outputs": [
    {
     "data": {
      "text/html": [
       "<table>\n",
       "<thead><tr><th scope=col>GRUPO.....2.1</th><th scope=col>X</th><th scope=col>X.1</th><th scope=col>Puntos.Mayo</th><th scope=col>Calif..Mayo</th><th scope=col>Faltas.Mayo</th><th scope=col>Demeritos.Mayo</th><th scope=col>X.2</th><th scope=col>Puntos.Junio</th><th scope=col>Calif..Junio</th><th scope=col>⋯</th><th scope=col>Faltas.Bim.5.</th><th scope=col>Demeritos.Bim.5.</th><th scope=col>X.4</th><th scope=col>X.5</th><th scope=col>X.6</th><th scope=col>X.7</th><th scope=col>X.8</th><th scope=col>X.9</th><th scope=col>X.10</th><th scope=col>X.11</th></tr></thead>\n",
       "<tbody>\n",
       "\t<tr><td>1                                                                                    </td><td>9737                                                                                 </td><td><span style=white-space:pre-wrap>ALVAREZ S&lt;c1&gt;NCHEZ KEVIN ALEXIS        </span></td><td>110                                                                                  </td><td> 9.0                                                                                 </td><td>1                                                                                    </td><td>0                                                                                    </td><td>NA                                                                                   </td><td>113                                                                                  </td><td> 9.3                                                                                 </td><td>⋯                                                                                    </td><td>2                                                                                    </td><td>0                                                                                    </td><td>NA                                                                                   </td><td>NA                                                                                   </td><td>NA                                                                                   </td><td>NA                                                                                   </td><td>NA                                                                                   </td><td>NA                                                                                   </td><td>NA                                                                                   </td><td>NA                                                                                   </td></tr>\n",
       "\t<tr><td>2                                                                                    </td><td>9628                                                                                 </td><td><span style=white-space:pre-wrap>ARROYO RUBIO I&lt;d1&gt;AKI IAN              </span></td><td>110                                                                                  </td><td> 9.0                                                                                 </td><td>0                                                                                    </td><td>0                                                                                    </td><td>NA                                                                                   </td><td>110                                                                                  </td><td> 9.0                                                                                 </td><td>⋯                                                                                    </td><td>0                                                                                    </td><td>0                                                                                    </td><td>NA                                                                                   </td><td>NA                                                                                   </td><td>NA                                                                                   </td><td>NA                                                                                   </td><td>NA                                                                                   </td><td>NA                                                                                   </td><td>NA                                                                                   </td><td>NA                                                                                   </td></tr>\n",
       "\t<tr><td>3                                                                                    </td><td>7801                                                                                 </td><td><span style=white-space:pre-wrap>GUZM&lt;c1&gt;N ESPINOZA IVAN                </span></td><td> 95                                                                                  </td><td> 7.5                                                                                 </td><td>0                                                                                    </td><td>0                                                                                    </td><td>NA                                                                                   </td><td> 95                                                                                  </td><td> 7.5                                                                                 </td><td>⋯                                                                                    </td><td>0                                                                                    </td><td>0                                                                                    </td><td>NA                                                                                   </td><td>NA                                                                                   </td><td>NA                                                                                   </td><td>NA                                                                                   </td><td>NA                                                                                   </td><td>NA                                                                                   </td><td>NA                                                                                   </td><td>NA                                                                                   </td></tr>\n",
       "\t<tr><td>4                                            </td><td>7529                                         </td><td>HERN&lt;c1&gt;NDEZ GRANADOS YESENIA ESMERALDA</td><td>120                                          </td><td>10.0                                         </td><td>1                                            </td><td>0                                            </td><td>NA                                           </td><td>120                                          </td><td>10.0                                         </td><td>⋯                                            </td><td>2                                            </td><td>0                                            </td><td>NA                                           </td><td>NA                                           </td><td>NA                                           </td><td>NA                                           </td><td>NA                                           </td><td>NA                                           </td><td>NA                                           </td><td>NA                                           </td></tr>\n",
       "\t<tr><td>5                                      </td><td>6137                                   </td><td>LUNA BECERRA LILIANA                   </td><td>115                                    </td><td> 9.5                                   </td><td>0                                      </td><td>0                                      </td><td>NA                                     </td><td>118                                    </td><td> 9.8                                   </td><td>⋯                                      </td><td>0                                      </td><td>0                                      </td><td>NA                                     </td><td>NA                                     </td><td>NA                                     </td><td>NA                                     </td><td>NA                                     </td><td>NA                                     </td><td>NA                                     </td><td>NA                                     </td></tr>\n",
       "\t<tr><td>6                                                                                    </td><td>6079                                                                                 </td><td><span style=white-space:pre-wrap>MART&lt;cd&gt;NEZ CASTELLANOS HAZEL          </span></td><td>120                                                                                  </td><td>10.0                                                                                 </td><td>0                                                                                    </td><td>0                                                                                    </td><td>NA                                                                                   </td><td>120                                                                                  </td><td>10.0                                                                                 </td><td>⋯                                                                                    </td><td>0                                                                                    </td><td>0                                                                                    </td><td>NA                                                                                   </td><td>NA                                                                                   </td><td>NA                                                                                   </td><td>NA                                                                                   </td><td>NA                                                                                   </td><td>NA                                                                                   </td><td>NA                                                                                   </td><td>NA                                                                                   </td></tr>\n",
       "</tbody>\n",
       "</table>\n"
      ],
      "text/latex": [
       "\\begin{tabular}{r|lllllllllllllllllllllllll}\n",
       " GRUPO.....2.1 & X & X.1 & Puntos.Mayo & Calif..Mayo & Faltas.Mayo & Demeritos.Mayo & X.2 & Puntos.Junio & Calif..Junio & ⋯ & Faltas.Bim.5. & Demeritos.Bim.5. & X.4 & X.5 & X.6 & X.7 & X.8 & X.9 & X.10 & X.11\\\\\n",
       "\\hline\n",
       "\t 1                                       & 9737                                    & ALVAREZ S<c1>NCHEZ KEVIN ALEXIS         & 110                                     &  9.0                                    & 1                                       & 0                                       & NA                                      & 113                                     &  9.3                                    & ⋯                                       & 2                                       & 0                                       & NA                                      & NA                                      & NA                                      & NA                                      & NA                                      & NA                                      & NA                                      & NA                                     \\\\\n",
       "\t 2                                       & 9628                                    & ARROYO RUBIO I<d1>AKI IAN               & 110                                     &  9.0                                    & 0                                       & 0                                       & NA                                      & 110                                     &  9.0                                    & ⋯                                       & 0                                       & 0                                       & NA                                      & NA                                      & NA                                      & NA                                      & NA                                      & NA                                      & NA                                      & NA                                     \\\\\n",
       "\t 3                                       & 7801                                    & GUZM<c1>N ESPINOZA IVAN                 &  95                                     &  7.5                                    & 0                                       & 0                                       & NA                                      &  95                                     &  7.5                                    & ⋯                                       & 0                                       & 0                                       & NA                                      & NA                                      & NA                                      & NA                                      & NA                                      & NA                                      & NA                                      & NA                                     \\\\\n",
       "\t 4                                       & 7529                                    & HERN<c1>NDEZ GRANADOS YESENIA ESMERALDA & 120                                     & 10.0                                    & 1                                       & 0                                       & NA                                      & 120                                     & 10.0                                    & ⋯                                       & 2                                       & 0                                       & NA                                      & NA                                      & NA                                      & NA                                      & NA                                      & NA                                      & NA                                      & NA                                     \\\\\n",
       "\t 5                                       & 6137                                    & LUNA BECERRA LILIANA                    & 115                                     &  9.5                                    & 0                                       & 0                                       & NA                                      & 118                                     &  9.8                                    & ⋯                                       & 0                                       & 0                                       & NA                                      & NA                                      & NA                                      & NA                                      & NA                                      & NA                                      & NA                                      & NA                                     \\\\\n",
       "\t 6                                       & 6079                                    & MART<cd>NEZ CASTELLANOS HAZEL           & 120                                     & 10.0                                    & 0                                       & 0                                       & NA                                      & 120                                     & 10.0                                    & ⋯                                       & 0                                       & 0                                       & NA                                      & NA                                      & NA                                      & NA                                      & NA                                      & NA                                      & NA                                      & NA                                     \\\\\n",
       "\\end{tabular}\n"
      ],
      "text/markdown": [
       "\n",
       "GRUPO.....2.1 | X | X.1 | Puntos.Mayo | Calif..Mayo | Faltas.Mayo | Demeritos.Mayo | X.2 | Puntos.Junio | Calif..Junio | ⋯ | Faltas.Bim.5. | Demeritos.Bim.5. | X.4 | X.5 | X.6 | X.7 | X.8 | X.9 | X.10 | X.11 | \n",
       "|---|---|---|---|---|---|\n",
       "| 1                                       | 9737                                    | ALVAREZ S<c1>NCHEZ KEVIN ALEXIS         | 110                                     |  9.0                                    | 1                                       | 0                                       | NA                                      | 113                                     |  9.3                                    | ⋯                                       | 2                                       | 0                                       | NA                                      | NA                                      | NA                                      | NA                                      | NA                                      | NA                                      | NA                                      | NA                                      | \n",
       "| 2                                       | 9628                                    | ARROYO RUBIO I<d1>AKI IAN               | 110                                     |  9.0                                    | 0                                       | 0                                       | NA                                      | 110                                     |  9.0                                    | ⋯                                       | 0                                       | 0                                       | NA                                      | NA                                      | NA                                      | NA                                      | NA                                      | NA                                      | NA                                      | NA                                      | \n",
       "| 3                                       | 7801                                    | GUZM<c1>N ESPINOZA IVAN                 |  95                                     |  7.5                                    | 0                                       | 0                                       | NA                                      |  95                                     |  7.5                                    | ⋯                                       | 0                                       | 0                                       | NA                                      | NA                                      | NA                                      | NA                                      | NA                                      | NA                                      | NA                                      | NA                                      | \n",
       "| 4                                       | 7529                                    | HERN<c1>NDEZ GRANADOS YESENIA ESMERALDA | 120                                     | 10.0                                    | 1                                       | 0                                       | NA                                      | 120                                     | 10.0                                    | ⋯                                       | 2                                       | 0                                       | NA                                      | NA                                      | NA                                      | NA                                      | NA                                      | NA                                      | NA                                      | NA                                      | \n",
       "| 5                                       | 6137                                    | LUNA BECERRA LILIANA                    | 115                                     |  9.5                                    | 0                                       | 0                                       | NA                                      | 118                                     |  9.8                                    | ⋯                                       | 0                                       | 0                                       | NA                                      | NA                                      | NA                                      | NA                                      | NA                                      | NA                                      | NA                                      | NA                                      | \n",
       "| 6                                       | 6079                                    | MART<cd>NEZ CASTELLANOS HAZEL           | 120                                     | 10.0                                    | 0                                       | 0                                       | NA                                      | 120                                     | 10.0                                    | ⋯                                       | 0                                       | 0                                       | NA                                      | NA                                      | NA                                      | NA                                      | NA                                      | NA                                      | NA                                      | NA                                      | \n",
       "\n",
       "\n"
      ],
      "text/plain": [
       "  GRUPO.....2.1 X    X.1                                     Puntos.Mayo\n",
       "1 1             9737 ALVAREZ S\\xc1NCHEZ KEVIN ALEXIS         110        \n",
       "2 2             9628 ARROYO RUBIO I\\xd1AKI IAN               110        \n",
       "3 3             7801 GUZM\\xc1N ESPINOZA IVAN                  95        \n",
       "4 4             7529 HERN\\xc1NDEZ GRANADOS YESENIA ESMERALDA 120        \n",
       "5 5             6137 LUNA BECERRA LILIANA                    115        \n",
       "6 6             6079 MART\\xcdNEZ CASTELLANOS HAZEL           120        \n",
       "  Calif..Mayo Faltas.Mayo Demeritos.Mayo X.2 Puntos.Junio Calif..Junio ⋯\n",
       "1  9.0        1           0              NA  113           9.3         ⋯\n",
       "2  9.0        0           0              NA  110           9.0         ⋯\n",
       "3  7.5        0           0              NA   95           7.5         ⋯\n",
       "4 10.0        1           0              NA  120          10.0         ⋯\n",
       "5  9.5        0           0              NA  118           9.8         ⋯\n",
       "6 10.0        0           0              NA  120          10.0         ⋯\n",
       "  Faltas.Bim.5. Demeritos.Bim.5. X.4 X.5 X.6 X.7 X.8 X.9 X.10 X.11\n",
       "1 2             0                NA  NA  NA  NA  NA  NA  NA   NA  \n",
       "2 0             0                NA  NA  NA  NA  NA  NA  NA   NA  \n",
       "3 0             0                NA  NA  NA  NA  NA  NA  NA   NA  \n",
       "4 2             0                NA  NA  NA  NA  NA  NA  NA   NA  \n",
       "5 0             0                NA  NA  NA  NA  NA  NA  NA   NA  \n",
       "6 0             0                NA  NA  NA  NA  NA  NA  NA   NA  "
      ]
     },
     "metadata": {},
     "output_type": "display_data"
    }
   ],
   "source": [
    "archi <- read.csv(file = \"5to bim.csv\",skip=5,nrow=21)\n",
    "head(archi)"
   ]
  },
  {
   "cell_type": "markdown",
   "metadata": {},
   "source": [
    "Ahora podemos hacer operaciones sobre los datos. Pero primero, para conocer todas las columnas que tenemos:"
   ]
  },
  {
   "cell_type": "code",
   "execution_count": 35,
   "metadata": {},
   "outputs": [
    {
     "data": {
      "text/html": [
       "<ol class=list-inline>\n",
       "\t<li>'GRUPO.....2.1'</li>\n",
       "\t<li>'X'</li>\n",
       "\t<li>'X.1'</li>\n",
       "\t<li>'Puntos.Mayo'</li>\n",
       "\t<li>'Calif..Mayo'</li>\n",
       "\t<li>'Faltas.Mayo'</li>\n",
       "\t<li>'Demeritos.Mayo'</li>\n",
       "\t<li>'X.2'</li>\n",
       "\t<li>'Puntos.Junio'</li>\n",
       "\t<li>'Calif..Junio'</li>\n",
       "\t<li>'Faltas.Junio'</li>\n",
       "\t<li>'Demeritos.Junio'</li>\n",
       "\t<li>'X.3'</li>\n",
       "\t<li>'Puntos.Bim.5.'</li>\n",
       "\t<li>'Calif..Bim.5.'</li>\n",
       "\t<li>'Faltas.Bim.5.'</li>\n",
       "\t<li>'Demeritos.Bim.5.'</li>\n",
       "\t<li>'X.4'</li>\n",
       "\t<li>'X.5'</li>\n",
       "\t<li>'X.6'</li>\n",
       "\t<li>'X.7'</li>\n",
       "\t<li>'X.8'</li>\n",
       "\t<li>'X.9'</li>\n",
       "\t<li>'X.10'</li>\n",
       "\t<li>'X.11'</li>\n",
       "</ol>\n"
      ],
      "text/latex": [
       "\\begin{enumerate*}\n",
       "\\item 'GRUPO.....2.1'\n",
       "\\item 'X'\n",
       "\\item 'X.1'\n",
       "\\item 'Puntos.Mayo'\n",
       "\\item 'Calif..Mayo'\n",
       "\\item 'Faltas.Mayo'\n",
       "\\item 'Demeritos.Mayo'\n",
       "\\item 'X.2'\n",
       "\\item 'Puntos.Junio'\n",
       "\\item 'Calif..Junio'\n",
       "\\item 'Faltas.Junio'\n",
       "\\item 'Demeritos.Junio'\n",
       "\\item 'X.3'\n",
       "\\item 'Puntos.Bim.5.'\n",
       "\\item 'Calif..Bim.5.'\n",
       "\\item 'Faltas.Bim.5.'\n",
       "\\item 'Demeritos.Bim.5.'\n",
       "\\item 'X.4'\n",
       "\\item 'X.5'\n",
       "\\item 'X.6'\n",
       "\\item 'X.7'\n",
       "\\item 'X.8'\n",
       "\\item 'X.9'\n",
       "\\item 'X.10'\n",
       "\\item 'X.11'\n",
       "\\end{enumerate*}\n"
      ],
      "text/markdown": [
       "1. 'GRUPO.....2.1'\n",
       "2. 'X'\n",
       "3. 'X.1'\n",
       "4. 'Puntos.Mayo'\n",
       "5. 'Calif..Mayo'\n",
       "6. 'Faltas.Mayo'\n",
       "7. 'Demeritos.Mayo'\n",
       "8. 'X.2'\n",
       "9. 'Puntos.Junio'\n",
       "10. 'Calif..Junio'\n",
       "11. 'Faltas.Junio'\n",
       "12. 'Demeritos.Junio'\n",
       "13. 'X.3'\n",
       "14. 'Puntos.Bim.5.'\n",
       "15. 'Calif..Bim.5.'\n",
       "16. 'Faltas.Bim.5.'\n",
       "17. 'Demeritos.Bim.5.'\n",
       "18. 'X.4'\n",
       "19. 'X.5'\n",
       "20. 'X.6'\n",
       "21. 'X.7'\n",
       "22. 'X.8'\n",
       "23. 'X.9'\n",
       "24. 'X.10'\n",
       "25. 'X.11'\n",
       "\n",
       "\n"
      ],
      "text/plain": [
       " [1] \"GRUPO.....2.1\"    \"X\"                \"X.1\"              \"Puntos.Mayo\"     \n",
       " [5] \"Calif..Mayo\"      \"Faltas.Mayo\"      \"Demeritos.Mayo\"   \"X.2\"             \n",
       " [9] \"Puntos.Junio\"     \"Calif..Junio\"     \"Faltas.Junio\"     \"Demeritos.Junio\" \n",
       "[13] \"X.3\"              \"Puntos.Bim.5.\"    \"Calif..Bim.5.\"    \"Faltas.Bim.5.\"   \n",
       "[17] \"Demeritos.Bim.5.\" \"X.4\"              \"X.5\"              \"X.6\"             \n",
       "[21] \"X.7\"              \"X.8\"              \"X.9\"              \"X.10\"            \n",
       "[25] \"X.11\"            "
      ]
     },
     "metadata": {},
     "output_type": "display_data"
    }
   ],
   "source": [
    "#variables\n",
    "names(archi)"
   ]
  },
  {
   "cell_type": "code",
   "execution_count": 36,
   "metadata": {},
   "outputs": [
    {
     "data": {
      "text/plain": [
       "   Min. 1st Qu.  Median    Mean 3rd Qu.    Max. \n",
       "   7.50    9.00    9.50    9.29   10.00   10.00 "
      ]
     },
     "metadata": {},
     "output_type": "display_data"
    }
   ],
   "source": [
    "#veamos cómo se dieron las calificaciones finales\n",
    "summary(archi$Calif..Bim.5.)"
   ]
  },
  {
   "cell_type": "code",
   "execution_count": 37,
   "metadata": {},
   "outputs": [
    {
     "data": {
      "image/png": "[encoded data removed]",
      "text/plain": [
       "Plot with title “Histogram of archi$Calif..Bim.5.”"
      ]
     },
     "metadata": {},
     "output_type": "display_data"
    }
   ],
   "source": [
    "#grafiquemos el histograma\n",
    "hist(archi$Calif..Bim.5.)"
   ]
  },
  {
   "cell_type": "markdown",
   "metadata": {},
   "source": [
    "O hagamos una representación gráfica de los datos del summary (resúmen) a través de un boxplot"
   ]
  },
  {
   "cell_type": "code",
   "execution_count": 38,
   "metadata": {},
   "outputs": [
    {
     "data": {
      "image/png": "[encoded data removed]",
      "text/plain": [
       "plot without title"
      ]
     },
     "metadata": {},
     "output_type": "display_data"
    }
   ],
   "source": [
    "boxplot(archi$Calif..Bim.5.)"
   ]
  },
  {
   "cell_type": "code",
   "execution_count": null,
   "metadata": {},
   "outputs": [],
   "source": []
  }
 ],
 "metadata": {
  "kernelspec": {
   "display_name": "R",
   "language": "R",
   "name": "ir"
  },
  "language_info": {
   "codemirror_mode": "r",
   "file_extension": ".r",
   "mimetype": "text/x-r-source",
   "name": "R",
   "pygments_lexer": "r",
   "version": "3.4.3"
  }
 },
 "nbformat": 4,
 "nbformat_minor": 2
}
